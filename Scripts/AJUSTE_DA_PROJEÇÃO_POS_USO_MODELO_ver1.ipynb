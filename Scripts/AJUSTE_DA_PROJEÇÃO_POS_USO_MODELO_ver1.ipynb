{
  "cells": [
    {
      "cell_type": "markdown",
      "metadata": {
        "id": "view-in-github",
        "colab_type": "text"
      },
      "source": [
        "<a href=\"https://colab.research.google.com/github/NPCA-TEAM/COVID-19/blob/main/Scripts/AJUSTE_DA_PROJE%C3%87%C3%83O_POS_USO_MODELO_ver1.ipynb\" target=\"_parent\"><img src=\"https://colab.research.google.com/assets/colab-badge.svg\" alt=\"Open In Colab\"/></a>"
      ]
    },
    {
      "cell_type": "markdown",
      "metadata": {
        "id": "qMzLCqZHfNDE"
      },
      "source": [
        "# **Preparação preliminar**"
      ]
    },
    {
      "cell_type": "code",
      "execution_count": null,
      "metadata": {
        "colab": {
          "base_uri": "https://localhost:8080/"
        },
        "id": "qQo55VbgfF0T",
        "outputId": "65299646-d2ef-43ce-ca76-ba52a27ae9de"
      },
      "outputs": [
        {
          "output_type": "stream",
          "name": "stdout",
          "text": [
            "Mounted at /content/drive\n"
          ]
        }
      ],
      "source": [
        "#Inicia permitindo acesso ao Gdrive\n",
        "from google.colab import drive\n",
        "drive.mount('/content/drive')"
      ]
    },
    {
      "cell_type": "markdown",
      "metadata": {
        "id": "0t-FW6_3gLdh"
      },
      "source": [
        "## Instalação das bibliotecas"
      ]
    },
    {
      "cell_type": "code",
      "execution_count": null,
      "metadata": {
        "id": "2HH5zsEmgACP"
      },
      "outputs": [],
      "source": [
        "!pip install pyyaml==5.4.1"
      ]
    },
    {
      "cell_type": "code",
      "execution_count": null,
      "metadata": {
        "id": "N0tRsevNf7WP"
      },
      "outputs": [],
      "source": [
        "!pip install darts"
      ]
    },
    {
      "cell_type": "code",
      "execution_count": null,
      "metadata": {
        "id": "eUnbyjtgf1gh"
      },
      "outputs": [],
      "source": [
        "!pip install matplotlib==3.6.2"
      ]
    },
    {
      "cell_type": "code",
      "source": [
        "!pip install -U csaps"
      ],
      "metadata": {
        "id": "SVnwN3LYdiQj"
      },
      "execution_count": null,
      "outputs": []
    },
    {
      "cell_type": "markdown",
      "metadata": {
        "id": "JG0BOKpegZPq"
      },
      "source": [
        "## Importação das bibliotecas"
      ]
    },
    {
      "cell_type": "code",
      "execution_count": null,
      "metadata": {
        "id": "I1k-dSCNgkjl"
      },
      "outputs": [],
      "source": [
        "%load_ext autoreload\n",
        "%autoreload 2\n",
        "%matplotlib inline\n",
        "\n",
        "import pandas as pd\n",
        "import numpy as np\n",
        "import glob\n",
        "import os\n",
        "import sys\n",
        "import time\n",
        "import json\n",
        "\n",
        "import matplotlib.pyplot as plt\n",
        "from matplotlib.dates import DateFormatter\n",
        "import matplotlib.dates as mdates\n",
        "\n",
        "from datetime import datetime\n",
        "from darts import timeseries\n",
        "from darts.dataprocessing.transformers import Scaler\n",
        "from darts import TimeSeries\n",
        "\n",
        "from darts.models import (    \n",
        "    NBEATSModel,\n",
        "    TCNModel,\n",
        "    TransformerModel,\n",
        "    TFTModel,\n",
        "    NHiTSModel\n",
        ")\n",
        "\n",
        "from darts.utils.timeseries_generation import datetime_attribute_timeseries\n",
        "from darts.models import KalmanFilter\n",
        "from csaps import csaps\n",
        "\n",
        "import warnings\n",
        "warnings.filterwarnings('ignore')\n",
        "import logging\n",
        "logging.disable(logging.CRITICAL)\n",
        "np.random.seed(1)  # for reproducibility"
      ]
    },
    {
      "cell_type": "markdown",
      "metadata": {
        "id": "l-WeF7kQxVMW"
      },
      "source": [
        "# **Importação dos dados**"
      ]
    },
    {
      "cell_type": "markdown",
      "metadata": {
        "id": "oY7UGMfwhMjX"
      },
      "source": [
        "## Dados e campos de entrada"
      ]
    },
    {
      "cell_type": "code",
      "execution_count": null,
      "metadata": {
        "id": "tk__lAHbiFkW"
      },
      "outputs": [],
      "source": [
        "# Caminhos dos datasets\n",
        "path_fittedforecast_casos = '/content/drive/MyDrive/NPCA - COVID/_CASOS/FittedForecastsPosSelectedModel/'\n",
        "path_fittedforecast_obitos = '/content/drive/MyDrive/NPCA - COVID/_OBITOS/FittedForecastsPosSelectedModel/'\n",
        "\n",
        "path_limits_casos = '/content/drive/MyDrive/NPCA - COVID/_CASOS/ResultsOfSelectedModel/MarginOfError/'\n",
        "path_limits_obitos = '/content/drive/MyDrive/NPCA - COVID/_OBITOS/ResultsOfSelectedModel/MarginOfError/'\n",
        "\n",
        "#Pasta para salvar dados gerados \n",
        "path_figs_casos = '/content/drive/MyDrive/NPCA - COVID/_CASOS/Figs/'\n",
        "path_figs_obitos = '/content/drive/MyDrive/NPCA - COVID/_OBITOS/Figs/'\n",
        "\n",
        "path_csv_casos = '/content/drive/MyDrive/NPCA - COVID/_CASOS/ForecastsPredict/'\n",
        "path_csv_obitos = '/content/drive/MyDrive/NPCA - COVID/_OBITOS/ForecastsPredict/'"
      ]
    },
    {
      "cell_type": "markdown",
      "metadata": {
        "id": "AlgKvQKkvpt4"
      },
      "source": [
        "## Leitura do dataset e seleção das variáveis"
      ]
    },
    {
      "cell_type": "code",
      "source": [
        "# Obtenção e ordenação de lisa de dataframes para casos\n",
        "file_list_dataframe_casos = glob.glob(f'{path_fittedforecast_casos}*.xlsx')\n",
        "sorted_list_dataframe_casos = sorted(file_list_dataframe_casos, key=os.path.getctime, reverse = True)\n",
        "\n",
        "# Filtro para seleção do arquivo apropriado\n",
        "dataframe_casos_publicacao = pd.read_excel(list(filter(lambda x: 'publicacao' in x, sorted_list_dataframe_casos))[0])\n",
        "dataframe_casos_sintomas = pd.read_excel(list(filter(lambda x: 'sintomas' in x, sorted_list_dataframe_casos))[0])\n",
        "\n",
        "\n",
        "# Obtenção e ordenação de lisa de dataframes para a margem de erro de casos\n",
        "file_list_limits_casos = glob.glob(f'{path_limits_casos}*.csv')\n",
        "sorted_list_limits_casos = sorted(file_list_limits_casos, key=os.path.getctime, reverse = True)\n",
        "\n",
        "# Filtro para seleção do arquivo apropriado\n",
        "limites_casos_publicacao = pd.read_csv(list(filter(lambda x: 'publicacao' in x, sorted_list_limits_casos))[0])\n",
        "limites_casos_sintomas = pd.read_csv(list(filter(lambda x: 'sintomas' in x, sorted_list_limits_casos))[0])"
      ],
      "metadata": {
        "id": "-wcXJLA87Lno"
      },
      "execution_count": null,
      "outputs": []
    },
    {
      "cell_type": "code",
      "source": [
        "# Obtenção e ordenação de lisa de dataframes para obitos\n",
        "file_list_dataframe_obitos = glob.glob(f'{path_fittedforecast_obitos}*.xlsx')\n",
        "sorted_list_dataframe_obitos = sorted(file_list_dataframe_obitos, key=os.path.getctime, reverse = True)\n",
        "\n",
        "# Filtro para seleção do arquivo apropriado\n",
        "dataframe_obitos_publicacao = pd.read_excel(list(filter(lambda x: 'publicacao' in x, sorted_list_dataframe_obitos))[0])\n",
        "dataframe_obitos_ocorrencia = pd.read_excel(list(filter(lambda x: 'ocorrencia' in x, sorted_list_dataframe_obitos))[0])\n",
        "\n",
        "\n",
        "# Obtenção e ordenação de lisa de dataframes para a margem de erro de obitos\n",
        "file_list_limits_obitos = glob.glob(f'{path_limits_obitos}*.csv')\n",
        "sorted_list_limits_obitos = sorted(file_list_limits_obitos, key=os.path.getctime, reverse = True)\n",
        "\n",
        "# Filtro para seleção do arquivo apropriado\n",
        "limites_obitos_publicacao = pd.read_csv(list(filter(lambda x: 'publicacao' in x, sorted_list_limits_obitos))[0])\n",
        "limites_obitos_ocorrencia = pd.read_csv(list(filter(lambda x: 'ocorrencia' in x, sorted_list_limits_obitos))[0])"
      ],
      "metadata": {
        "id": "p7GgGC83_abo"
      },
      "execution_count": null,
      "outputs": []
    },
    {
      "cell_type": "code",
      "execution_count": null,
      "metadata": {
        "id": "JUm3y2IMv7F7"
      },
      "outputs": [],
      "source": [
        "# Seleção das variáveis alvo\n",
        "casos_publicacao = dataframe_casos_publicacao.loc[:, ['day', 'obs','sim','fitted']]\n",
        "casos_sintomas = dataframe_casos_sintomas.loc[:, ['day', 'obs','sim','fitted']]\n",
        "\n",
        "obitos_publicacao = dataframe_obitos_publicacao.loc[:, ['day', 'obs','sim','fitted']]\n",
        "obitos_ocorrencia = dataframe_obitos_ocorrencia.loc[:, ['day', 'obs','sim','fitted']]\n",
        "\n",
        "\n",
        "# Renomeaçõa da variavel de tempo\n",
        "casos_publicacao.rename(columns = {'day':'data'}, inplace = True)\n",
        "casos_sintomas.rename(columns = {'day':'data'}, inplace = True)\n",
        "\n",
        "obitos_publicacao.rename(columns = {'day':'data'}, inplace = True)\n",
        "obitos_ocorrencia.rename(columns = {'day':'data'}, inplace = True)"
      ]
    },
    {
      "cell_type": "code",
      "source": [
        "obitos_publicacao"
      ],
      "metadata": {
        "id": "KtHPJY769msg"
      },
      "execution_count": null,
      "outputs": []
    },
    {
      "cell_type": "markdown",
      "metadata": {
        "id": "p6Hpw3a3xdgi"
      },
      "source": [
        "# **Pre-processamento dos dados**"
      ]
    },
    {
      "cell_type": "markdown",
      "metadata": {
        "id": "HST66_759yGS"
      },
      "source": [
        "## Instanciação das séries temporais"
      ]
    },
    {
      "cell_type": "code",
      "execution_count": null,
      "metadata": {
        "id": "6zjF-Egq95St"
      },
      "outputs": [],
      "source": [
        "# criação das séries temporais alvos de casos\n",
        "serie_casos_publicacao = timeseries.TimeSeries.from_dataframe(df=casos_publicacao, time_col='data')\n",
        "serie_casos_sintomas = timeseries.TimeSeries.from_dataframe(df=casos_sintomas, time_col='data')\n",
        "\n",
        "serie_casos_publicacao.plot()\n",
        "serie_casos_sintomas.plot()"
      ]
    },
    {
      "cell_type": "code",
      "source": [
        "# criação das séries temporais alvos de obitos\n",
        "serie_obitos_publicacao = timeseries.TimeSeries.from_dataframe(df=obitos_publicacao, time_col='data')\n",
        "serie_obitos_ocorrencia = timeseries.TimeSeries.from_dataframe(df=obitos_ocorrencia, time_col='data')\n",
        "\n",
        "serie_obitos_publicacao.plot()\n",
        "#serie_obitos_ocorrencia.plot()"
      ],
      "metadata": {
        "id": "VywWs0P3O-ei"
      },
      "execution_count": null,
      "outputs": []
    },
    {
      "cell_type": "code",
      "source": [
        "# Criação das series temporais das margens de erro de casos\n",
        "serie_limites_casos_publicacao = timeseries.TimeSeries.from_dataframe(df=limites_casos_publicacao, time_col='data')\n",
        "serie_limites_casos_sintomas = timeseries.TimeSeries.from_dataframe(df=limites_casos_sintomas, time_col='data')\n",
        "\n",
        "#serie_limites_casos_publicacao.plot()\n",
        "#serie_casos_publicacao['sim'].plot()\n",
        "\n",
        "serie_limites_casos_sintomas.plot()\n",
        "serie_casos_sintomas['sim'].plot()"
      ],
      "metadata": {
        "id": "InJrF3Stn7QH"
      },
      "execution_count": null,
      "outputs": []
    },
    {
      "cell_type": "code",
      "source": [
        "# Criação das series temporais das margens de erro de obitos\n",
        "serie_limites_obitos_publicacao = timeseries.TimeSeries.from_dataframe(df=limites_obitos_publicacao, time_col='data')\n",
        "serie_limites_obitos_ocorrencia = timeseries.TimeSeries.from_dataframe(df=limites_obitos_ocorrencia, time_col='data')\n",
        "\n",
        "#serie_limites_obitos_publicacao.plot()\n",
        "#serie_obitos_publicacao['sim'].plot()\n",
        "\n",
        "serie_limites_obitos_ocorrencia.plot()\n",
        "serie_obitos_ocorrencia['sim'].plot()"
      ],
      "metadata": {
        "id": "69n58ksnRKn3"
      },
      "execution_count": null,
      "outputs": []
    },
    {
      "cell_type": "markdown",
      "source": [
        "## Filtro de suavisação"
      ],
      "metadata": {
        "id": "wiyIEJCvbSVu"
      }
    },
    {
      "cell_type": "code",
      "source": [
        "def smoothing_splines_filter(serie):\n",
        "  y_serieValues=serie.values()\n",
        "  ind_final = len(y_serieValues)\n",
        "  y_serieValues = y_serieValues.flatten().copy()\n",
        "  x_serieValues = np.array(range(0,ind_final))\n",
        "\n",
        "  yi_serieValues, smooth_serieValues = csaps(x_serieValues, y_serieValues, x_serieValues)\n",
        "  \n",
        "  time_idx = serie.time_index\n",
        "  smooth_serie = TimeSeries.from_times_and_values(time_idx, yi_serieValues,columns=serie.columns)\n",
        "  return smooth_serie"
      ],
      "metadata": {
        "id": "-KWRPEG_g0w-"
      },
      "execution_count": null,
      "outputs": []
    },
    {
      "cell_type": "code",
      "source": [
        "casos_publicacao_limitsup_suav = smoothing_splines_filter(serie_limites_casos_publicacao['Casos_Publicacao_Max'])\n",
        "casos_publicacao_limitinf_suav = smoothing_splines_filter(serie_limites_casos_publicacao['Casos_Publicacao_Min'])"
      ],
      "metadata": {
        "id": "p08Oj2LLcNh5"
      },
      "execution_count": null,
      "outputs": []
    },
    {
      "cell_type": "code",
      "source": [
        "casos_sintomas_limitsup_suav = smoothing_splines_filter(serie_limites_casos_sintomas['Casos_DataSintoma_Max'])\n",
        "casos_sintomas_limitinf_suav = smoothing_splines_filter(serie_limites_casos_sintomas['Casos_DataSintoma_Min'])"
      ],
      "metadata": {
        "id": "9DUObcb2iwcR"
      },
      "execution_count": null,
      "outputs": []
    },
    {
      "cell_type": "code",
      "source": [
        "obitos_publicacao_limitsup_suav = smoothing_splines_filter(serie_limites_obitos_publicacao['Obitos_Publicacao_Max'])\n",
        "obitos_publicacao_limitinf_suav = smoothing_splines_filter(serie_limites_obitos_publicacao['Obitos_Publicacao_Min'])"
      ],
      "metadata": {
        "id": "KRAgCSbOrUwr"
      },
      "execution_count": null,
      "outputs": []
    },
    {
      "cell_type": "code",
      "source": [
        "obitos_ocorrencia_limitsup_suav = smoothing_splines_filter(serie_limites_obitos_ocorrencia['Obitos_DataOcorrencia_Max'])\n",
        "obitos_ocorrencia_limitinf_suav = smoothing_splines_filter(serie_limites_obitos_ocorrencia['Obitos_DataOcorrencia_Min'])"
      ],
      "metadata": {
        "id": "PZN-03cIrU-5"
      },
      "execution_count": null,
      "outputs": []
    },
    {
      "cell_type": "markdown",
      "source": [
        "##Gerar novos limites"
      ],
      "metadata": {
        "id": "eRUIaqHHmojk"
      }
    },
    {
      "cell_type": "code",
      "source": [
        "def calculate_new_limits(limsup, liminf, proj, newproj): \n",
        "  # Mover a margem de erro em proporção ao projetado\n",
        "  newlimitsup = abs(limsup - proj) + newproj\n",
        "  newlimitinf = (abs(liminf - proj) - newproj)*-1\n",
        "\n",
        "  return newlimitsup, newlimitinf"
      ],
      "metadata": {
        "id": "KNSPsaCCmr9X"
      },
      "execution_count": null,
      "outputs": []
    },
    {
      "cell_type": "code",
      "source": [
        "# Ajuste da margem de erro para casos\n",
        "casos_publicacao_limitsup, casos_publicacao_limitinf = calculate_new_limits(casos_publicacao_limitsup_suav,\n",
        "                                                                            casos_publicacao_limitinf_suav,\n",
        "                                                                            serie_casos_publicacao['sim'],\n",
        "                                                                            serie_casos_publicacao['fitted'])\n",
        "\n",
        "\n",
        "casos_sintomas_limitsup, casos_sintomas_limitinf = calculate_new_limits(casos_sintomas_limitsup_suav, \n",
        "                                                                        casos_sintomas_limitinf_suav, \n",
        "                                                                        serie_casos_sintomas['sim'], \n",
        "                                                                        serie_casos_sintomas['fitted'])\n",
        "\n",
        "\n",
        "#casos_publicacao_limitsup.plot()\n",
        "#casos_publicacao_limitinf.plot()\n",
        "#serie_casos_publicacao['fitted'].plot()\n",
        "\n",
        "#casos_sintomas_limitsup.plot()\n",
        "#casos_sintomas_limitinf.plot()\n",
        "#serie_casos_sintomas['fitted'].plot()"
      ],
      "metadata": {
        "id": "ngmxG2ozmsbT"
      },
      "execution_count": null,
      "outputs": []
    },
    {
      "cell_type": "code",
      "source": [
        "# Ajuste da margem de erro para obitos\n",
        "obitos_publicacao_limitsup, obitos_publicacao_limitinf = calculate_new_limits(obitos_publicacao_limitsup_suav,\n",
        "                                                                              obitos_publicacao_limitinf_suav,\n",
        "                                                                              serie_obitos_publicacao['sim'],\n",
        "                                                                              serie_obitos_publicacao['fitted'])\n",
        "\n",
        "\n",
        "obitos_ocorrencia_limitsup, obitos_ocorrencia_limitinf = calculate_new_limits(obitos_ocorrencia_limitsup_suav,\n",
        "                                                                              obitos_ocorrencia_limitinf_suav,\n",
        "                                                                              serie_obitos_ocorrencia['sim'],\n",
        "                                                                              serie_obitos_ocorrencia['fitted'])\n",
        "\n",
        "\n",
        "#obitos_publicacao_limitsup.plot()\n",
        "#obitos_publicacao_limitinf.plot()\n",
        "#serie_obitos_publicacao['fitted'].plot()\n",
        "\n",
        "#obitos_ocorrencia_limitsup.plot()\n",
        "#obitos_ocorrencia_limitinf.plot()\n",
        "#serie_obitos_ocorrencia['fitted'].plot()"
      ],
      "metadata": {
        "id": "Fi9rPY9aZFJm"
      },
      "execution_count": null,
      "outputs": []
    },
    {
      "cell_type": "markdown",
      "metadata": {
        "id": "Vcs5Qlpmw4c0"
      },
      "source": [
        "# **Exportação e visualização**"
      ]
    },
    {
      "cell_type": "markdown",
      "metadata": {
        "id": "Se1WVKhwadIe"
      },
      "source": [
        "## Preparação para plotagem e exportação"
      ]
    },
    {
      "cell_type": "markdown",
      "source": [
        "### Com os limites"
      ],
      "metadata": {
        "id": "UDBcDwJRGf2f"
      }
    },
    {
      "cell_type": "code",
      "execution_count": null,
      "metadata": {
        "id": "XRerJm4TjJXY"
      },
      "outputs": [],
      "source": [
        "def plot_preparation (serie, limitsup, limitinf, real, serie_name):\n",
        "  # Prearação da serie\n",
        "  serie_real = real.pd_dataframe()\n",
        "  serie_median = serie.pd_dataframe()\n",
        "  serie_max = limitsup.pd_dataframe()\n",
        "  serie_min = limitinf.pd_dataframe()\n",
        "  \n",
        "  serie_real['obs'] = np.where(serie_real['obs'] < 0, 0, serie_real['obs'])\n",
        "  serie_median['fitted'] = np.where(serie_median['fitted'] < 0, 0, serie_median['fitted'])\n",
        "  serie_max[f'{serie_name}_Max'] = np.where(serie_max[f'{serie_name}_Max'] < 0, 0, serie_max[f'{serie_name}_Max'])\n",
        "  serie_min[f'{serie_name}_Min'] = np.where(serie_min[f'{serie_name}_Min'] < 0, 0, serie_min[f'{serie_name}_Min'])\n",
        "\n",
        "  serie_real.rename(columns = {'obs':'Observed'}, inplace=True)\n",
        "  serie_median.rename(columns = {'fitted':'Simulated'}, inplace=True)\n",
        "  serie_max.rename(columns = {f'{serie_name}_Max':'Superior Margin'}, inplace = True)\n",
        "  serie_min.rename(columns = {f'{serie_name}_Min':'Inferior Margin'}, inplace = True)\n",
        "\n",
        "  return serie_real, serie_median, serie_max, serie_min"
      ]
    },
    {
      "cell_type": "code",
      "execution_count": null,
      "metadata": {
        "id": "vcSU-Hj-akak"
      },
      "outputs": [],
      "source": [
        "#Preparação dos dados para plotagem\n",
        "casos_publicacao_real, casos_publicacao_median, casos_publicacao_max, casos_publicacao_min = plot_preparation(serie_casos_publicacao['fitted'],\n",
        "                                                                                                              casos_publicacao_limitsup, casos_publicacao_limitinf,\n",
        "                                                                                                              serie_casos_publicacao['obs'], 'Casos_Publicacao')"
      ]
    },
    {
      "cell_type": "code",
      "execution_count": null,
      "metadata": {
        "id": "yZQSY9czgGss"
      },
      "outputs": [],
      "source": [
        "#Preparação dos dados para plotagem\n",
        "casos_sintomas_real, casos_sintomas_median, casos_sintomas_max, casos_sintomas_min = plot_preparation(serie_casos_sintomas['fitted'],\n",
        "                                                                                                      casos_sintomas_limitsup, casos_sintomas_limitinf,\n",
        "                                                                                                      serie_casos_sintomas['obs'], 'Casos_DataSintoma')"
      ]
    },
    {
      "cell_type": "code",
      "execution_count": null,
      "metadata": {
        "id": "zwnnsSmw1PHY"
      },
      "outputs": [],
      "source": [
        "#Preparação dos dados para plotagem\n",
        "obitos_publicacao_real, obitos_publicacao_median, obitos_publicacao_max, obitos_publicacao_min = plot_preparation(serie_obitos_publicacao['fitted'],\n",
        "                                                                                                                  obitos_publicacao_limitsup, obitos_publicacao_limitinf,\n",
        "                                                                                                                  serie_obitos_publicacao['obs'], 'Obitos_Publicacao')"
      ]
    },
    {
      "cell_type": "code",
      "execution_count": null,
      "metadata": {
        "id": "pK3PDx6zgL8y"
      },
      "outputs": [],
      "source": [
        "#Preparação dos dados para plotagem\n",
        "obitos_ocorrencia_real, obitos_ocorrencia_median, obitos_ocorrencia_max, obitos_ocorrencia_min = plot_preparation(serie_obitos_ocorrencia['fitted'],\n",
        "                                                                                                                  obitos_ocorrencia_limitsup, obitos_ocorrencia_limitinf,\n",
        "                                                                                                                  serie_obitos_ocorrencia['obs'], 'Obitos_DataOcorrencia')"
      ]
    },
    {
      "cell_type": "markdown",
      "source": [
        "### Sem os limites"
      ],
      "metadata": {
        "id": "cgqeiU8VEGi7"
      }
    },
    {
      "cell_type": "code",
      "source": [
        "def plot_preparation (serie, real, serie_name):\n",
        "  # Prearação da serie\n",
        "  serie_real = real.pd_dataframe()\n",
        "  serie_median = serie.pd_dataframe()\n",
        "  \n",
        "  serie_real['obs'] = np.where(serie_real['obs'] < 0, 0, serie_real['obs'])\n",
        "  serie_median['fitted'] = np.where(serie_median['fitted'] < 0, 0, serie_median['fitted'])\n",
        "\n",
        "  serie_real.rename(columns = {'obs':'Observed'}, inplace=True)\n",
        "  serie_median.rename(columns = {'fitted':'Simulated'}, inplace=True)\n",
        "\n",
        "  return serie_real, serie_median"
      ],
      "metadata": {
        "id": "B725B2dPENO6"
      },
      "execution_count": null,
      "outputs": []
    },
    {
      "cell_type": "code",
      "source": [
        "#Preparação dos dados para plotagem\n",
        "casos_publicacao_real, casos_publicacao_median = plot_preparation(serie_casos_publicacao['fitted'], serie_casos_publicacao['obs'], 'Casos_Publicacao')"
      ],
      "metadata": {
        "id": "UpM96ZGSEY_A"
      },
      "execution_count": null,
      "outputs": []
    },
    {
      "cell_type": "code",
      "source": [
        "#Preparação dos dados para plotagem\n",
        "casos_sintomas_real, casos_sintomas_median = plot_preparation(serie_casos_sintomas['fitted'], serie_casos_sintomas['obs'], 'Casos_DataSintoma')"
      ],
      "metadata": {
        "id": "6LxTbBXmErR9"
      },
      "execution_count": null,
      "outputs": []
    },
    {
      "cell_type": "code",
      "source": [
        "#Preparação dos dados para plotagem\n",
        "obitos_publicacao_real, obitos_publicacao_median = plot_preparation(serie_obitos_publicacao['fitted'], serie_obitos_publicacao['obs'], 'Obitos_Publicacao')"
      ],
      "metadata": {
        "id": "47c-s89ME1kD"
      },
      "execution_count": null,
      "outputs": []
    },
    {
      "cell_type": "code",
      "source": [
        "#Preparação dos dados para plotagem\n",
        "obitos_ocorrencia_real, obitos_ocorrencia_median = plot_preparation(serie_obitos_ocorrencia['fitted'], serie_obitos_ocorrencia['obs'], 'Obitos_DataOcorrencia')"
      ],
      "metadata": {
        "id": "-xrFyoBnE7N5"
      },
      "execution_count": null,
      "outputs": []
    },
    {
      "cell_type": "markdown",
      "metadata": {
        "id": "YxNxlR7rDU2E"
      },
      "source": [
        "##Exportação dos dataframes com as predições"
      ]
    },
    {
      "cell_type": "code",
      "source": [
        "experiment_date = input('Data do experimento: ')\n",
        "\n",
        "ModeloName_casos_publicacao = input('Nome do modelo para casos publicaçao: ')\n",
        "ModeloName_casos_sintomas = input('Nome do modelo para casos sintomas: ')\n",
        "\n",
        "ModeloName_obitos_publicacao = input('Nome do modelo para obitos publicaçao: ')\n",
        "ModeloName_obitos_ocorrencia = input('Nome do modelo para obitos ocorrencia: ')"
      ],
      "metadata": {
        "id": "qDm7e7WFsOk9"
      },
      "execution_count": null,
      "outputs": []
    },
    {
      "cell_type": "markdown",
      "source": [
        "### Com os limites"
      ],
      "metadata": {
        "id": "QvGhU77KGGdf"
      }
    },
    {
      "cell_type": "code",
      "source": [
        "# Exportação das previsões para casos\n",
        "casos_publicacao_toExport = pd.concat([casos_publicacao_real, casos_publicacao_median, casos_publicacao_min, casos_publicacao_max], axis=1)\n",
        "casos_sintomas_toExport = pd.concat([casos_sintomas_real, casos_sintomas_median, casos_sintomas_min, casos_sintomas_max], axis=1)\n",
        "\n",
        "casos_publicacao_toExport.index.name = 'Date'\n",
        "casos_sintomas_toExport.index.name = 'Date'\n",
        "\n",
        "casos_publicacao_toExport.to_csv(path_or_buf = f'{path_fittedforecast_casos}/casos_publicacao_fittedforecast_{ModeloName_casos_publicacao}_{experiment_date}.csv')\n",
        "casos_sintomas_toExport.to_csv(path_or_buf = f'{path_fittedforecast_casos}/casos_sintomas_fittedforecast_{ModeloName_casos_sintomas}_{experiment_date}.csv')"
      ],
      "metadata": {
        "id": "BZQW1jLbsaBW"
      },
      "execution_count": null,
      "outputs": []
    },
    {
      "cell_type": "code",
      "source": [
        "# Exportação das previsões para casos\n",
        "obitos_publicacao_toExport = pd.concat([obitos_publicacao_real, obitos_publicacao_median, obitos_publicacao_min, obitos_publicacao_max], axis=1)\n",
        "obitos_ocorrencia_toExport = pd.concat([obitos_ocorrencia_real, obitos_ocorrencia_median, obitos_ocorrencia_min, obitos_ocorrencia_max], axis=1)\n",
        "\n",
        "obitos_publicacao_toExport.index.name = 'Date'\n",
        "obitos_ocorrencia_toExport.index.name = 'Date'\n",
        "\n",
        "obitos_publicacao_toExport.to_csv(path_or_buf = f'{path_fittedforecast_obitos}/obitos_publicacao_fittedforecast_{ModeloName_obitos_publicacao}_{experiment_date}.csv')\n",
        "obitos_ocorrencia_toExport.to_csv(path_or_buf = f'{path_fittedforecast_obitos}/obitos_ocorrencia_fittedforecast_{ModeloName_obitos_ocorrencia}_{experiment_date}.csv')"
      ],
      "metadata": {
        "id": "3MzhGaxz0D1t"
      },
      "execution_count": null,
      "outputs": []
    },
    {
      "cell_type": "markdown",
      "source": [
        "### Sem os limites"
      ],
      "metadata": {
        "id": "fdYwHGJ2F9mX"
      }
    },
    {
      "cell_type": "code",
      "source": [
        "# Exportação das previsões para casos\n",
        "casos_publicacao_toExport = pd.concat([casos_publicacao_real, casos_publicacao_median], axis=1)\n",
        "casos_sintomas_toExport = pd.concat([casos_sintomas_real, casos_sintomas_median], axis=1)\n",
        "\n",
        "casos_publicacao_toExport.index.name = 'Date'\n",
        "casos_sintomas_toExport.index.name = 'Date'\n",
        "\n",
        "casos_publicacao_toExport.to_csv(path_or_buf = f'{path_fittedforecast_casos}/casos_publicacao_fittedforecast_{ModeloName_casos_publicacao}_{experiment_date}.csv')\n",
        "casos_sintomas_toExport.to_csv(path_or_buf = f'{path_fittedforecast_casos}/casos_sintomas_fittedforecast_{ModeloName_casos_sintomas}_{experiment_date}.csv')"
      ],
      "metadata": {
        "id": "q-yv0uknGLx4"
      },
      "execution_count": null,
      "outputs": []
    },
    {
      "cell_type": "code",
      "source": [
        "# Exportação das previsões para casos\n",
        "obitos_publicacao_toExport = pd.concat([obitos_publicacao_real, obitos_publicacao_median], axis=1)\n",
        "obitos_ocorrencia_toExport = pd.concat([obitos_ocorrencia_real, obitos_ocorrencia_median], axis=1)\n",
        "\n",
        "obitos_publicacao_toExport.index.name = 'Date'\n",
        "obitos_ocorrencia_toExport.index.name = 'Date'\n",
        "\n",
        "obitos_publicacao_toExport.to_csv(path_or_buf = f'{path_fittedforecast_obitos}/obitos_publicacao_fittedforecast_{ModeloName_obitos_publicacao}_{experiment_date}.csv')\n",
        "obitos_ocorrencia_toExport.to_csv(path_or_buf = f'{path_fittedforecast_obitos}/obitos_ocorrencia_fittedforecast_{ModeloName_obitos_ocorrencia}_{experiment_date}.csv')"
      ],
      "metadata": {
        "id": "JDfNIEJSGUeL"
      },
      "execution_count": null,
      "outputs": []
    },
    {
      "cell_type": "markdown",
      "metadata": {
        "id": "kPnSSAkhCdRj"
      },
      "source": [
        "##Visualização das projeções e exportação dos gráficos"
      ]
    },
    {
      "cell_type": "code",
      "execution_count": null,
      "metadata": {
        "id": "WkFd-x_MCc97"
      },
      "outputs": [],
      "source": [
        "#Função responsavel pela plotagem geral\n",
        "def plot(median, min, max, real, titulo, pasta, date):\n",
        "  plt.style.use('seaborn-dark-palette')\n",
        "  fig, ax = plt.subplots(figsize=(18, 6))\n",
        "\n",
        "\n",
        "  ax.plot(real, lw=1.5, linestyle='solid', label='Observed') #Dados observados\n",
        "  ax.plot(median[:-7], lw=1.5, linestyle='solid', label='Historical forecast') #Historical\n",
        "  ax.plot(median[-8:], lw=1.5, linestyle='solid', label='Ahead forecast') #Predição\n",
        "  ax.fill_between(median.index, np.array(min).flatten(), np.array(max).flatten(), alpha=.15, label='Margin of error') #Margem de erro\n",
        "  ax.axvline(x=median.index[-8], alpha=.5, linestyle='--', color='black') #Linha vertical\n",
        "\n",
        "  top = ax.spines['top']\n",
        "  top.set_visible(True)\n",
        "  bottom = ax.spines['bottom']\n",
        "  bottom.set_visible(True)  \n",
        "  right = ax.spines['right']\n",
        "  right.set_visible(True)  \n",
        "  left = ax.spines['left']\n",
        "  left.set_visible(True)\n",
        "\n",
        "\n",
        "  min, max = ax.get_ylim()\n",
        "  ax.yaxis.set_ticks(np.arange(0, max, max/10))\n",
        "  ax.xaxis.set_major_locator(mdates.DayLocator(interval=20)) #Intervalo entre as marcações de tempo\n",
        "  ax.xaxis.set_major_formatter(mdates.DateFormatter('%Y-%m-%d')) #Formatação das datas\n",
        "\n",
        "\n",
        "  ax.legend(loc='upper left', bbox_to_anchor=(0, 1.09), ncol = 2, fancybox=True, edgecolor='Black', framealpha=1, frameon=True)\n",
        "  ax.set(title=titulo) #Titulo\n",
        "  ax.margins(0, tight=True)\n",
        "  ax.grid(False)\n",
        "\n",
        "\n",
        "  fig.autofmt_xdate(rotation=75) #Angulo das datas\n",
        "  fig.tight_layout()\n",
        "  \n",
        "  \n",
        "  fig.savefig(f'{pasta}Plots/{titulo} - {date}.png', dpi=300) #Salvar as imagens"
      ]
    },
    {
      "cell_type": "code",
      "execution_count": null,
      "metadata": {
        "id": "n_z_C16nnFIb"
      },
      "outputs": [],
      "source": [
        "#Função responsavel pela plotagem dos ultimos 30 dias\n",
        "def plot_30(median, min, max, real, titulo, pasta, date):\n",
        "  #Criação de series com apenas os ultimos 30 dias\n",
        "  median_30 = median.tail(30)\n",
        "  min_30 = min.tail(30)\n",
        "  max_30 = max.tail(30)\n",
        "  real_30 = real.tail(30) #O original para no 23 pq os ultimos 7 são predição\n",
        "\n",
        "\n",
        "  plt.style.use('seaborn-dark-palette')\n",
        "  fig, ax = plt.subplots(figsize=(18, 6))\n",
        "\n",
        "\n",
        "  ax.plot(real_30, lw=1.5, linestyle='solid', label='Observed') #Dados observados\n",
        "  ax.plot(median_30[:-7], lw=1.5, linestyle='solid', label='Historical forecast') #Historical\n",
        "  ax.plot(median_30[-8:], lw=1.5, linestyle='solid', label='Ahead forecast') #Predição\n",
        "  ax.fill_between(median_30.index, np.array(min_30).flatten(), np.array(max_30).flatten(), color='darkgreen', alpha=.15, label='Margin of error') #Margem de erro\n",
        "  ax.axvline(x=median_30.index[-8], alpha=.5, linestyle='--', color='black') #Linha vertical\n",
        "\n",
        "  top = ax.spines['top']\n",
        "  top.set_visible(True)\n",
        "  bottom = ax.spines['bottom']\n",
        "  bottom.set_visible(True)  \n",
        "  right = ax.spines['right']\n",
        "  right.set_visible(True)  \n",
        "  left = ax.spines['left']\n",
        "  left.set_visible(True)\n",
        "\n",
        "  min, max = ax.get_ylim()\n",
        "  ax.yaxis.set_ticks(np.arange(0, max, max/10))\n",
        "  ax.xaxis.set_major_locator(mdates.DayLocator(interval=1)) #Intervalo entre as marcações de tempo\n",
        "  ax.xaxis.set_major_formatter(mdates.DateFormatter('%Y-%m-%d')) #Formatação das datas\n",
        "\n",
        "\n",
        "  ax.legend(loc='upper left', bbox_to_anchor=(0, 1.09), ncol = 2, fancybox=True, edgecolor='Black', framealpha=1, frameon=True)\n",
        "  ax.set(title=titulo) #Titulo\n",
        "  ax.margins(0, tight=True)\n",
        "  ax.grid(False, which = 'major')\n",
        "\n",
        "\n",
        "  fig.autofmt_xdate(rotation=75) #Angulo das datas\n",
        "  fig.tight_layout()\n",
        "\n",
        "\n",
        "  fig.savefig(f'{pasta}Plots/{titulo}_{date}.png', dpi=300) #Salvar as imagens"
      ]
    },
    {
      "cell_type": "code",
      "execution_count": null,
      "metadata": {
        "id": "c-bLfgQ1C-p0"
      },
      "outputs": [],
      "source": [
        "# Plot casos - publicação - total\n",
        "titulo_caso_publicação = f\"Forecast of cases by day of publication (moving average) - {ModeloName_casos_publicacao}\"\n",
        "plot(casos_publicacao_median, casos_publicacao_min, casos_publicacao_max, casos_publicacao_real, titulo_caso_publicação, path_fittedforecast_casos, experiment_date)"
      ]
    },
    {
      "cell_type": "code",
      "execution_count": null,
      "metadata": {
        "id": "buILggULC7b-"
      },
      "outputs": [],
      "source": [
        "# Plot casos - publicação - ultimos 30 dias\n",
        "titulo_caso_publicação_30 = f\"Forecast of cases by day of publication (moving average) - Last 30 days - {ModeloName_casos_publicacao}\"\n",
        "plot_30(casos_publicacao_median, casos_publicacao_min, casos_publicacao_max, casos_publicacao_real, titulo_caso_publicação_30, path_fittedforecast_casos, experiment_date)"
      ]
    },
    {
      "cell_type": "code",
      "execution_count": null,
      "metadata": {
        "id": "gc66W7xoC8Ft"
      },
      "outputs": [],
      "source": [
        "# Plot casos - sintomas - total\n",
        "titulo_caso_sintomas = f\"Forecast of cases by day of the first symptoms (moving average) - {ModeloName_casos_sintomas}\"\n",
        "plot(casos_sintomas_median, casos_sintomas_min, casos_sintomas_max, casos_sintomas_real, titulo_caso_sintomas, path_fittedforecast_casos, experiment_date)"
      ]
    },
    {
      "cell_type": "code",
      "execution_count": null,
      "metadata": {
        "id": "It7aU4GoC4rF"
      },
      "outputs": [],
      "source": [
        "# Plot casos - sintomas - ultimos 30 dias\n",
        "titulo_caso_sintomas_30 = f\"Forecast of cases by day of the first symptoms (moving average) - Last 30 days - {ModeloName_casos_sintomas}\"\n",
        "plot_30(casos_sintomas_median, casos_sintomas_min, casos_sintomas_max, casos_sintomas_real, titulo_caso_sintomas_30, path_fittedforecast_casos, experiment_date)"
      ]
    },
    {
      "cell_type": "code",
      "execution_count": null,
      "metadata": {
        "id": "M2tWrbOjDRJG"
      },
      "outputs": [],
      "source": [
        "# Plot obitos - publicaçao - total\n",
        "titulo_obito_publicação = f'Forecast of deaths by day of publication (moving average) - {ModeloName_obitos_publicacao}'\n",
        "plot(obitos_publicacao_median, obitos_publicacao_min, obitos_publicacao_max, obitos_publicacao_real, titulo_obito_publicação, path_fittedforecast_obitos, experiment_date)"
      ]
    },
    {
      "cell_type": "code",
      "execution_count": null,
      "metadata": {
        "id": "XpySxqo-DNHF"
      },
      "outputs": [],
      "source": [
        "# Plot obitos - publicaçao - ultimos 30 dias\n",
        "titulo_obito_publicação_30 = f'Forecast of deaths by day of publication (moving average) - Last 30 days - {ModeloName_obitos_publicacao}'\n",
        "plot_30(obitos_publicacao_median, obitos_publicacao_min, obitos_publicacao_max, obitos_publicacao_real, titulo_obito_publicação_30, path_fittedforecast_obitos, experiment_date)"
      ]
    },
    {
      "cell_type": "code",
      "execution_count": null,
      "metadata": {
        "id": "dTV2Mou6DPCq"
      },
      "outputs": [],
      "source": [
        "# Plot obitos - ocorrencia - total\n",
        "titulo_obito_ocorrencias = f'Forecast of deaths by day of occurrence (moving average) - {ModeloName_obitos_ocorrencia}'\n",
        "plot(obitos_ocorrencia_median, obitos_ocorrencia_min, obitos_ocorrencia_max, obitos_ocorrencia_real, titulo_obito_ocorrencias, path_fittedforecast_obitos, experiment_date)"
      ]
    },
    {
      "cell_type": "code",
      "execution_count": null,
      "metadata": {
        "id": "Np2kd55_DKWQ"
      },
      "outputs": [],
      "source": [
        "# Plot obitos - ocorrencia - ultimos 30 dias\n",
        "titulo_obito_ocorrencias_30 = f'Forecast of deaths by day of occurrence (moving average) - Last 30 days - {ModeloName_obitos_ocorrencia}'\n",
        "plot_30(obitos_ocorrencia_median, obitos_ocorrencia_min, obitos_ocorrencia_max, obitos_ocorrencia_real, titulo_obito_ocorrencias_30, path_fittedforecast_obitos, experiment_date)"
      ]
    }
  ],
  "metadata": {
    "colab": {
      "collapsed_sections": [
        "qMzLCqZHfNDE",
        "0t-FW6_3gLdh",
        "JG0BOKpegZPq",
        "l-WeF7kQxVMW",
        "oY7UGMfwhMjX",
        "AlgKvQKkvpt4",
        "p6Hpw3a3xdgi",
        "HST66_759yGS",
        "wiyIEJCvbSVu",
        "eRUIaqHHmojk",
        "Vcs5Qlpmw4c0",
        "Se1WVKhwadIe",
        "YxNxlR7rDU2E",
        "kPnSSAkhCdRj"
      ],
      "provenance": [],
      "include_colab_link": true
    },
    "kernelspec": {
      "display_name": "Python 3",
      "name": "python3"
    },
    "language_info": {
      "name": "python"
    }
  },
  "nbformat": 4,
  "nbformat_minor": 0
}