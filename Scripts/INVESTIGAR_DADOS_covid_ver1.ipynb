{
  "cells": [
    {
      "cell_type": "markdown",
      "metadata": {
        "id": "view-in-github",
        "colab_type": "text"
      },
      "source": [
        "<a href=\"https://colab.research.google.com/github/NPCA-TEAM/COVID-19/blob/main/Scripts/INVESTIGAR_DADOS_covid_ver1.ipynb\" target=\"_parent\"><img src=\"https://colab.research.google.com/assets/colab-badge.svg\" alt=\"Open In Colab\"/></a>"
      ]
    },
    {
      "cell_type": "markdown",
      "metadata": {
        "id": "g4FawnwLcyZl"
      },
      "source": [
        "##Conexão com o Drive"
      ]
    },
    {
      "cell_type": "code",
      "execution_count": null,
      "metadata": {
        "id": "0mEIdpAWcvx2",
        "colab": {
          "base_uri": "https://localhost:8080/"
        },
        "outputId": "95ff10b1-e0b7-40e4-cdcb-2e50cd0fc89e"
      },
      "outputs": [
        {
          "output_type": "stream",
          "name": "stdout",
          "text": [
            "Mounted at /content/drive\n"
          ]
        }
      ],
      "source": [
        "from google.colab import drive\n",
        "drive.mount('/content/drive')"
      ]
    },
    {
      "cell_type": "markdown",
      "metadata": {
        "id": "MDVRez9ivbXr"
      },
      "source": [
        "##Instalação e importação de bibliotecas"
      ]
    },
    {
      "cell_type": "code",
      "execution_count": null,
      "metadata": {
        "id": "dT7Q2YOielrm"
      },
      "outputs": [],
      "source": [
        "!pip install pyyaml==5.4.1"
      ]
    },
    {
      "cell_type": "code",
      "execution_count": null,
      "metadata": {
        "id": "ZHspQlh_vMUt"
      },
      "outputs": [],
      "source": [
        "!pip install darts "
      ]
    },
    {
      "cell_type": "code",
      "execution_count": null,
      "metadata": {
        "id": "RN_kqgcAFaDY"
      },
      "outputs": [],
      "source": [
        "!pip install matplotlib==3.1.1"
      ]
    },
    {
      "cell_type": "code",
      "execution_count": null,
      "metadata": {
        "id": "LocReGiHvr3Z"
      },
      "outputs": [],
      "source": [
        "%load_ext autoreload\n",
        "%autoreload 2\n",
        "%matplotlib inline\n",
        "\n",
        "import pandas as pd\n",
        "import numpy as np\n",
        "import glob\n",
        "import os\n",
        "import sys\n",
        "import time\n",
        "import torch\n",
        "import seaborn as sns \n",
        "\n",
        "import matplotlib.pyplot as plt\n",
        "from matplotlib.dates import DateFormatter\n",
        "\n",
        "from datetime import datetime\n",
        "from darts import TimeSeries, timeseries\n",
        "\n",
        "from darts.models import (\n",
        "    NaiveSeasonal,\n",
        "    NaiveDrift,\n",
        "    NaiveMean,\n",
        "    NaiveEnsembleModel,   \n",
        ")\n",
        "\n",
        "from darts.metrics import mape, mase, rmse\n",
        "from darts.utils.statistics import check_seasonality, plot_acf, plot_residuals_analysis, plot_hist\n",
        "\n",
        "import warnings\n",
        "warnings.filterwarnings('ignore')\n",
        "import logging\n",
        "logging.disable(logging.CRITICAL)\n",
        "torch.manual_seed(1); np.random.seed(1)  # for reproducibility"
      ]
    },
    {
      "cell_type": "markdown",
      "metadata": {
        "id": "4bZefuBPda2q"
      },
      "source": [
        "##Seleção dos dados e leitura do dataset para casos"
      ]
    },
    {
      "cell_type": "code",
      "execution_count": null,
      "metadata": {
        "id": "KTceoiaBx42u"
      },
      "outputs": [],
      "source": [
        "#Seleciona o arquivo recentemente baixado da pasta de CSVs\n",
        "pasta = '/content/drive/MyDrive/NPCA - COVID/_CASOS/DataSet/'\n",
        "lista_de_arquivos = glob.glob(pasta + '*') \n",
        "#Seleciona o ultimo arquivo que foi criado e adicionado na pasta\n",
        "arquivo_casos = max(lista_de_arquivos, key=os.path.getctime) \n",
        "arquivo_casos"
      ]
    },
    {
      "cell_type": "markdown",
      "metadata": {
        "id": "0CLVUm9sNddR"
      },
      "source": []
    },
    {
      "cell_type": "code",
      "execution_count": null,
      "metadata": {
        "id": "k9r54goTze0C"
      },
      "outputs": [],
      "source": [
        "#Leitura do Arquivo\n",
        "data_set_casos = pd.read_excel(arquivo_casos)\n",
        "data_set_casos"
      ]
    },
    {
      "cell_type": "markdown",
      "metadata": {
        "id": "VToUQdcu0pVl"
      },
      "source": []
    },
    {
      "cell_type": "markdown",
      "metadata": {
        "id": "tW65zX2v0uxp"
      },
      "source": [
        "##Seleção dos dados e leitura do dataset para óbitos"
      ]
    },
    {
      "cell_type": "code",
      "execution_count": null,
      "metadata": {
        "id": "-UNTgYFw0zpf",
        "colab": {
          "base_uri": "https://localhost:8080/",
          "height": 35
        },
        "outputId": "06045ddd-42fa-4fdf-d126-d396ce6f949d"
      },
      "outputs": [
        {
          "output_type": "execute_result",
          "data": {
            "text/plain": [
              "'/content/drive/MyDrive/NPCA - COVID/_OBITOS/DataSet/Dataset_31_12_2022.xlsx'"
            ],
            "application/vnd.google.colaboratory.intrinsic+json": {
              "type": "string"
            }
          },
          "metadata": {},
          "execution_count": 8
        }
      ],
      "source": [
        "#Seleciona o arquivo recentemente baixado da pasta de dataset\n",
        "pasta1 = '/content/drive/MyDrive/NPCA - COVID/_OBITOS/DataSet/'\n",
        "lista_de_arquivos1 = glob.glob(pasta1 + '*') \n",
        "#Seleciona o ultimo arquivo que foi criado e adicionado na pasta\n",
        "arquivo_obitos = max(lista_de_arquivos1, key=os.path.getctime) \n",
        "arquivo_obitos"
      ]
    },
    {
      "cell_type": "code",
      "execution_count": null,
      "metadata": {
        "id": "IvHkVQiG6JrU"
      },
      "outputs": [],
      "source": [
        "#Leitura do Arquivo\n",
        "data_set_obitos = pd.read_excel(arquivo_obitos)\n",
        "data_set_obitos"
      ]
    },
    {
      "cell_type": "markdown",
      "metadata": {
        "id": "tRIr-IQKTOWc"
      },
      "source": [
        "##Tratamento dos dados para as variáveis de casos e óbitos"
      ]
    },
    {
      "cell_type": "code",
      "execution_count": null,
      "metadata": {
        "id": "KTm27WiqnuoG"
      },
      "outputs": [],
      "source": [
        "#Substitue valores negativos por valores iqual zero. \n",
        "\n",
        "data_set_casos['Casos_DataSintoma_MM_atual_PA'] = np.where(data_set_casos['Casos_DataSintoma_MM_atual_PA'] <= 0, 0.00001, data_set_casos['Casos_DataSintoma_MM_atual_PA'])\n",
        "data_set_casos['Casos_Publicacao_MM_atual_PA'] = np.where(data_set_casos['Casos_Publicacao_MM_atual_PA'] <= 0, 0.00001, data_set_casos['Casos_Publicacao_MM_atual_PA'])\n",
        "data_set_casos['Casos_DataSintoma_MM_7dias_PA'] = np.where(data_set_casos['Casos_DataSintoma_MM_7dias_PA'] <= 0, 0.00001, data_set_casos['Casos_DataSintoma_MM_7dias_PA'])\n",
        "data_set_casos['Casos_Publicacao_MM_7dias_PA'] = np.where(data_set_casos['Casos_Publicacao_MM_7dias_PA'] <= 0, 0.00001, data_set_casos['Casos_Publicacao_MM_7dias_PA'])\n",
        "data_set_casos['Casos_DataSintoma_MM_14dias_PA'] = np.where(data_set_casos['Casos_DataSintoma_MM_14dias_PA'] <= 0, 0.00001, data_set_casos['Casos_DataSintoma_MM_14dias_PA'])\n",
        "data_set_casos['Casos_Publicacao_MM_14dias_PA'] = np.where(data_set_casos['Casos_Publicacao_MM_14dias_PA'] <= 0, 0.00001, data_set_casos['Casos_Publicacao_MM_14dias_PA'])\n",
        "data_set_casos['Vacinacao_Dose1_%decimal_PA'] = np.where(data_set_casos['Vacinacao_Dose1_%decimal_PA'] <= 0, 0.00001, data_set_casos['Vacinacao_Dose1_%decimal_PA'])\n",
        "data_set_casos['Vacinacao_Dose2_%decimal_PA'] = np.where(data_set_casos['Vacinacao_Dose2_%decimal_PA'] <= 0, 0.00001, data_set_casos['Vacinacao_Dose2_%decimal_PA'])\n",
        "data_set_casos['Vacinacao_Dose3_%decimal_PA'] = np.where(data_set_casos['Vacinacao_Dose3_%decimal_PA'] <= 0, 0.00001, data_set_casos['Vacinacao_Dose3_%decimal_PA'])\n",
        "data_set_casos"
      ]
    },
    {
      "cell_type": "code",
      "source": [
        "#Substitue valores negativos e iguais a zer0 por valores decimais que não afetarão a análise dos dados. \n",
        "\n",
        "data_set_obitos['Obitos_DataOcorrencia_MM_atual_PA'] = np.where(data_set_obitos['Obitos_DataOcorrencia_MM_atual_PA'] <= 0, 0.00001, data_set_obitos['Obitos_DataOcorrencia_MM_atual_PA'])\n",
        "data_set_obitos['Obitos_Publicacao_MM_atual_PA'] = np.where(data_set_obitos['Obitos_Publicacao_MM_atual_PA'] <= 0, 0.00001, data_set_obitos['Obitos_Publicacao_MM_atual_PA'])\n",
        "data_set_obitos['Obitos_DataOcorrencia_MM_7dias_PA'] = np.where(data_set_obitos['Obitos_DataOcorrencia_MM_7dias_PA'] <= 0, 0.00001, data_set_obitos['Obitos_DataOcorrencia_MM_7dias_PA'])\n",
        "data_set_obitos['Obitos_Publicacao_MM_7dias_PA'] = np.where(data_set_obitos['Obitos_Publicacao_MM_7dias_PA'] <= 0, 0.00001, data_set_obitos['Obitos_Publicacao_MM_7dias_PA'])\n",
        "data_set_obitos['Obitos_DataOcorrencia_MM_14dias_PA'] = np.where(data_set_obitos['Obitos_DataOcorrencia_MM_14dias_PA'] <= 0, 0.00001, data_set_obitos['Obitos_DataOcorrencia_MM_14dias_PA'])\n",
        "data_set_obitos['Obitos_Publicacao_MM_14dias_PA'] = np.where(data_set_obitos['Obitos_Publicacao_MM_14dias_PA'] <= 0, 0.00001, data_set_obitos['Obitos_Publicacao_MM_14dias_PA'])\n",
        "data_set_obitos"
      ],
      "metadata": {
        "id": "3HRhiDFXVAfk"
      },
      "execution_count": null,
      "outputs": []
    },
    {
      "cell_type": "markdown",
      "metadata": {
        "id": "3w99vp67eI8A"
      },
      "source": [
        "##Instanciação das séries temporais principais e das variaveis secundarias para Casos"
      ]
    },
    {
      "cell_type": "code",
      "execution_count": null,
      "metadata": {
        "id": "UZEmNUcj2R3v"
      },
      "outputs": [],
      "source": [
        "#Converte coluna de data (strng) para datetime \n",
        "data_set_casos['data'] = pd.to_datetime(data_set_casos['data'])\n",
        "#Converte o tipo de dado datetime para formato de data Ano-Mês-Dia\n",
        "data_set_casos['data'] = data_set_casos['data'].values.astype('datetime64[D]')\n",
        "\n",
        "# Seleciona as series temporais dropando as colunas\n",
        "df_sintoma = data_set_casos.drop(data_set_casos.columns[2], axis=1, inplace=False)\n",
        "serie_sintoma = TimeSeries.from_dataframe(df_sintoma,'data','Casos_DataSintoma_MM_atual_PA')\n",
        "df_publicacao = data_set_casos.drop(data_set_casos.columns[1], axis=1, inplace=False)\n",
        "serie_publicacao = TimeSeries.from_dataframe(df_publicacao,'data','Casos_Publicacao_MM_atual_PA')\n",
        "\n",
        "#Gráfico com as informações das séries temporais\n",
        "plt.figure(figsize = (12, 8))\n",
        "serie_sintoma.plot(label='Casos de Covid por data de sintoma')\n",
        "serie_publicacao.plot(label='Casos de Covid por data de publicacao')"
      ]
    },
    {
      "cell_type": "code",
      "execution_count": null,
      "metadata": {
        "id": "wG-me9IQwaoX"
      },
      "outputs": [],
      "source": [
        "#Seleção das variáveis auxiliares\n",
        "sintoma_7dias = data_set_casos.loc[:, ['data', 'Casos_DataSintoma_MM_7dias_PA']].fillna(0)\n",
        "publicacao_7dias = data_set_casos.loc[:, ['data', 'Casos_Publicacao_MM_7dias_PA']].fillna(0)\n",
        "sintoma_14dias = data_set_casos.loc[:, ['data', 'Casos_DataSintoma_MM_14dias_PA']].fillna(0)\n",
        "publicacao_14dias = data_set_casos.loc[:, ['data', 'Casos_Publicacao_MM_14dias_PA']].fillna(0)\n",
        "\n",
        "vacinacao_1Dose = data_set_casos.loc[:, ['data', 'Vacinacao_Dose1_%decimal_PA']].fillna(0)\n",
        "vacinacao_2Dose = data_set_casos.loc[:, ['data', 'Vacinacao_Dose2_%decimal_PA']].fillna(0)\n",
        "vacinacao_3Dose = data_set_casos.loc[:, ['data', 'Vacinacao_Dose3_%decimal_PA']].fillna(0)\n"
      ]
    },
    {
      "cell_type": "code",
      "execution_count": null,
      "metadata": {
        "id": "SgcbhzCzxIgo"
      },
      "outputs": [],
      "source": [
        "# criação das séries temporais auxiliares de sintoma e publicacao de 7 e 14 dias\n",
        "\n",
        "serie_sintoma_7dias = TimeSeries.from_dataframe(sintoma_7dias,'data','Casos_DataSintoma_MM_7dias_PA')\n",
        "serie_publicacao_7dias = TimeSeries.from_dataframe(publicacao_7dias,'data','Casos_Publicacao_MM_7dias_PA')\n",
        "serie_sintoma_14dias = TimeSeries.from_dataframe(sintoma_14dias,'data','Casos_DataSintoma_MM_14dias_PA')\n",
        "serie_publicacao_14dias = TimeSeries.from_dataframe(publicacao_14dias ,'data','Casos_Publicacao_MM_14dias_PA')\n",
        "\n",
        "plt.figure(figsize = (10, 6))\n",
        "\n",
        "serie_sintoma_7dias.plot()\n",
        "serie_publicacao_7dias.plot()\n",
        "serie_sintoma_14dias.plot()\n",
        "serie_publicacao_14dias.plot()"
      ]
    },
    {
      "cell_type": "code",
      "execution_count": null,
      "metadata": {
        "id": "1kl28tSczKfW"
      },
      "outputs": [],
      "source": [
        "# criação das séries temporais auxiliares de vacinação\n",
        "serie_vacinacao_1Dose = TimeSeries.from_dataframe(df=vacinacao_1Dose, time_col='data')\n",
        "serie_vacinacao_2Dose = TimeSeries.from_dataframe(df=vacinacao_2Dose, time_col='data')\n",
        "serie_vacinacao_3Dose = TimeSeries.from_dataframe(df=vacinacao_3Dose, time_col='data')\n",
        "\n",
        "plt.figure(figsize = (12, 8))\n",
        "\n",
        "serie_vacinacao_1Dose.plot()\n",
        "serie_vacinacao_2Dose.plot()\n",
        "serie_vacinacao_3Dose.plot()"
      ]
    },
    {
      "cell_type": "markdown",
      "source": [
        "##Instanciação das séries temporais principais para óbitos"
      ],
      "metadata": {
        "id": "6KgXVE8FY8q5"
      }
    },
    {
      "cell_type": "code",
      "source": [
        "#Converte coluna de data (strng) para datetime \n",
        "data_set_obitos['data'] = pd.to_datetime(data_set_casos['data'])\n",
        "#Converte o tipo de dado datetime para formato de data Ano-Mês-Dia\n",
        "data_set_obitos['data'] = data_set_casos['data'].values.astype('datetime64[D]')\n",
        "\n",
        "# Seleciona as series temporais dropando as colunas\n",
        "df_obito_ocorrencia = data_set_obitos.drop(data_set_obitos.columns[2], axis=1, inplace=False).fillna(0)\n",
        "serie_obito_ocorrencia = TimeSeries.from_dataframe(df_obito_ocorrencia,'data','Obitos_DataOcorrencia_MM_atual_PA')\n",
        "df_obito_publicacao = data_set_obitos.drop(data_set_obitos.columns[1], axis=1, inplace=False).fillna(0)\n",
        "serie_obito_publicacao = TimeSeries.from_dataframe(df_obito_publicacao,'data','Obitos_Publicacao_MM_atual_PA')\n",
        "\n",
        "#Gráfico com as informações das séries temporais\n",
        "plt.figure(figsize = (12, 8))\n",
        "serie_obito_ocorrencia.plot(label='Obitos por data de Ocorrência')\n",
        "serie_obito_publicacao.plot(label='Obitos por data de Publicacao')"
      ],
      "metadata": {
        "id": "h4uifvQTY8JO"
      },
      "execution_count": null,
      "outputs": []
    },
    {
      "cell_type": "markdown",
      "metadata": {
        "id": "y1fbPgUiVZ_r"
      },
      "source": [
        "## Estatística descritiva para Casos e Obitos\n",
        "(media, desviopadrão, minimo, máximo)\n"
      ]
    },
    {
      "cell_type": "code",
      "execution_count": null,
      "metadata": {
        "id": "szTZJo-2V8KN"
      },
      "outputs": [],
      "source": [
        "#Calcula a estatística descritiva de todas as variaveis do dataset\n",
        "statistic = data_set_obitos.loc[:, ['Obitos_DataOcorrencia_MM_atual_PA', 'Obitos_Publicacao_MM_atual_PA','Casos_DataSintoma_MM_atual_PA', 'Casos_Publicacao_MM_atual_PA']]\n",
        "statistic.rename(columns = {'Obitos_DataOcorrencia_MM_atual_PA': 'Deaths_Occurrence_date', 'Obitos_Publicacao_MM_atual_PA': 'Deaths_Publication_date', 'Casos_DataSintoma_MM_atual_PA': 'Cases_Symptom_date', 'Casos_Publicacao_MM_atual_PA':'Cases_Publication_date'}, inplace=True)\n",
        "x = statistic.describe()\n",
        "x.to_excel(\"describe.xlsx\", index = True, encoding = 'utf-8')\n",
        "x"
      ]
    },
    {
      "cell_type": "markdown",
      "metadata": {
        "id": "xhEYcf-lbc19"
      },
      "source": [
        "Matriz de correlação de Pearson"
      ]
    },
    {
      "cell_type": "code",
      "execution_count": null,
      "metadata": {
        "id": "z7jY4fUPP-SV"
      },
      "outputs": [],
      "source": [
        "#calcula a correlacao de pearson entre as variaveis principais e de vacinação\n",
        "corr_df = data_set_obitos.loc[:, ['Casos_DataSintoma_MM_atual_PA','Casos_Publicacao_MM_atual_PA','Obitos_DataOcorrencia_MM_atual_PA', \n",
        "                                   'Obitos_Publicacao_MM_atual_PA','Vacinacao_Dose1_%decimal_PA', 'Vacinacao_Dose2_%decimal_PA', 'Vacinacao_Dose3_%decimal_PA']]\n",
        "corr = corr_df.corr(method='pearson')\n",
        "\n",
        "#cria uma matriz de correlaçao entre as colunas da tabela do dataset\n",
        "plt.figure(figsize=(10, 8))\n",
        "ax = sns.heatmap(corr, cmap = \"coolwarm\", center = 0,  annot=True)\n",
        "ax.get_ylim()\n",
        "ax.set_ylim(7.0, 0)\n",
        "figs = ax.get_figure()\n",
        "figs.savefig('/content/drive/MyDrive/NPCA - COVID/_CASOS/Figs/matrizdecorrelacao.png', dpi=300, transparent=False, bbox_inches='tight')\n",
        "plt.show()"
      ]
    },
    {
      "cell_type": "markdown",
      "metadata": {
        "id": "x-93weurtNNc"
      },
      "source": [
        "##Visualização Inicial"
      ]
    },
    {
      "cell_type": "code",
      "execution_count": null,
      "metadata": {
        "id": "5QwK-LzUtTmM"
      },
      "outputs": [],
      "source": [
        "# Seleciona os ultimos 7 dias para inspecionar sazonalidade e fazer prediçoes com os modelos ingenuos\n",
        "num_dias_val = 7\n",
        "train_sintoma, val_sintoma = serie_sintoma[:-num_dias_val], serie_sintoma[-num_dias_val:]\n",
        "train_publicacao, val_publicacao = serie_publicacao[:-num_dias_val], serie_publicacao[-num_dias_val:]\n",
        "train_obito_ocorrencia, val_obito_ocorrencia = serie_obito_ocorrencia[:-num_dias_val], serie_obito_ocorrencia[-num_dias_val:]\n",
        "train_obito_publicacao, val_obito_publicacao =  serie_obito_publicacao[:-num_dias_val], serie_obito_publicacao[-num_dias_val:]\n",
        "\n",
        "#plota a serie com os casos por data do sintoma e publicacao dos ultimos 7 dias\n",
        "fig, ax = plt.subplots(figsize=(12,8));\n",
        "fig.suptitle('Média móvel de casos de COVID-19 no estado do Pará - últimos '+str(num_dias_val)+' dias', fontsize=12)\n",
        "val_sintoma.plot(label='Casos por Data de Publicação')\n",
        "val_publicacao.plot(label='Casos por Data de Publicação')\n",
        "val_obito_ocorrencia.plot(label='Obitos por Data de Ocorrencia')\n",
        "val_obito_publicacao.plot(label='Obitos por Data de publicacao')\n",
        "ax.xaxis.set_major_formatter(DateFormatter(\"%d/%m/%y\"))"
      ]
    },
    {
      "cell_type": "markdown",
      "metadata": {
        "id": "KD1pU4jGWLVL"
      },
      "source": [
        "##Análise das series temporais"
      ]
    },
    {
      "cell_type": "code",
      "source": [
        "#Listas para armazenar os valores de sazonalidade\n",
        "lista_casos_sintoma = []\n",
        "lista_casos_publicacao = []\n",
        "lista_obitos_ocorrencia = []\n",
        "lista_obitos_publicacao = []"
      ],
      "metadata": {
        "id": "Ez1jaM5pPJvl"
      },
      "execution_count": null,
      "outputs": []
    },
    {
      "cell_type": "code",
      "source": [
        "#Verificar se existe sazonalidade nas series\n",
        "def verificar_sazonalidade(serie_temporal, list):\n",
        "  list.clear()\n",
        "  for m in range(2, 365):\n",
        "      sazonal, periodo = check_seasonality(serie_temporal, m = m, max_lag = 365, alpha=0.05)\n",
        "      if sazonal:\n",
        "       print('Há sazonalidade de ordem {}.'.format(periodo))\n",
        "       list.append(periodo)\n",
        "       plot_acf(serie_temporal, m = m, max_lag = 365, alpha = 0.05)"
      ],
      "metadata": {
        "id": "blyZ7tx-FngW"
      },
      "execution_count": null,
      "outputs": []
    },
    {
      "cell_type": "code",
      "execution_count": null,
      "metadata": {
        "id": "NJC8mlZdv95Z"
      },
      "outputs": [],
      "source": [
        "verificar_sazonalidade(serie_sintoma, lista_casos_sintoma)\n",
        "lista_casos_sintoma"
      ]
    },
    {
      "cell_type": "code",
      "source": [
        "verificar_sazonalidade(serie_publicacao, lista_casos_publicacao)\n",
        "lista_casos_publicacao"
      ],
      "metadata": {
        "id": "JMZFMAUBnbr8"
      },
      "execution_count": null,
      "outputs": []
    },
    {
      "cell_type": "code",
      "source": [
        "verificar_sazonalidade(serie_obito_ocorrencia, lista_obitos_ocorrencia)\n",
        "lista_obitos_ocorrencia"
      ],
      "metadata": {
        "id": "LPBnIA58nn_7"
      },
      "execution_count": null,
      "outputs": []
    },
    {
      "cell_type": "code",
      "source": [
        "verificar_sazonalidade(serie_obito_publicacao, lista_obitos_publicacao)\n",
        "lista_obitos_publicacao"
      ],
      "metadata": {
        "id": "DSZQUExwnvmy"
      },
      "execution_count": null,
      "outputs": []
    },
    {
      "cell_type": "markdown",
      "metadata": {
        "id": "LO6h9BtrVeda"
      },
      "source": [
        "##Aplicar modelos ingénuos"
      ]
    },
    {
      "cell_type": "markdown",
      "source": [
        "**Treinos com o Modelo Ingênuo NaiveSeasonal**"
      ],
      "metadata": {
        "id": "euWtPa82e0q0"
      }
    },
    {
      "cell_type": "code",
      "source": [
        "predict_caso_sintoma = []\n",
        "for x in lista_casos_sintoma:\n",
        "      NaiveSeasonal_model = NaiveSeasonal(K = x)\n",
        "      NaiveSeasonal_model.fit(train_sintoma)\n",
        "      y = NaiveSeasonal_model.predict(num_dias_val)\n",
        "      description = ('Casos_Data_Sintoma')\n",
        "      z = (x, y, description)\n",
        "      predict_caso_sintoma.append(z)"
      ],
      "metadata": {
        "id": "AMI7JczPpOhz"
      },
      "execution_count": null,
      "outputs": []
    },
    {
      "cell_type": "code",
      "source": [
        "predict_caso_publicacao = []\n",
        "for x in lista_casos_publicacao:\n",
        "      NaiveSeasonal_model = NaiveSeasonal(K = x)\n",
        "      NaiveSeasonal_model.fit(train_publicacao)\n",
        "      y = NaiveSeasonal_model.predict(num_dias_val)\n",
        "      description = ('Casos_Data_Publicacao')\n",
        "      z = (x, y, description)\n",
        "      predict_caso_publicacao.append(z)"
      ],
      "metadata": {
        "id": "3ZNNihnHqu-D"
      },
      "execution_count": null,
      "outputs": []
    },
    {
      "cell_type": "code",
      "source": [
        "predict_obito_ocorrencia = []\n",
        "for x in lista_obitos_ocorrencia:\n",
        "      NaiveSeasonal_model = NaiveSeasonal(K = x)\n",
        "      NaiveSeasonal_model.fit(train_obito_ocorrencia)\n",
        "      y = NaiveSeasonal_model.predict(num_dias_val)\n",
        "      description = ('Obitos_Data_Ocorrencia')\n",
        "      z = (x, y, description)\n",
        "      predict_obito_ocorrencia.append(z)"
      ],
      "metadata": {
        "id": "lhmCtdHasXpp"
      },
      "execution_count": null,
      "outputs": []
    },
    {
      "cell_type": "code",
      "source": [
        "predict_obito_publicacao = []\n",
        "for x in lista_obitos_publicacao:\n",
        "      NaiveSeasonal_model = NaiveSeasonal(K = x)\n",
        "      NaiveSeasonal_model.fit(train_obito_publicacao)\n",
        "      y = NaiveSeasonal_model.predict(num_dias_val)\n",
        "      description = ('Obitos_Data_Publicacao')\n",
        "      z = (x, y, description)\n",
        "      predict_obito_publicacao.append(z)"
      ],
      "metadata": {
        "id": "BHAVOu2TrrLP"
      },
      "execution_count": null,
      "outputs": []
    },
    {
      "cell_type": "code",
      "source": [
        "ns_casos_sintoma = predict_caso_sintoma"
      ],
      "metadata": {
        "id": "2g8Hsn4GayiG"
      },
      "execution_count": null,
      "outputs": []
    },
    {
      "cell_type": "code",
      "source": [
        "ns_casos_publicacao = predict_caso_publicacao"
      ],
      "metadata": {
        "id": "7A9KH4AWd0VR"
      },
      "execution_count": null,
      "outputs": []
    },
    {
      "cell_type": "code",
      "source": [
        "ns_obitos_ocorrencia = predict_obito_ocorrencia"
      ],
      "metadata": {
        "id": "83NItiHtfT-2"
      },
      "execution_count": null,
      "outputs": []
    },
    {
      "cell_type": "code",
      "source": [
        "ns_obitos_publicacao = predict_obito_publicacao"
      ],
      "metadata": {
        "id": "HgXW3DqGfoYm"
      },
      "execution_count": null,
      "outputs": []
    },
    {
      "cell_type": "markdown",
      "source": [
        "**Treino com o modelo NaiveDrift**"
      ],
      "metadata": {
        "id": "TTlabb9IhFpZ"
      }
    },
    {
      "cell_type": "code",
      "source": [
        "#Função para os treinos com o modelo NaiveDrift\n",
        "NaiveDrift_model = NaiveDrift()\n",
        "def treinar_NaiveDrift (serie_temporal, int):\n",
        "    NaiveDrift_model.fit(serie_temporal)\n",
        "    y = NaiveDrift_model.predict(int)\n",
        "    return y"
      ],
      "metadata": {
        "id": "7-6t6y5RMey-"
      },
      "execution_count": null,
      "outputs": []
    },
    {
      "cell_type": "code",
      "source": [
        "#Treinos para casos por data de sintoma, de publicacao e para obitos por data de ocorrencia e publicacao utilizando a função de treino com o NaiveDrift\n",
        "nd_casos_sintoma = treinar_NaiveDrift(train_sintoma, num_dias_val)\n",
        "nd_casos_publicacao = treinar_NaiveDrift(train_publicacao, num_dias_val)\n",
        "nd_obitos_ocorrencia = treinar_NaiveDrift(train_obito_ocorrencia, num_dias_val)\n",
        "nd_obitos_publicacao = treinar_NaiveDrift(train_obito_publicacao, num_dias_val)"
      ],
      "metadata": {
        "id": "BC51LXRwN6ic"
      },
      "execution_count": null,
      "outputs": []
    },
    {
      "cell_type": "markdown",
      "source": [
        "**Treino com o modelo NaiveMean**"
      ],
      "metadata": {
        "id": "fNP5Sn4Kgh8z"
      }
    },
    {
      "cell_type": "code",
      "source": [
        "#Função para os treinos com o modelo NaiveMean\n",
        "NaiveMean_model = NaiveMean()\n",
        "def treinar_NaiveMean (serie_temporal, int):\n",
        "    NaiveMean_model.fit(serie_temporal)\n",
        "    y = NaiveMean_model.predict(int)\n",
        "    return y"
      ],
      "metadata": {
        "id": "aZnXHFQwP2oz"
      },
      "execution_count": null,
      "outputs": []
    },
    {
      "cell_type": "code",
      "source": [
        "#Treinos para casos por data de sintoma, de publicacao e para obitos por data de ocorrencia e publicacao utilizando a função de treino com o NaiveMean\n",
        "nm_casos_sintoma = treinar_NaiveMean(train_sintoma, num_dias_val)\n",
        "nm_casos_publicacao = treinar_NaiveMean(train_publicacao, num_dias_val)\n",
        "nm_obitos_ocorrencia = treinar_NaiveMean(train_obito_ocorrencia, num_dias_val)\n",
        "nm_obitos_publicacao = treinar_NaiveMean(train_obito_publicacao, num_dias_val)"
      ],
      "metadata": {
        "id": "Ldyhc_5ZQYx0"
      },
      "execution_count": null,
      "outputs": []
    },
    {
      "cell_type": "markdown",
      "source": [
        "**Treino com modelo NaiveEnsemble**"
      ],
      "metadata": {
        "id": "391x6SHMgwfL"
      }
    },
    {
      "cell_type": "code",
      "execution_count": null,
      "metadata": {
        "id": "MySoVbd0n7D_"
      },
      "outputs": [],
      "source": [
        "#Esse ensemble faz somente a media da projeção dos modelos\n",
        "NaiveEnsemble_model = NaiveEnsembleModel(models=[NaiveSeasonal(), NaiveDrift(), NaiveMean()])\n",
        "def modelo_Ensemble (serie_temporal, int):\n",
        "    NaiveEnsemble_model.fit(serie_temporal)\n",
        "    y = NaiveEnsemble_model.predict(int)\n",
        "    return y"
      ]
    },
    {
      "cell_type": "code",
      "source": [
        "#Treino da media de projeção dos modelos utilizando a função do modelo Ensemble\n",
        "ne_casos_sintoma = modelo_Ensemble(train_sintoma, num_dias_val)\n",
        "ne_casos_publicacao = modelo_Ensemble(train_publicacao, num_dias_val)\n",
        "ne_obitos_ocorrencia = modelo_Ensemble(train_obito_ocorrencia, num_dias_val)\n",
        "ne_obitos_publicacao = modelo_Ensemble(train_obito_publicacao, num_dias_val)"
      ],
      "metadata": {
        "id": "Zh3ZhvHrSorE"
      },
      "execution_count": null,
      "outputs": []
    },
    {
      "cell_type": "markdown",
      "source": [
        "**Vizualização das predições**"
      ],
      "metadata": {
        "id": "FuVR6Lxghdlk"
      }
    },
    {
      "cell_type": "code",
      "source": [
        "#Função para plotar as predições do modelo NaiveSeasonal\n",
        "def plotar_NaiveSeasonal (list):\n",
        "      for x in list:\n",
        "        a, b, c = x\n",
        "        b.plot(label='NaiveSeasonal Forecast for '+str(c)+' with K='+str(a))"
      ],
      "metadata": {
        "id": "HfGFz0VDg-qv"
      },
      "execution_count": null,
      "outputs": []
    },
    {
      "cell_type": "code",
      "source": [
        "fig, ax = plt.subplots(figsize=(12,10));\n",
        "fig.suptitle('Prediction of COVID-19 cases by Symptom Date - '+str(num_dias_val)+' days', fontsize=10);\n",
        "val_sintoma.plot(label='Actual')\n",
        "plotar_NaiveSeasonal(ns_casos_sintoma)\n",
        "nd_casos_sintoma.plot(label='NaiveDrift Forecast')\n",
        "nm_casos_sintoma.plot(label='NaiveMean Forecast')\n",
        "ne_casos_sintoma.plot(label='NaiveEnsemble Forecast')\n",
        "ax.xaxis.set_major_formatter(DateFormatter(\"%d/%m/%y\"))\n",
        "fig.savefig('/content/drive/MyDrive/NPCA - COVID/_CASOS/Figs/Naive_casos_data_sintoma.png', dpi=300, transparent=False, bbox_inches='tight')"
      ],
      "metadata": {
        "id": "O2Ng9b0ecn5H"
      },
      "execution_count": null,
      "outputs": []
    },
    {
      "cell_type": "code",
      "source": [
        "fig, ax = plt.subplots(figsize=(13,10));\n",
        "fig.suptitle('Prediction of COVID-19 Cases by Publication Date - '+str(num_dias_val)+' days', fontsize=10);\n",
        "val_publicacao.plot(label='Actual')\n",
        "plotar_NaiveSeasonal(ns_casos_publicacao)\n",
        "nd_casos_publicacao.plot(label='NaiveDrift Forecast')\n",
        "nm_casos_publicacao.plot(label='NaiveMean Forecast')\n",
        "ne_casos_publicacao.plot(label='NaiveEnsemble Forecast')\n",
        "ax.xaxis.set_major_formatter(DateFormatter(\"%d/%m/%y\"))\n",
        "fig.savefig('/content/drive/MyDrive/NPCA - COVID/_CASOS/Figs/Naive_casos_data_publicacao.png', dpi=300, transparent=False, bbox_inches='tight')"
      ],
      "metadata": {
        "id": "dkpcBRcxzI4v"
      },
      "execution_count": null,
      "outputs": []
    },
    {
      "cell_type": "code",
      "source": [
        "fig, ax = plt.subplots(figsize=(13,10));\n",
        "fig.suptitle('Prediction of deaths from COVID-19 by Date of Occurrence - '+str(num_dias_val)+' days', fontsize=10);\n",
        "val_obito_ocorrencia.plot(label='Actual')\n",
        "plotar_NaiveSeasonal(ns_obitos_ocorrencia)\n",
        "nd_obitos_ocorrencia.plot(label='NaiveDrift Forecast')\n",
        "nm_obitos_ocorrencia.plot(label='NaiveMean Forecast')\n",
        "ne_obitos_ocorrencia.plot(label='NaiveEnsemble Forecast')\n",
        "ax.xaxis.set_major_formatter(DateFormatter(\"%d/%m/%y\"))\n",
        "fig.savefig('/content/drive/MyDrive/NPCA - COVID/_CASOS/Figs/Naive_obitos_data_ocorrencia.png', dpi=300, transparent=False, bbox_inches='tight')"
      ],
      "metadata": {
        "id": "QQ3rCV_h0d4O"
      },
      "execution_count": null,
      "outputs": []
    },
    {
      "cell_type": "code",
      "source": [
        "fig, ax = plt.subplots(figsize=(13,10));\n",
        "fig.suptitle('Prediction of deaths from COVID-19 by Publication Date - '+str(num_dias_val)+' days', fontsize=10);\n",
        "val_obito_publicacao.plot(label='Actual')\n",
        "plotar_NaiveSeasonal(ns_obitos_publicacao)\n",
        "nd_obitos_publicacao.plot(label='NaiveDrift Forecast')\n",
        "nm_obitos_publicacao.plot(label='NaiveMean Forecast')\n",
        "ne_obitos_publicacao.plot(label='NaiveEnsemble Forecast')\n",
        "ax.xaxis.set_major_formatter(DateFormatter(\"%d/%m/%y\"))\n",
        "fig.savefig('/content/drive/MyDrive/NPCA - COVID/_CASOS/Figs/Naive_obitos_data_publicacao.png', dpi=300, transparent=False, bbox_inches='tight')"
      ],
      "metadata": {
        "id": "VvLQQTEw1XrL"
      },
      "execution_count": null,
      "outputs": []
    },
    {
      "cell_type": "markdown",
      "source": [
        "##Métricas de erro"
      ],
      "metadata": {
        "id": "PNkXJlXQMq4G"
      }
    },
    {
      "cell_type": "code",
      "source": [
        "#Funções para calcular as métricas do modelo NaiveSeasonal\n",
        "def mape_NaiveSeasonal (serie_temporal, list):\n",
        "    for x in list:\n",
        "     a, b, c = x\n",
        "     NaiveSeasonal_model = NaiveSeasonal(K=a)\n",
        "     print('Modelo {} obteve MAPE: {:.2f}%'.format(NaiveSeasonal_model, mape(serie_temporal, b)))\n",
        "\n",
        "def rmse_NaiveSeasonal (serie_temporal, list):\n",
        "    for x in list:\n",
        "     a, b, c = x\n",
        "     NaiveSeasonal_model = NaiveSeasonal(K=a)\n",
        "     print('Modelo {} obteve RMSE: {:.2f}'.format(NaiveSeasonal_model, rmse(serie_temporal, b)))"
      ],
      "metadata": {
        "id": "YUZqVhYTF_71"
      },
      "execution_count": null,
      "outputs": []
    },
    {
      "cell_type": "markdown",
      "source": [
        "Porcentagens das Métricas de erro para casos por data de sintoma"
      ],
      "metadata": {
        "id": "YeVkWH5BNGNF"
      }
    },
    {
      "cell_type": "code",
      "execution_count": null,
      "metadata": {
        "id": "_sLW1ek7oXPH"
      },
      "outputs": [],
      "source": [
        "mape_NaiveSeasonal(val_sintoma, ns_casos_sintoma)\n",
        "print('Modelo {} obteve MAPE: {:.2f}%'.format(NaiveDrift_model, mape(val_sintoma, nd_casos_sintoma)))\n",
        "print('Modelo {} obteve MAPE: {:.2f}%'.format(NaiveMean_model, mape(val_sintoma, nm_casos_sintoma)))\n",
        "print('Modelo {} obteve MAPE: {:.2f}%'.format(NaiveEnsemble_model, mape(val_sintoma, ne_casos_sintoma)))"
      ]
    },
    {
      "cell_type": "code",
      "source": [
        "rmse_NaiveSeasonal(val_sintoma, ns_casos_sintoma)\n",
        "print('Modelo {} obteve RMSE: {:.2f}'.format(NaiveDrift_model, rmse(val_sintoma, nd_casos_sintoma)))\n",
        "print('Modelo {} obteve RMSE: {:.2f}'.format(NaiveMean_model, rmse(val_sintoma, nm_casos_sintoma)))\n",
        "print('Modelo {} obteve RMSE: {:.2f}'.format(NaiveEnsemble_model, rmse(val_sintoma, ne_casos_sintoma)))"
      ],
      "metadata": {
        "id": "mZCTl1RTM_mG"
      },
      "execution_count": null,
      "outputs": []
    },
    {
      "cell_type": "markdown",
      "source": [
        "Porcentagens das Métricas de erro para casos por data de publicação"
      ],
      "metadata": {
        "id": "dnOWAMY5NY61"
      }
    },
    {
      "cell_type": "code",
      "source": [
        "mape_NaiveSeasonal(val_publicacao, ns_casos_publicacao)\n",
        "print('Modelo {} obteve MAPE: {:.2f}%'.format(NaiveDrift_model, mape(val_publicacao, nd_casos_publicacao)))\n",
        "print('Modelo {} obteve MAPE: {:.2f}%'.format(NaiveMean_model, mape(val_sintoma, nm_casos_publicacao)))\n",
        "print('Modelo {} obteve MAPE: {:.2f}%'.format(NaiveEnsemble_model, mape(val_sintoma, ne_casos_publicacao)))"
      ],
      "metadata": {
        "id": "QIlPW9bPNYos"
      },
      "execution_count": null,
      "outputs": []
    },
    {
      "cell_type": "code",
      "source": [
        "rmse_NaiveSeasonal(val_publicacao, ns_casos_publicacao)\n",
        "print('Modelo {} obteve RMSE: {:.2f}'.format(NaiveDrift_model, rmse(val_publicacao, nd_casos_publicacao)))\n",
        "print('Modelo {} obteve RMSE: {:.2f}'.format(NaiveMean_model, rmse(val_publicacao, nm_casos_publicacao)))\n",
        "print('Modelo {} obteve RMSE: {:.2f}'.format(NaiveEnsemble_model, rmse(val_publicacao, ne_casos_publicacao)))"
      ],
      "metadata": {
        "id": "dHRKPPNcONR3"
      },
      "execution_count": null,
      "outputs": []
    },
    {
      "cell_type": "markdown",
      "source": [
        "Porcentagens das Métricas de erro para óbitos por data de ocorrencia"
      ],
      "metadata": {
        "id": "Heso8JBvO4nN"
      }
    },
    {
      "cell_type": "code",
      "source": [
        "mape_NaiveSeasonal(val_obito_ocorrencia, ns_obitos_ocorrencia)\n",
        "print('Modelo {} obteve MAPE: {:.2f}%'.format(NaiveDrift_model, mape(val_obito_ocorrencia, nd_obitos_ocorrencia)))\n",
        "print('Modelo {} obteve MAPE: {:.2f}%'.format(NaiveMean_model, mape(val_obito_ocorrencia, nm_obitos_ocorrencia)))\n",
        "print('Modelo {} obteve MAPE: {:.2f}%'.format(NaiveEnsemble_model, mape(val_obito_ocorrencia, ne_obitos_ocorrencia)))"
      ],
      "metadata": {
        "id": "cOpw1MW_O9Gq"
      },
      "execution_count": null,
      "outputs": []
    },
    {
      "cell_type": "code",
      "source": [
        "rmse_NaiveSeasonal(val_obito_ocorrencia, ns_obitos_ocorrencia)\n",
        "print('Modelo {} obteve RMSE: {:.2f}'.format(NaiveDrift_model, rmse(val_obito_ocorrencia, nd_obitos_ocorrencia)))\n",
        "print('Modelo {} obteve RMSE: {:.2f}'.format(NaiveMean_model, rmse(val_obito_ocorrencia, nm_obitos_ocorrencia)))\n",
        "print('Modelo {} obteve RMSE: {:.2f}'.format(NaiveEnsemble_model, rmse(val_obito_ocorrencia, ne_obitos_ocorrencia)))"
      ],
      "metadata": {
        "id": "M69PIyeoPhoo"
      },
      "execution_count": null,
      "outputs": []
    },
    {
      "cell_type": "markdown",
      "source": [
        "Porcentagens das Métricas de erro para óbitos por data de publicação"
      ],
      "metadata": {
        "id": "INnYDlNFQRHe"
      }
    },
    {
      "cell_type": "code",
      "source": [
        "mape_NaiveSeasonal(val_obito_publicacao, ns_obitos_publicacao)\n",
        "print('Modelo {} obteve MAPE: {:.2f}%'.format(NaiveDrift_model, mape(val_obito_publicacao, nd_obitos_publicacao)))\n",
        "print('Modelo {} obteve MAPE: {:.2f}%'.format(NaiveMean_model, mape(val_obito_publicacao, nm_obitos_publicacao)))\n",
        "print('Modelo {} obteve MAPE: {:.2f}%'.format(NaiveEnsemble_model, mape(val_obito_publicacao, ne_obitos_publicacao)))"
      ],
      "metadata": {
        "id": "sxXjVSWkQOCx"
      },
      "execution_count": null,
      "outputs": []
    },
    {
      "cell_type": "code",
      "source": [
        "rmse_NaiveSeasonal(val_obito_publicacao, ns_obitos_publicacao)\n",
        "print('Modelo {} obteve RMSE: {:.2f}'.format(NaiveDrift_model, rmse(val_obito_publicacao, nd_obitos_publicacao)))\n",
        "print('Modelo {} obteve RMSE: {:.2f}'.format(NaiveMean_model, rmse(val_obito_publicacao, nm_obitos_publicacao)))\n",
        "print('Modelo {} obteve RMSE: {:.2f}'.format(NaiveEnsemble_model, rmse(val_obito_publicacao, ne_obitos_publicacao)))"
      ],
      "metadata": {
        "id": "SmTPQ-gwQ1BC"
      },
      "execution_count": null,
      "outputs": []
    },
    {
      "cell_type": "markdown",
      "metadata": {
        "id": "GVu2XfVbT3aG"
      },
      "source": [
        "Continua no script de TREINAR MODELOS.\n",
        "\n",
        "Link:  https://colab.research.google.com/drive/1oIdU_g1U0IDrsOvJxumXP5-wES2Fcius"
      ]
    }
  ],
  "metadata": {
    "colab": {
      "provenance": [],
      "authorship_tag": "ABX9TyOTl8w2pDA7P5dk4LZGhYH/",
      "include_colab_link": true
    },
    "kernelspec": {
      "display_name": "Python 3",
      "name": "python3"
    },
    "language_info": {
      "name": "python"
    },
    "gpuClass": "standard"
  },
  "nbformat": 4,
  "nbformat_minor": 0
}