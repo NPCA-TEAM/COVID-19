{
  "cells": [
    {
      "cell_type": "markdown",
      "metadata": {
        "id": "view-in-github",
        "colab_type": "text"
      },
      "source": [
        "<a href=\"https://colab.research.google.com/github/NPCA-TEAM/COVID-19/blob/main/Scripts/PREDICAO_MODELOS_covid_obitos_ver1.ipynb\" target=\"_parent\"><img src=\"https://colab.research.google.com/assets/colab-badge.svg\" alt=\"Open In Colab\"/></a>"
      ]
    },
    {
      "cell_type": "markdown",
      "metadata": {
        "id": "MDVRez9ivbXr"
      },
      "source": [
        "#Instalação, importação de bibliotecas e inicialização"
      ]
    },
    {
      "cell_type": "markdown",
      "metadata": {
        "id": "RvpQPdBdUian"
      },
      "source": [
        "##Instalação das bibliotecas"
      ]
    },
    {
      "cell_type": "code",
      "execution_count": null,
      "metadata": {
        "id": "IfOWwR3W8efr"
      },
      "outputs": [],
      "source": [
        "#Inicia permitindo acesso ao GDrive\n",
        "from google.colab import drive\n",
        "drive.mount('/content/drive')"
      ]
    },
    {
      "cell_type": "code",
      "execution_count": null,
      "metadata": {
        "id": "mEt-ieggipCk"
      },
      "outputs": [],
      "source": [
        "!pip install pyyaml==5.4.1"
      ]
    },
    {
      "cell_type": "code",
      "execution_count": null,
      "metadata": {
        "id": "G5N9AQ0SitfJ"
      },
      "outputs": [],
      "source": [
        "!pip install darts"
      ]
    },
    {
      "cell_type": "code",
      "execution_count": null,
      "metadata": {
        "id": "kHVSe41RitIR"
      },
      "outputs": [],
      "source": [
        "!pip install matplotlib==3.1.3  #é necessário restart runtime "
      ]
    },
    {
      "cell_type": "code",
      "execution_count": null,
      "metadata": {
        "id": "lTTMJo3oexqp"
      },
      "outputs": [],
      "source": [
        "!pip install pytorch-lightning"
      ]
    },
    {
      "cell_type": "markdown",
      "metadata": {
        "id": "I3kwbr4cUrHH"
      },
      "source": [
        "##Importação das Bibliotecas"
      ]
    },
    {
      "cell_type": "code",
      "execution_count": null,
      "metadata": {
        "id": "FvcVpnCPjefR"
      },
      "outputs": [],
      "source": [
        "%load_ext autoreload\n",
        "%autoreload 2\n",
        "%matplotlib inline\n",
        "\n",
        "import pandas as pd\n",
        "import numpy as np\n",
        "import glob\n",
        "import os\n",
        "import sys\n",
        "import time\n",
        "import torch\n",
        "import json\n",
        "\n",
        "import matplotlib.pyplot as plt\n",
        "from matplotlib.dates import DateFormatter\n",
        "import matplotlib.dates as mdates\n",
        "\n",
        "from datetime import datetime\n",
        "\n",
        "from darts import timeseries\n",
        "from darts.dataprocessing.transformers import Scaler\n",
        "from darts import concatenate\n",
        "\n",
        "from darts.models import (    \n",
        "    NBEATSModel,\n",
        "    TCNModel,\n",
        "    TransformerModel,\n",
        "    TFTModel,\n",
        "    NHiTSModel\n",
        "    )\n",
        "\n",
        "from darts.metrics import mape, rmse, r2_score\n",
        "from darts.utils.timeseries_generation import datetime_attribute_timeseries\n",
        "from darts.utils.missing_values import fill_missing_values\n",
        "from darts.models import KalmanFilter\n",
        "\n",
        "from darts.utils.likelihood_models import (\n",
        "    GaussianLikelihood, \n",
        "    QuantileRegression \n",
        "    )\n",
        "\n",
        "import warnings\n",
        "warnings.filterwarnings('ignore')\n",
        "import logging\n",
        "logging.disable(logging.CRITICAL)\n",
        "torch.manual_seed(1); np.random.seed(1)  # for reproducibility"
      ]
    },
    {
      "cell_type": "markdown",
      "metadata": {
        "id": "RiNGBVhbu12n"
      },
      "source": [
        "#Dados e campos de entrada do framework\n"
      ]
    },
    {
      "cell_type": "code",
      "execution_count": null,
      "metadata": {
        "id": "TJPUoQRfjuXJ"
      },
      "outputs": [],
      "source": [
        "#Campos de entrada do framework\n",
        "NAME_SERIE_OCCURRENCE_DEATH = \"Obitos_DataOcorrencia_MM_atual_PA\"   #Variavel onde será adicionada o nome para a serie a ser analisada\n",
        "NAME_SERIE_PUBLICATION_DEATH = \"Obitos_Publicacao_MM_atual_PA\"   #Variavel onde será adicionada o nome para a serie a ser analisada\n",
        "\n",
        "#Número de anos para validação/teste. Similar a quantidade de dados de teste\n",
        "#Se num_days_of_slice_val = 1, indica que o ultimo ano da serie será usado para testar o modelo\n",
        "#Também indica a fatia usada como validação na fase de treinamento\n",
        "VALIDATION_DAYS_SLICED = 7\n",
        "\n",
        "#Número que indica o tamanho da fatia usada como treino na fase de treinamento. \n",
        "#Logo, o processo disposto neste script é baseado no metodo de janela deslizante.\n",
        "WORKOUT_DAYS_SLICED = 30\n",
        "\n",
        "#Numero de passos da previsão a frente da serie\n",
        "FORECAST_DAYS = 7\n",
        " \n",
        "# Arquivo com a base de dados\n",
        "PATH_DATASET = '/content/drive/MyDrive/NPCA - COVID/_OBITOS/DataSet/' \n",
        "\n",
        "#Pasta para salvamento do modelo\n",
        "PATH_MODELS = '/content/drive/MyDrive/NPCA - COVID/_OBITOS/Models/'\n",
        "PATH_FIGS = '/content/drive/MyDrive/NPCA - COVID/_OBITOS/Figs/'\n",
        "PATH_CSV = '/content/drive/MyDrive/NPCA - COVID/_OBITOS/ForecastsOutputModel/'"
      ]
    },
    {
      "cell_type": "markdown",
      "metadata": {
        "id": "8xX7CbOt0G9_"
      },
      "source": [
        "#Leitura do dataset"
      ]
    },
    {
      "cell_type": "code",
      "execution_count": null,
      "metadata": {
        "id": "GvP4WKsXj6BV"
      },
      "outputs": [],
      "source": [
        "#Seleciona o arquivo da base\n",
        "FILE_LIST = glob.glob(PATH_DATASET + '*')\n",
        "\n",
        "#Seleciona o ultimo arquivo que foi criado e adiciona na pasta\n",
        "FILE_PATH = max(FILE_LIST, key=os.path.getctime)\n",
        "\n",
        "#Faz leitura do arquivo excel como datafrade\n",
        "DATAFRAME = pd.read_excel(FILE_PATH, sheet_name=0)\n",
        "\n",
        "DATAFRAME"
      ]
    },
    {
      "cell_type": "markdown",
      "metadata": {
        "id": "wlp3EKa5PTP6"
      },
      "source": [
        "#Seleção das variáveis"
      ]
    },
    {
      "cell_type": "code",
      "execution_count": null,
      "metadata": {
        "id": "-9haIlfYQhfP"
      },
      "outputs": [],
      "source": [
        "#Seleção das variáveis alvo\n",
        "OCCURRENCE_DEATH = DATAFRAME.loc[:, ['data', 'Obitos_DataOcorrencia_MM_atual_PA']]\n",
        "PUBLICATION_DEATH = DATAFRAME.loc[:, ['data', 'Obitos_Publicacao_MM_atual_PA']]\n",
        "\n",
        "#Seleção das variáveis auxiliares\n",
        "#OCURRENCE_7DAYS__DEATH = DATAFRAME.loc[:, ['data', 'Obitos_DataOcorrencia_MM_7dias_PA']].fillna(0) \n",
        "#PUBLICATION_7DAYS = DATAFRAME.loc[:, ['data', 'Obitos_DataPublicacao_MM_7dias_PA']].fillna(0)\n",
        "OCURRENCE_14DAYS_DEATH = DATAFRAME.loc[:, ['data', 'Obito_DataOcorrencia_MM_14dias_PA']].fillna(0)\n",
        "PUBLICATION_14DAYS_DEATH = DATAFRAME.loc[:, ['data', 'Obitos_DataPublicacao_MM_14dias_PA']].fillna(0)\n",
        "#OBS: No predição historica usaremos somete o 14Dias. \n",
        "\n",
        "VACCINATION_1DOSE = DATAFRAME.loc[:, ['data', 'Vacinacao_Dose1_%decimal_PA']].fillna(0)\n",
        "VACCINATION_2DOSE = DATAFRAME.loc[:, ['data', 'Vacinacao_Dose2_%decimal_PA']].fillna(0)\n",
        "VACCINATION_3DOSE = DATAFRAME.loc[:, ['data', 'Vacinacao_Dose3_%decimal_PA']].fillna(0)\n",
        "\n",
        "#Renomeia variaveis.\n",
        "OCCURRENCE_7PREVIOUSDAYS_DEATH = OCURRENCE_14DAYS_DEATH.rename(columns = {'Obito_DataOcorrencia_MM_14dias_PA':'Obito_DataOcorrencia_MM_7diasAnteriores_PA'}, inplace = False)\n",
        "PUBLICACAO_7PREVIOUSDAYS_DEATH = PUBLICATION_14DAYS_DEATH.rename(columns = {'Obitos_DataPublicacao_MM_14dias_PA':'Obitos_DataPublicacao_MM_7diasAnteriores_PA'}, inplace = False)"
      ]
    },
    {
      "cell_type": "code",
      "execution_count": null,
      "metadata": {
        "id": "HfQqBYsH1las"
      },
      "outputs": [],
      "source": [
        "#Seleção das variáveis auxiliares de casos\n",
        "SYMPTOM_CASES = DATAFRAME.loc[:, ['data', 'Casos_DataSintoma_MM_atual_PA']]\n",
        "PUBLICATION_CASES = DATAFRAME.loc[:, ['data', 'Casos_Publicacao_MM_atual_PA']]\n",
        "\n",
        "SYMPTOM_14DAYS_CASES = DATAFRAME.loc[:, ['data', 'Casos_DataSintoma_MM_14dias_PA']].fillna(0)\n",
        "PUBLICATION_14DAYS_CASES = DATAFRAME.loc[:, ['data', 'Casos_Publicacao_MM_14dias_PA']].fillna(0)\n",
        "#OBS: No predição historica usaremos somente os 14 Dias. \n",
        "\n",
        "#Renomeia variaveis.\n",
        "SYMPTOM_7PREVIOUSDAYS_CASES = SYMPTOM_14DAYS_CASES.rename(columns = {'Casos_DataSintoma_MM_14dias_PA':'Casos_DataSintoma_MM_7diasAnteriores_PA'}, inplace = False)\n",
        "PUBLICATION_7PREVIOUSDAYS_CASES = PUBLICATION_14DAYS_CASES.rename(columns = {'Casos_Publicacao_MM_14dias_PA':'Casos_Publicacao_MM_7diasAnteriores_PA'}, inplace = False)"
      ]
    },
    {
      "cell_type": "markdown",
      "metadata": {
        "id": "eCSPZIK4DriJ"
      },
      "source": [
        "#Instanciação das séries temporais"
      ]
    },
    {
      "cell_type": "code",
      "execution_count": null,
      "metadata": {
        "id": "wT7WRvs4DvHa"
      },
      "outputs": [],
      "source": [
        "# criação das séries temporais alvos\n",
        "serie_occurrence_death = timeseries.TimeSeries.from_dataframe(df=OCCURRENCE_DEATH, time_col='data')\n",
        "serie_publication_death = timeseries.TimeSeries.from_dataframe(df=PUBLICATION_DEATH, time_col='data')\n",
        "\n",
        "plt.figure(figsize = (10, 6))\n",
        "\n",
        "serie_occurrence_death.plot()\n",
        "serie_publication_death.plot()"
      ]
    },
    {
      "cell_type": "code",
      "execution_count": null,
      "metadata": {
        "id": "BegUBtjt7As0"
      },
      "outputs": [],
      "source": [
        "# criação das séries temporais auxiliares de obitos\n",
        "serie_occurrence_death_7previousdays = timeseries.TimeSeries.from_dataframe(df=OCCURRENCE_7PREVIOUSDAYS_DEATH, time_col='data')\n",
        "serie_publication_death_7previousdays = timeseries.TimeSeries.from_dataframe(df=PUBLICACAO_7PREVIOUSDAYS_DEATH, time_col='data')\n",
        "\n",
        "plt.figure(figsize = (10, 6))\n",
        "\n",
        "serie_occurrence_death_7previousdays.plot()\n",
        "serie_publication_death_7previousdays.plot()"
      ]
    },
    {
      "cell_type": "code",
      "execution_count": null,
      "metadata": {
        "id": "OFSL-Ssc3mXU"
      },
      "outputs": [],
      "source": [
        "series_symptom_cases = timeseries.TimeSeries.from_dataframe(df=SYMPTOM_CASES, time_col='data')\n",
        "series_publication_cases = timeseries.TimeSeries.from_dataframe(df=PUBLICATION_CASES, time_col='data')\n",
        "\n",
        "plt.figure(figsize = (14, 10))\n",
        "\n",
        "series_symptom_cases.plot()\n",
        "series_publication_cases.plot()"
      ]
    },
    {
      "cell_type": "code",
      "execution_count": null,
      "metadata": {
        "id": "pE5ycA753qbc"
      },
      "outputs": [],
      "source": [
        "series_symptom_cases_7previousdays = timeseries.TimeSeries.from_dataframe(df=SYMPTOM_7PREVIOUSDAYS_CASES, time_col='data')\n",
        "series_publication_cases_7previousdays = timeseries.TimeSeries.from_dataframe(df=PUBLICATION_7PREVIOUSDAYS_CASES, time_col='data')\n",
        "\n",
        "plt.figure(figsize = (14, 10))\n",
        "\n",
        "series_symptom_cases_7previousdays.plot()\n",
        "series_publication_cases_7previousdays.plot()"
      ]
    },
    {
      "cell_type": "code",
      "execution_count": null,
      "metadata": {
        "id": "kbxhoAPE7lQO"
      },
      "outputs": [],
      "source": [
        "# criação das séries temporais auxiliares de vacinação\n",
        "serie_vaccination_1Dose = timeseries.TimeSeries.from_dataframe(df=VACCINATION_1DOSE, time_col='data')\n",
        "serie_vaccination_2Dose = timeseries.TimeSeries.from_dataframe(df=VACCINATION_2DOSE, time_col='data')\n",
        "serie_vaccination_3Dose = timeseries.TimeSeries.from_dataframe(df=VACCINATION_3DOSE, time_col='data')\n",
        "\n",
        "plt.figure(figsize = (10, 6))\n",
        "\n",
        "serie_vaccination_1Dose.plot()\n",
        "serie_vaccination_2Dose.plot()\n",
        "serie_vaccination_3Dose.plot()"
      ]
    },
    {
      "cell_type": "markdown",
      "metadata": {
        "id": "kZlwXrseqluW"
      },
      "source": [
        "#Filtro de suaviação das variáveis"
      ]
    },
    {
      "cell_type": "code",
      "execution_count": null,
      "metadata": {
        "id": "L6oFZE73qiau"
      },
      "outputs": [],
      "source": [
        "def filter_for_suavization(serie):\n",
        "  filterKalman = KalmanFilter(dim_x = 1)\n",
        "  filterKalman.fit(serie)\n",
        "  serieTemp_filtered = filterKalman.filter(serie)\n",
        "\n",
        "  return serieTemp_filtered"
      ]
    },
    {
      "cell_type": "code",
      "execution_count": null,
      "metadata": {
        "id": "4GGv0OcyFRFj"
      },
      "outputs": [],
      "source": [
        "#Suavização das series alvos (tratar outliers)\n",
        "smoothed_occurrence_death_serie = filter_for_suavization(serie_occurrence_death)\n",
        "smoothed_publication_death_serie = filter_for_suavization(serie_publication_death)\n",
        "\n",
        "plt.figure(figsize = (10, 6))\n",
        "\n",
        "serie_occurrence_death.plot(label=\"Ocorrencia Obitos\")\n",
        "smoothed_occurrence_death_serie.plot(label=\"Ocorrencia Obitos Suav\")\n",
        "serie_publication_death.plot(label=\"Publicação Obitos\")\n",
        "smoothed_publication_death_serie.plot(label=\"Publicação Obitos Suav\")"
      ]
    },
    {
      "cell_type": "markdown",
      "metadata": {
        "id": "y3GVSE6_sYS2"
      },
      "source": [
        "#Escalar (normalização entre 0 e 1)"
      ]
    },
    {
      "cell_type": "code",
      "execution_count": null,
      "metadata": {
        "id": "3nqsfJ8_r87-"
      },
      "outputs": [],
      "source": [
        "def process_scaler(serie):\n",
        "  Scaler_obj = Scaler()\n",
        "  serieTemp_scaled = Scaler_obj.fit_transform(serie)\n",
        "\n",
        "  return serieTemp_scaled, Scaler_obj"
      ]
    },
    {
      "cell_type": "code",
      "execution_count": null,
      "metadata": {
        "id": "eyjKyAQdAU1u"
      },
      "outputs": [],
      "source": [
        "#pré-processamento e normalização [0, 1]\n",
        "normalized_occurrence_serie_death, SCALER_occurrence_death = process_scaler(smoothed_occurrence_death_serie)\n",
        "normalized_publication_serie_death, SCALER_publication_death = process_scaler(smoothed_publication_death_serie)\n",
        "\n",
        "occurrence_series_death_7days_ago_normalized, SCALER_occurrence_death_14days = process_scaler(serie_occurrence_death_7previousdays)\n",
        "publication_series_death_7days_ago_normalized, SCALER_publication_death_14days = process_scaler(serie_publication_death_7previousdays)"
      ]
    },
    {
      "cell_type": "code",
      "execution_count": null,
      "metadata": {
        "id": "pU-dDqDAKf6Q"
      },
      "outputs": [],
      "source": [
        "plt.figure(figsize = (10, 6))\n",
        "\n",
        "normalized_occurrence_serie_death.plot()\n",
        "normalized_publication_serie_death.plot()\n",
        "\n",
        "occurrence_series_death_7days_ago_normalized.plot()\n",
        "publication_series_death_7days_ago_normalized.plot()"
      ]
    },
    {
      "cell_type": "code",
      "execution_count": null,
      "metadata": {
        "id": "6cgiIzy94loO"
      },
      "outputs": [],
      "source": [
        "#pré-processamento e normalização [0, 1]\n",
        "normalized_symptom_cases_series, Scaler_symptom = process_scaler(series_symptom_cases)\n",
        "normalized_publication_cases_series, Scaler_publication = process_scaler(series_publication_cases)\n",
        "\n",
        "symptom_cases_series_7days_ago_normalized, Scaler_symptom_14days = process_scaler(series_symptom_cases_7previousdays)\n",
        "publication_cases_series_7days_ago_normalized, Scaler_publication_14days = process_scaler(series_publication_cases_7previousdays)"
      ]
    },
    {
      "cell_type": "code",
      "execution_count": null,
      "metadata": {
        "id": "tVZMNGx14nL9"
      },
      "outputs": [],
      "source": [
        "plt.figure(figsize = (14, 10))\n",
        "\n",
        "normalized_symptom_cases_series.plot()\n",
        "normalized_publication_cases_series.plot()\n",
        "\n",
        "symptom_cases_series_7days_ago_normalized.plot()\n",
        "publication_cases_series_7days_ago_normalized.plot()"
      ]
    },
    {
      "cell_type": "markdown",
      "metadata": {
        "id": "mjTXoInTtBX-"
      },
      "source": [
        "#Definição de Covariáveis"
      ]
    },
    {
      "cell_type": "code",
      "execution_count": null,
      "metadata": {
        "id": "iiP3y4SdstLg"
      },
      "outputs": [],
      "source": [
        "def define_covariate_dates(serie_temp_normalizada):  #modificar nomes\n",
        "  #Definir covariavel ano\n",
        "  scaler_CovarYear, scaler_CovarMonth = Scaler(), Scaler()\n",
        "  covariate_y = datetime_attribute_timeseries(serie_temp_normalizada, attribute='year', add_length = FORECAST_DAYS)\n",
        "  covariate_y = scaler_CovarYear.fit_transform(covariate_y)\n",
        "\n",
        "  #Definir covariavel mes\n",
        "  covariate_m = datetime_attribute_timeseries(serie_temp_normalizada, attribute='month', add_length = FORECAST_DAYS)\n",
        "  covariate_m = scaler_CovarMonth.fit_transform(covariate_m)\n",
        "\n",
        "  #Definir covariavel day of week\n",
        "  covariate_dw = datetime_attribute_timeseries(serie_temp_normalizada, attribute='dayofweek', add_length = FORECAST_DAYS)\n",
        "  covariate_dw = scaler_CovarMonth.fit_transform(covariate_dw)\n",
        "\n",
        "  return covariate_y, covariate_m, covariate_dw"
      ]
    },
    {
      "cell_type": "code",
      "execution_count": null,
      "metadata": {
        "id": "s3MBajxnsxeI"
      },
      "outputs": [],
      "source": [
        "#definição das covariáveis\n",
        "covariate_year_occurrence_death, covariate_month_occurrence_death, covariate_dayweek_occurrence_death = define_covariate_dates(normalized_occurrence_serie_death)"
      ]
    },
    {
      "cell_type": "code",
      "execution_count": null,
      "metadata": {
        "id": "HKQhjyZR1MyB"
      },
      "outputs": [],
      "source": [
        "#Visualização das series covariaveis de data\n",
        "plt.figure(figsize = (14, 10))\n",
        "covariate_year_occurrence_death.plot(label='Covariates by Year')\n",
        "covariate_month_occurrence_death.plot(label='Covariates by Month')\n",
        "\n",
        "plt.title(label='Series of Covariates by Month and Year (Death)', fontsize=16)\n",
        "plt.savefig(PATH_FIGS + 'Series of Covariates by Month and Year (Death).png', dpi=300)"
      ]
    },
    {
      "cell_type": "code",
      "execution_count": null,
      "metadata": {
        "id": "WJzs5rQ-AG6O"
      },
      "outputs": [],
      "source": [
        "plt.figure(figsize = (14, 10))\n",
        "covariate_dayweek_occurrence_death[-30:].plot(label='Day of Week' ,marker='o')\n",
        "\n",
        "plt.title(label='Series of Covariates by Days of The Week (Death)', fontsize=16)\n",
        "plt.savefig(PATH_FIGS + 'Series of Covariates by Days of The Week (Death).png', dpi=300)"
      ]
    },
    {
      "cell_type": "markdown",
      "metadata": {
        "id": "raNjZdiDtFo9"
      },
      "source": [
        "#Divisão do dataset de treino e validação"
      ]
    },
    {
      "cell_type": "code",
      "execution_count": null,
      "metadata": {
        "id": "ZHpCgDl0s5Z6"
      },
      "outputs": [],
      "source": [
        "#Dividir em dados de treino e teste\n",
        "def split_train_val_series(serie):\n",
        "  s_train, s_val = serie[:-VALIDATION_DAYS_SLICED], serie[-VALIDATION_DAYS_SLICED:]\n",
        "  \n",
        "  return s_train, s_val"
      ]
    },
    {
      "cell_type": "code",
      "execution_count": null,
      "metadata": {
        "id": "SNaxpEp5s3xE"
      },
      "outputs": [],
      "source": [
        "#divisão dos dados de treino e testes\n",
        "serieTrain_occurrence_death, serieVal_occurrence_death = split_train_val_series(normalized_occurrence_serie_death)\n",
        "serieTrain_publication_death, serieVal_publication_death = split_train_val_series(normalized_publication_serie_death)"
      ]
    },
    {
      "cell_type": "code",
      "execution_count": null,
      "metadata": {
        "id": "Z0mxNGzCGEzb"
      },
      "outputs": [],
      "source": [
        "#Visualização das Series Alvos\n",
        "plt.figure(figsize = (10, 6))\n",
        "\n",
        "serieTrain_occurrence_death[-30:].plot()   # plotagem dos ultimos 30 dias para treino\n",
        "serieVal_occurrence_death.plot()\n",
        "serieTrain_publication_death[-30:].plot()   # plotagem dos ultimos 30 dias para treino\n",
        "serieVal_publication_death.plot()"
      ]
    },
    {
      "cell_type": "markdown",
      "metadata": {
        "id": "AaVlpf88KpIj"
      },
      "source": [
        "\n",
        "#Predição dos modelos"
      ]
    },
    {
      "cell_type": "markdown",
      "metadata": {
        "id": "mtGNmM3bK9PA"
      },
      "source": [
        "##Preparação para predição"
      ]
    },
    {
      "cell_type": "code",
      "execution_count": null,
      "metadata": {
        "id": "MYl8vZU1K_hb"
      },
      "outputs": [],
      "source": [
        "#Junção das variaveis alvo e coovariaveis\n",
        "series_Train = serieTrain_occurrence_death.stack(serieTrain_publication_death)\n",
        "\n",
        "covariatesDate = covariate_year_occurrence_death.stack(covariate_month_occurrence_death.stack(covariate_dayweek_occurrence_death))\n",
        "covariatesCases = normalized_symptom_cases_series.stack(normalized_publication_cases_series.stack(symptom_cases_series_7days_ago_normalized.stack(publication_cases_series_7days_ago_normalized)))\n",
        "covariatesDeaths = occurrence_series_death_7days_ago_normalized.stack(publication_series_death_7days_ago_normalized)\n",
        "covariatesVacination = serie_vaccination_1Dose.stack(serie_vaccination_2Dose.stack(serie_vaccination_3Dose))\n",
        "\n",
        "#O [:-FORECAST_DAYS] é um corte na covariatesDate para que as covariaveis tenham o mesmo numero de dias.\n",
        "covariates = covariatesDate[:-FORECAST_DAYS].stack(covariatesDeaths.stack(covariatesCases.stack(covariatesVacination)))\n",
        "\n",
        "plt.figure(figsize = (10, 6))\n",
        "series_Train.plot()\n",
        "covariates.plot()"
      ]
    },
    {
      "cell_type": "markdown",
      "metadata": {
        "id": "mEgsMkDPLPUX"
      },
      "source": [
        "##Importação dos modelos para predição"
      ]
    },
    {
      "cell_type": "code",
      "execution_count": null,
      "metadata": {
        "id": "AgBnzTihLOaD"
      },
      "outputs": [],
      "source": [
        "#Seleciona os arquivos \n",
        "file_list_models = glob.glob(PATH_MODELS + '*.tar')\n",
        "\n",
        "#Seleciona os arquivos adicionados mais recentementes na pasta\n",
        "file_path_models = sorted(file_list_models, key=os.path.getctime, reverse=True)"
      ]
    },
    {
      "cell_type": "code",
      "execution_count": null,
      "metadata": {
        "id": "d8paNvOB1PuY"
      },
      "outputs": [],
      "source": [
        "#Filtrar caominhos dos modelos que tem extensão pth.tar validas\n",
        "current_year = str(datetime.today().year)\n",
        "file_path_models_currents = list(filter(lambda x: current_year+'.pth.tar' in x, file_path_models))"
      ]
    },
    {
      "cell_type": "code",
      "execution_count": null,
      "metadata": {
        "id": "ZQpFGSea3h6M"
      },
      "outputs": [],
      "source": [
        "#Selecionar o caminho dos modelos\n",
        "NBEATS_model_path = list(filter(lambda x: 'NBEATS' in x, file_path_models_currents))[0]\n",
        "model_NBEATSModel = NBEATSModel.load_model(NBEATS_model_path)\n",
        "print(NBEATS_model_path)\n",
        "\n",
        "TCN_model_path = list(filter(lambda x: 'TCN' in x, file_path_models_currents))[0]\n",
        "model_TCNModel = TCNModel.load_model(TCN_model_path)\n",
        "print(TCN_model_path)\n",
        "\n",
        "TFT_model_path = list(filter(lambda x: 'TFT' in x, file_path_models_currents))[0]\n",
        "model_TFTModel = TFTModel.load_model(TFT_model_path)\n",
        "print(TFT_model_path)\n",
        "\n",
        "TRANSFORMER_model_path = list(filter(lambda x: 'TRANSFORMER' in x, file_path_models_currents))[0]\n",
        "model_TRANSFORMERModel = TransformerModel.load_model(TRANSFORMER_model_path)\n",
        "print(TRANSFORMER_model_path)\n",
        "\n",
        "NHITS_model_path = list(filter(lambda x: 'NHITS' in x, file_path_models_currents))[0]\n",
        "model_NHITSModel = NHiTSModel.load_model(NHITS_model_path)\n",
        "print(NHITS_model_path)"
      ]
    },
    {
      "cell_type": "markdown",
      "metadata": {
        "id": "GClb9V0DUx0O"
      },
      "source": [
        "##Acelerador COLAB"
      ]
    },
    {
      "cell_type": "code",
      "execution_count": null,
      "metadata": {
        "id": "Ga5MA841FBus"
      },
      "outputs": [],
      "source": [
        "# Utilizar o acelerador de GPU do colab (para treinamento)\n",
        "import tensorflow as tf\n",
        "\n",
        "device_name = tf.test.gpu_device_name()\n",
        "if device_name != '/device:GPU:0':\n",
        "  print('GPU device not found')\n",
        "else:\n",
        "  print('Found GPU at: {}'.format(device_name))\n",
        "  tf.device('/device:GPU:0')\n",
        "  print()\n",
        "\n",
        "  physical_devices = tf.config.experimental.list_logical_devices('GPU')\n",
        "  print(\"GPUs available: \", physical_devices)\n",
        "  print(\"GPUs available: \", len(physical_devices))\n",
        "  print(physical_devices[0].name)\n",
        "  print()\n",
        "\n",
        "  # Qual placa de video GPU estou usando?\n",
        "  from tensorflow.python.client import device_lib\n",
        "  device_lib.list_local_devices()\n",
        "  print(device_lib.list_local_devices())"
      ]
    },
    {
      "cell_type": "markdown",
      "metadata": {
        "id": "yOSsfr8bck8o"
      },
      "source": [
        "##Predição sobre dados de treino"
      ]
    },
    {
      "cell_type": "code",
      "execution_count": null,
      "metadata": {
        "id": "Rx-7q0-VtA0v"
      },
      "outputs": [],
      "source": [
        "from timeit import default_timer as timer\n",
        "start = timer()"
      ]
    },
    {
      "cell_type": "code",
      "execution_count": null,
      "metadata": {
        "id": "oKzZtFIxf5BD"
      },
      "outputs": [],
      "source": [
        "def historical_forecasts(model, series_target, covariates):\n",
        "  serie_hist_fcast = model.historical_forecasts(\n",
        "      series = series_target,\n",
        "      past_covariates = covariates,\n",
        "      start = WORKOUT_DAYS_SLICED,\n",
        "      forecast_horizon = VALIDATION_DAYS_SLICED,\n",
        "      stride = 1,\n",
        "      num_samples = 50,  #pode ser reduzido para teste. valor padrão: 50\n",
        "      retrain = False,\n",
        "      verbose = False \n",
        "      )\n",
        "  \n",
        "  return serie_hist_fcast"
      ]
    },
    {
      "cell_type": "code",
      "execution_count": null,
      "metadata": {
        "id": "zT9YhGJkdK8a"
      },
      "outputs": [],
      "source": [
        "historical_forecasts_NBEATS = historical_forecasts(model_NBEATSModel, series_Train, covariates)"
      ]
    },
    {
      "cell_type": "code",
      "execution_count": null,
      "metadata": {
        "id": "_c54p2Ltt6D-"
      },
      "outputs": [],
      "source": [
        "historical_forecasts_TCN = historical_forecasts(model_TCNModel, series_Train, covariates)"
      ]
    },
    {
      "cell_type": "code",
      "execution_count": null,
      "metadata": {
        "id": "eecDKoLht8CO"
      },
      "outputs": [],
      "source": [
        "historical_forecasts_TFT = historical_forecasts(model_TFTModel, series_Train, covariates)"
      ]
    },
    {
      "cell_type": "code",
      "execution_count": null,
      "metadata": {
        "id": "lwJmvkJg3q_s"
      },
      "outputs": [],
      "source": [
        "historical_forecasts_Transformer = historical_forecasts(model_TRANSFORMERModel, series_Train, covariates)"
      ]
    },
    {
      "cell_type": "code",
      "execution_count": null,
      "metadata": {
        "id": "Ur6w1WA71yfT"
      },
      "outputs": [],
      "source": [
        "historical_forecasts_NHITS = historical_forecasts(model_NHITSModel, series_Train, covariates)"
      ]
    },
    {
      "cell_type": "markdown",
      "metadata": {
        "id": "q1YJr0IRciYs"
      },
      "source": [
        "##Predição sobre dados de validação"
      ]
    },
    {
      "cell_type": "code",
      "execution_count": null,
      "metadata": {
        "id": "gzs0mQkigiNd"
      },
      "outputs": [],
      "source": [
        "def serie_predict(model, series_target, covariates):\n",
        "  serie_predicted = model.predict(\n",
        "      n = FORECAST_DAYS,\n",
        "      series = series_target,\n",
        "      past_covariates = covariates,\n",
        "      num_samples = 50,\n",
        "      n_jobs = -1) \n",
        "  \n",
        "  return serie_predicted"
      ]
    },
    {
      "cell_type": "code",
      "execution_count": null,
      "metadata": {
        "id": "gYM0cHmCuCqg"
      },
      "outputs": [],
      "source": [
        "serie_predict_NBEATS = serie_predict(model_NBEATSModel, series_Train, covariates)"
      ]
    },
    {
      "cell_type": "code",
      "execution_count": null,
      "metadata": {
        "id": "bOr_xWLfYl3g"
      },
      "outputs": [],
      "source": [
        "serie_predict_TCN = serie_predict(model_TCNModel, series_Train, covariates)"
      ]
    },
    {
      "cell_type": "code",
      "execution_count": null,
      "metadata": {
        "id": "TzCMMazOYltn"
      },
      "outputs": [],
      "source": [
        "serie_predict_TFT = serie_predict(model_TFTModel, series_Train, covariates)"
      ]
    },
    {
      "cell_type": "code",
      "execution_count": null,
      "metadata": {
        "id": "XrlQf8Z-YlpF"
      },
      "outputs": [],
      "source": [
        "serie_predict_Transformer = serie_predict(model_TRANSFORMERModel, series_Train, covariates)"
      ]
    },
    {
      "cell_type": "code",
      "execution_count": null,
      "metadata": {
        "id": "X2NbG_cd18Xr"
      },
      "outputs": [],
      "source": [
        "serie_predict_NHITS = serie_predict(model_NHITSModel, series_Train, covariates)"
      ]
    },
    {
      "cell_type": "code",
      "execution_count": null,
      "metadata": {
        "id": "kL8MHUb2sz1-"
      },
      "outputs": [],
      "source": [
        "end = timer()\n",
        "print(\"Tempo decorrido de predição: {:.2f}\".format(end - start))"
      ]
    },
    {
      "cell_type": "markdown",
      "metadata": {
        "id": "JbGScGa1cuFf"
      },
      "source": [
        "##Visualização das predições\n"
      ]
    },
    {
      "cell_type": "code",
      "execution_count": null,
      "metadata": {
        "id": "e1Pq6JLYtsr3"
      },
      "outputs": [],
      "source": [
        "#Visualizar series alvos e predições\n",
        "plt.figure(figsize = (10, 7))\n",
        "series_Train.plot()\n",
        "serieVal_occurrence_death.plot(label ='serieVal_ocorrencia - Real')\n",
        "serieVal_publication_death.plot(label ='serieVal_publication - Real')\n",
        "\n",
        "historical_forecasts_NBEATS.plot()\n",
        "serie_predict_NBEATS.plot()"
      ]
    },
    {
      "cell_type": "code",
      "execution_count": null,
      "metadata": {
        "id": "-_F7D6lbO4pm"
      },
      "outputs": [],
      "source": [
        "#Visualizar series alvos e predições\n",
        "plt.figure(figsize = (10, 7))\n",
        "series_Train[-30:].plot()\n",
        "serieVal_occurrence_death.plot(label ='serieVal_ocorrencia - Real')\n",
        "serieVal_publication_death.plot(label ='serieVal_publication - Real')\n",
        "\n",
        "historical_forecasts_NBEATS[-30:].plot()\n",
        "serie_predict_NBEATS.plot()"
      ]
    },
    {
      "cell_type": "code",
      "execution_count": null,
      "metadata": {
        "id": "UUypolQWc1tv"
      },
      "outputs": [],
      "source": [
        "#Visualizar series alvos e predições\n",
        "plt.figure(figsize = (10, 7))\n",
        "series_Train[-30:].plot()\n",
        "serieVal_occurrence_death.plot(label ='serieVal_ocorrencia - Real')\n",
        "serieVal_publication_death.plot(label ='serieVal_publication - Real')\n",
        "\n",
        "historical_forecasts_TCN[-30:].plot()\n",
        "serie_predict_TCN.plot()"
      ]
    },
    {
      "cell_type": "code",
      "execution_count": null,
      "metadata": {
        "id": "q1HBH2MJc_1T"
      },
      "outputs": [],
      "source": [
        "#Visualizar series alvos e predições\n",
        "plt.figure(figsize = (10, 7))\n",
        "series_Train.plot()\n",
        "serieVal_occurrence_death.plot(label ='serieVal_ocorrencia - Real')\n",
        "serieVal_publication_death.plot(label ='serieVal_publication - Real')\n",
        "\n",
        "historical_forecasts_TFT.plot()\n",
        "serie_predict_TFT.plot()"
      ]
    },
    {
      "cell_type": "code",
      "execution_count": null,
      "metadata": {
        "id": "tivGUOTqdMER"
      },
      "outputs": [],
      "source": [
        "#Visualizar series alvos e predições\n",
        "plt.figure(figsize = (10, 7))\n",
        "series_Train.plot()\n",
        "serieVal_occurrence_death.plot(label ='serieVal_ocorrencia - Real')\n",
        "serieVal_publication_death.plot(label ='serieVal_publication - Real')\n",
        "\n",
        "historical_forecasts_Transformer.plot()\n",
        "serie_predict_Transformer.plot()"
      ]
    },
    {
      "cell_type": "code",
      "execution_count": null,
      "metadata": {
        "id": "McDePlcsdL-b"
      },
      "outputs": [],
      "source": [
        "  #Visualizar series alvos e predições\n",
        "plt.figure(figsize = (10, 7))\n",
        "series_Train[-30:].plot()\n",
        "serieVal_occurrence_death.plot(label ='serieVal_ocorrencia - Real')\n",
        "serieVal_publication_death.plot(label ='serieVal_publication - Real')\n",
        "\n",
        "historical_forecasts_NHITS[-30:].plot()\n",
        "serie_predict_NHITS.plot()"
      ]
    },
    {
      "cell_type": "markdown",
      "metadata": {
        "id": "dgzdK7FFQvYm"
      },
      "source": [
        "#Geração e Visualização da mediana das series"
      ]
    },
    {
      "cell_type": "code",
      "execution_count": null,
      "metadata": {
        "id": "5ufLnRP35WU6"
      },
      "outputs": [],
      "source": [
        "def series_view(historical_forecasts, serie_predict):\n",
        "  occurrence_histfcast_median = historical_forecasts['Obitos_DataOcorrencia_MM_atual_PA'].median()\n",
        "  publication_histfcast_median = historical_forecasts['Obitos_Publicacao_MM_atual_PA'].median()\n",
        "\n",
        "  occurrence_pred_median = serie_predict['Obitos_DataOcorrencia_MM_atual_PA'].median()\n",
        "  publication_pred_median = serie_predict['Obitos_Publicacao_MM_atual_PA'].median()\n",
        "\n",
        "  return occurrence_histfcast_median, publication_histfcast_median, occurrence_pred_median, publication_pred_median"
      ]
    },
    {
      "cell_type": "code",
      "execution_count": null,
      "metadata": {
        "id": "bwHCNSFFQ22z"
      },
      "outputs": [],
      "source": [
        "NBEATS_occurrence_histfcast_median, NBEATS_publication_histfcast_median, NBEATS_occurrence_pred_median, NBEATS_publication_pred_median = series_view(historical_forecasts_NBEATS, serie_predict_NBEATS)\n",
        "\n",
        "#Aumento do tamanho da figura (x, y)\n",
        "plt.figure(figsize = (14, 9))\n",
        "\n",
        "NBEATS_occurrence_histfcast_median.plot(label='NBEATS_Mediana_Previsão_Histórica Obitos_DataOcorrencia_MM_atual_PA')\n",
        "NBEATS_publication_histfcast_median.plot(label='NBEATS_Mediana_Previsão_Histórica Obitos_Publicacao_MM_atual_PA')\n",
        "NBEATS_occurrence_pred_median.plot()\n",
        "NBEATS_publication_pred_median.plot()"
      ]
    },
    {
      "cell_type": "code",
      "execution_count": null,
      "metadata": {
        "id": "G7p873nKQ2zv"
      },
      "outputs": [],
      "source": [
        "TCN_occurrence_histfcast_median, TCN_publication_histfcast_median, TCN_occurrence_pred_median, TCN_publication_pred_median = series_view(historical_forecasts_TCN, serie_predict_TCN)\n",
        "\n",
        "#Aumento do tamanho da figura (x, y)\n",
        "plt.figure(figsize = (15, 10))\n",
        "\n",
        "TCN_occurrence_histfcast_median.plot(label='TCN_Mediana_Previsão_Histórica Obitos_DataOcorrencia_MM_atual_PA')\n",
        "TCN_publication_histfcast_median.plot(label='TCN_Mediana_Previsão_Histórica Obitos_Publicacao_MM_atual_PA')\n",
        "TCN_occurrence_pred_median.plot()\n",
        "TCN_publication_pred_median.plot()"
      ]
    },
    {
      "cell_type": "code",
      "execution_count": null,
      "metadata": {
        "id": "PUrGQBVTQ2v-"
      },
      "outputs": [],
      "source": [
        "TFT_occurrence_histfcast_median, TFT_publication_histfcast_median, TFT_occurrence_pred_median, TFT_publication_pred_median = series_view(historical_forecasts_TFT, serie_predict_TFT)\n",
        "\n",
        "#Aumento do tamanho da figura (x, y)\n",
        "plt.figure(figsize = (15, 10))\n",
        "\n",
        "TFT_occurrence_histfcast_median.plot(label='TFT_Mediana_Previsão_Histórica Obitos_Dataoccurrence_MM_atual_PA')\n",
        "TFT_publication_histfcast_median.plot(label='TFT_Mediana_Previsão_Histórica Obitos_Publicacao_MM_atual_PA')\n",
        "TFT_occurrence_pred_median.plot()\n",
        "TFT_publication_pred_median.plot()"
      ]
    },
    {
      "cell_type": "code",
      "execution_count": null,
      "metadata": {
        "id": "f7cLOZk_Q2gg"
      },
      "outputs": [],
      "source": [
        "Transformer_occurrence_histfcast_median, Transformer_publication_histfcast_median, Transformer_occurrence_pred_median, Transformer_publication_pred_median = series_view(historical_forecasts_Transformer, serie_predict_Transformer)\n",
        "\n",
        "#Aumento do tamanho da figura (x, y)\n",
        "plt.figure(figsize = (15, 10))\n",
        "\n",
        "Transformer_occurrence_histfcast_median.plot(label='TRANSFORMER_Mediana_Previsão_Histórica Obitos_DataOcorrencia_MM_atual_PA')\n",
        "Transformer_publication_histfcast_median.plot(label='TRANSFORMER_Mediana_Previsão_Histórica Obitos_Publicacao_MM_atual_PA')\n",
        "Transformer_occurrence_pred_median.plot()\n",
        "Transformer_publication_pred_median.plot()"
      ]
    },
    {
      "cell_type": "code",
      "execution_count": null,
      "metadata": {
        "id": "h7eyNfKv2K6J"
      },
      "outputs": [],
      "source": [
        "NHITS_occurrence_histfcast_median, NHITS_publication_histfcast_median, NHITS_occurrence_pred_median, NHITS_publication_pred_median = series_view(historical_forecasts_NHITS, serie_predict_NHITS)\n",
        "\n",
        "#Aumento do tamanho da figura (x, y)\n",
        "plt.figure(figsize = (15, 10))\n",
        "\n",
        "NHITS_occurrence_histfcast_median.plot(label='NHITS_Mediana_Previsão_Histórica Obitos_DataOcorrencia_MM_atual_PA')\n",
        "NHITS_publication_histfcast_median.plot(label='NHITS_Mediana_Previsão_Histórica Obitos_Publicacao_MM_atual_PA')\n",
        "NHITS_occurrence_pred_median.plot()\n",
        "NHITS_publication_pred_median.plot()"
      ]
    },
    {
      "cell_type": "markdown",
      "metadata": {
        "id": "XmBpYSX9kN2f"
      },
      "source": [
        "#Re-escala dos dados gerados\n",
        "\n",
        "\n"
      ]
    },
    {
      "cell_type": "code",
      "execution_count": null,
      "metadata": {
        "colab": {
          "background_save": true
        },
        "id": "4CPsT6yZ8j3V"
      },
      "outputs": [],
      "source": [
        "def process_re_scaling(Scaler_serie, serie_scaled): \n",
        "  #Volta para a escala original\n",
        "  serie_back = Scaler_serie.inverse_transform(serie_scaled)  \n",
        "\n",
        "  return serie_back"
      ]
    },
    {
      "cell_type": "code",
      "execution_count": null,
      "metadata": {
        "colab": {
          "background_save": true
        },
        "id": "6yF12A1oi4V2"
      },
      "outputs": [],
      "source": [
        "#Re-escala e Visualização do alvo de publicação - NBEATS\n",
        "\n",
        "NBEATS_serie_publication_histfcast_rescaled = process_re_scaling(SCALER_publication_death, NBEATS_publication_histfcast_median)\n",
        "NBEATS_serie_publication_pred_rescaled = process_re_scaling(SCALER_publication_death, NBEATS_publication_pred_median)\n",
        "NBEATS_serie_occurrence_histfcast_rescaled = process_re_scaling(SCALER_occurrence_death, NBEATS_occurrence_histfcast_median)\n",
        "NBEATS_serie_occurrence_pred_rescaled = process_re_scaling(SCALER_occurrence_death, NBEATS_occurrence_pred_median)\n",
        "\n",
        "\n",
        "#Re-escala e Visualização do alvo de publicação - TCN\n",
        "TCN_serie_publication_histfcast_rescaled = process_re_scaling(SCALER_publication_death, TCN_publication_histfcast_median)\n",
        "TCN_serie_publication_pred_rescaled = process_re_scaling(SCALER_publication_death, TCN_publication_pred_median)\n",
        "TCN_serie_occurrence_histfcast_rescaled = process_re_scaling(SCALER_occurrence_death, TCN_occurrence_histfcast_median)\n",
        "TCN_serie_occurrence_pred_rescaled = process_re_scaling(SCALER_occurrence_death, TCN_occurrence_pred_median) \n",
        "\n",
        "\n",
        "#Re-escala e Visualização do alvo de publicação - TFT\n",
        "TFT_serie_publication_histfcast_rescaled = process_re_scaling(SCALER_publication_death, TFT_publication_histfcast_median)\n",
        "TFT_serie_publication_pred_rescaled = process_re_scaling(SCALER_publication_death, TFT_publication_pred_median)\n",
        "TFT_serie_occurrence_histfcast_rescaled = process_re_scaling(SCALER_occurrence_death, TFT_occurrence_histfcast_median)\n",
        "TFT_serie_occurrence_pred_rescaled = process_re_scaling(SCALER_occurrence_death, TFT_occurrence_pred_median)\n",
        "\n",
        "\n",
        "#Re-escala e Visualização do alvo de publicação - TRANSFORMER\n",
        "Transformer_serie_publication_histfcast_rescaled = process_re_scaling(SCALER_publication_death, Transformer_publication_histfcast_median)\n",
        "Transformer_serie_publication_pred_rescaled = process_re_scaling(SCALER_publication_death, Transformer_publication_pred_median)\n",
        "Transformer_serie_occurrence_histfcast_rescaled = process_re_scaling(SCALER_occurrence_death, Transformer_occurrence_histfcast_median)\n",
        "Transformer_serie_occurrence_pred_rescaled = process_re_scaling(SCALER_occurrence_death, Transformer_occurrence_pred_median)\n",
        "\n",
        "\n",
        "#Re-escala e Visualização do alvo de publicação - NHITS\n",
        "NHITS_serie_publication_histfcast_rescaled = process_re_scaling(SCALER_publication_death, NHITS_publication_histfcast_median)\n",
        "NHITS_serie_publication_pred_rescaled = process_re_scaling(SCALER_publication_death, NHITS_publication_pred_median)\n",
        "NHITS_serie_occurrence_histfcast_rescaled = process_re_scaling(SCALER_occurrence_death, NHITS_occurrence_histfcast_median)\n",
        "NHITS_serie_occurrence_pred_rescaled = process_re_scaling(SCALER_occurrence_death, NHITS_occurrence_pred_median)"
      ]
    },
    {
      "cell_type": "code",
      "execution_count": null,
      "metadata": {
        "id": "13kD3x1akP9X"
      },
      "outputs": [],
      "source": [
        "title_7days = 'Moving average (7 days) forecast of deaths'\n",
        "title_37days = 'Moving average (7 days) forecast of deaths (showing last 37 days)'"
      ]
    },
    {
      "cell_type": "code",
      "execution_count": null,
      "metadata": {
        "colab": {
          "background_save": true
        },
        "id": "TT4yQBIySouL"
      },
      "outputs": [],
      "source": [
        "plt.figure(figsize = (14, 10))\n",
        "\n",
        "smoothed_publication_death_serie.plot(label='Current Publication')\n",
        "NBEATS_serie_publication_histfcast_rescaled.plot(label='Publication Training Dataset Prediction') # Previsão publicação sobre Training Dataset\n",
        "NBEATS_serie_publication_pred_rescaled.plot(label='Publication Validation Dataset Prediction') # Previsão publicação sobre Validation Dataset\n",
        "\n",
        "smoothed_occurrence_death_serie.plot(label='Current Deaths')\n",
        "NBEATS_serie_occurrence_histfcast_rescaled.plot(label='First Hits Prediction in Training Dataset') # Previsão primeiros sintomas sobre Training Dataset\n",
        "NBEATS_serie_occurrence_pred_rescaled.plot(label='First hits prediction in validation dataset')\n",
        "\n",
        "plt.title(label= title_7days + ' - NBEATS Model', fontsize=16) # Previsão de Casos (média móvel 7 dias) - Modelo NBEATS\n",
        "\n",
        "plt.savefig(PATH_FIGS + title_7days +' - NBEATS_Model.png', dpi = 300)"
      ]
    },
    {
      "cell_type": "code",
      "execution_count": null,
      "metadata": {
        "colab": {
          "background_save": true
        },
        "id": "yunZhtR6tk0N"
      },
      "outputs": [],
      "source": [
        "#Visualiação com os ultimos 37 dias. - NBEATS\n",
        "plt.figure(figsize = (14, 10))\n",
        "\n",
        "smoothed_publication_death_serie[-37:].plot(label='Current Publication')\n",
        "NBEATS_serie_publication_histfcast_rescaled[-30:].plot(label='Publication Training Dataset Prediction')\n",
        "NBEATS_serie_publication_pred_rescaled[-30:].plot(label='Publication Validation Dataset Prediction')\n",
        "\n",
        "smoothed_occurrence_death_serie[-37:].plot(label='Current Deaths')\n",
        "NBEATS_serie_occurrence_histfcast_rescaled[-30:].plot(label='First Hits Prediction in Training Dataset')\n",
        "NBEATS_serie_occurrence_pred_rescaled[-30:].plot(label='First hits prediction in validation dataset')\n",
        "\n",
        "plt.title(label= title_37days + ' - NBEATS Model', fontsize=16) \n",
        "\n",
        "plt.savefig(PATH_FIGS + title_37days + ' - NBEATS Model.png', dpi = 300)"
      ]
    },
    {
      "cell_type": "code",
      "execution_count": null,
      "metadata": {
        "colab": {
          "background_save": true
        },
        "id": "XSGMBx1TUDOV"
      },
      "outputs": [],
      "source": [
        "#Visualização do alvo de publicação\n",
        "plt.figure(figsize = (14, 10))\n",
        "\n",
        "smoothed_publication_death_serie.plot(label='Current Publication')\n",
        "TCN_serie_publication_histfcast_rescaled.plot(label='Publication Training Dataset Prediction')\n",
        "TCN_serie_publication_pred_rescaled.plot(label='Publication Validation Dataset Prediction') \n",
        "\n",
        "smoothed_occurrence_death_serie.plot(label='Current Deaths')\n",
        "TCN_serie_occurrence_histfcast_rescaled.plot(label='First Hits Prediction in Training Dataset')\n",
        "TCN_serie_occurrence_pred_rescaled.plot(label='First hits prediction in validation dataset')\n",
        "\n",
        "plt.title(label= title_7days + ' - TCN Model', fontsize=16) # Previsão de Casos (média móvel 7 dias) - Modelo NBEATS\n",
        "\n",
        "plt.savefig(PATH_FIGS + title_7days +' - TCN_Model.png', dpi = 300)"
      ]
    },
    {
      "cell_type": "code",
      "execution_count": null,
      "metadata": {
        "colab": {
          "background_save": true
        },
        "id": "j5tjSJnnUDOc"
      },
      "outputs": [],
      "source": [
        "#Visualiação com com os ultimos 37 dias. - TCN\n",
        "plt.figure(figsize = (14, 10))\n",
        "\n",
        "smoothed_publication_death_serie[-37:].plot(label='Current Publication')\n",
        "TCN_serie_publication_histfcast_rescaled[-30:].plot(label='Publication Training Dataset Prediction')\n",
        "TCN_serie_publication_pred_rescaled[-30:].plot(label='Publication Validation Dataset Prediction') \n",
        "\n",
        "smoothed_occurrence_death_serie[-37:].plot(label='Current Deaths')\n",
        "TCN_serie_occurrence_histfcast_rescaled[-30:].plot(label='First Hits Prediction in Training Dataset')\n",
        "TCN_serie_occurrence_pred_rescaled[-30:].plot(label='First Hits Prediction in Validation Dataset')\n",
        "\n",
        "plt.title(label= title_37days + ' - TCN Model', fontsize=16)\n",
        "\n",
        "plt.savefig(PATH_FIGS + title_37days +' - TCN_Model.png', dpi = 300)"
      ]
    },
    {
      "cell_type": "code",
      "execution_count": null,
      "metadata": {
        "colab": {
          "background_save": true
        },
        "id": "pSBKYW3xUfAI"
      },
      "outputs": [],
      "source": [
        "#Visualização do alvo de publicação\n",
        "plt.figure(figsize = (14, 10))\n",
        "\n",
        "smoothed_publication_death_serie.plot(label='Current Publication')\n",
        "TFT_serie_publication_histfcast_rescaled.plot(label='Publication Training Dataset Prediction')\n",
        "TFT_serie_publication_pred_rescaled.plot(label='Publication Validation Dataset Prediction') \n",
        "\n",
        "smoothed_occurrence_death_serie.plot(label='Current Deaths')\n",
        "TFT_serie_occurrence_histfcast_rescaled.plot(label='First Hits Prediction in Training Dataset')\n",
        "TFT_serie_occurrence_pred_rescaled.plot(label='First Hits Prediction in Validation Dataset')\n",
        "\n",
        "plt.title(label= title_7days + ' - TFT Model', fontsize=16)\n",
        "\n",
        "plt.savefig(PATH_FIGS + title_7days +' - TFT_Model.png', dpi = 300)"
      ]
    },
    {
      "cell_type": "code",
      "execution_count": null,
      "metadata": {
        "colab": {
          "background_save": true
        },
        "id": "wSMgJR7sUfAP"
      },
      "outputs": [],
      "source": [
        "#Visualiação com com os ultimos 37 dias. - TFT\n",
        "plt.figure(figsize = (14, 10))\n",
        "\n",
        "smoothed_publication_death_serie[-37:].plot(label='Current Publication')\n",
        "TFT_serie_publication_histfcast_rescaled[-30:].plot(label='Publication Training Dataset Prediction')\n",
        "TFT_serie_publication_pred_rescaled[-30:].plot(label='Publication Validation Dataset Prediction') \n",
        "\n",
        "smoothed_occurrence_death_serie[-37:].plot(label='Current Deaths')\n",
        "TFT_serie_occurrence_histfcast_rescaled[-30:].plot(label='First Hits Prediction in Training Dataset')\n",
        "TFT_serie_occurrence_pred_rescaled[-30:].plot(label='First Hits Prediction in Validation Dataset')\n",
        "\n",
        "plt.title(label= title_37days + ' - TFT Model', fontsize=16)\n",
        "plt.savefig(PATH_FIGS + title_37days +' - TFT_Model.png', dpi = 300)"
      ]
    },
    {
      "cell_type": "code",
      "execution_count": null,
      "metadata": {
        "colab": {
          "background_save": true
        },
        "id": "eMRMy2qlUfNK"
      },
      "outputs": [],
      "source": [
        "#Visualização do alvo de publicação\n",
        "plt.figure(figsize = (14, 10))\n",
        "\n",
        "smoothed_publication_death_serie.plot(label='Current Publication')\n",
        "Transformer_serie_publication_histfcast_rescaled.plot(label='Publication Training Dataset Prediction')\n",
        "Transformer_serie_publication_pred_rescaled.plot(label='Publication Validation Dataset Prediction') \n",
        "\n",
        "smoothed_occurrence_death_serie.plot(label='Current Deaths')\n",
        "Transformer_serie_occurrence_histfcast_rescaled.plot(label='First Hits Prediction in Training Dataset')\n",
        "Transformer_serie_occurrence_pred_rescaled.plot(label='First Hits Prediction in Validation Dataset')\n",
        "\n",
        "plt.title(label= title_7days + ' - TRANSFORMER Model', fontsize=16)\n",
        "\n",
        "plt.savefig(PATH_FIGS + title_7days +' - TRANSFORMER_Model.png', dpi = 300)"
      ]
    },
    {
      "cell_type": "code",
      "execution_count": null,
      "metadata": {
        "colab": {
          "background_save": true
        },
        "id": "gZ9OT651UfNL"
      },
      "outputs": [],
      "source": [
        "#Visualiação com com os ultimos 37 dias. - Transformer\n",
        "plt.figure(figsize = (14, 10))\n",
        "\n",
        "smoothed_publication_death_serie[-37:].plot(label='Current Publication')\n",
        "Transformer_serie_publication_histfcast_rescaled[-30:].plot(label='Publication Training Dataset Prediction')\n",
        "Transformer_serie_publication_pred_rescaled[-30:].plot(label='Publication Validation Dataset Prediction') \n",
        "\n",
        "smoothed_occurrence_death_serie[-37:].plot(label='Current Deaths')\n",
        "Transformer_serie_occurrence_histfcast_rescaled[-30:].plot(label='First Hits Prediction in Training Dataset')\n",
        "Transformer_serie_occurrence_pred_rescaled[-30:].plot(label='First Hits Prediction in Validation Dataset')\n",
        "\n",
        "plt.title(label= title_37days + ' - TRANSFORMER Model', fontsize=16)\n",
        "\n",
        "plt.savefig(PATH_FIGS + title_37days +' - TRANSFORMER_Model.png', dpi = 300)"
      ]
    },
    {
      "cell_type": "code",
      "execution_count": null,
      "metadata": {
        "colab": {
          "background_save": true
        },
        "id": "stzqrwqw3CGY"
      },
      "outputs": [],
      "source": [
        "#Visualização do alvo de publicação\n",
        "plt.figure(figsize = (14, 10))\n",
        "\n",
        "smoothed_publication_death_serie.plot(label='Current Publication')\n",
        "NHITS_serie_publication_histfcast_rescaled.plot(label='Publication Training Dataset Prediction')\n",
        "NHITS_serie_publication_pred_rescaled.plot(label='Publication Validation Dataset Prediction') \n",
        "\n",
        "smoothed_occurrence_death_serie.plot(label='Current Deaths')\n",
        "NHITS_serie_occurrence_histfcast_rescaled.plot(label='First Hits Prediction in Training Dataset')\n",
        "NHITS_serie_occurrence_pred_rescaled.plot(label='First Hits Prediction in Validation Dataset')\n",
        "\n",
        "plt.title(label= title_7days + ' - NHITS Model', fontsize=16)\n",
        "\n",
        "plt.savefig(PATH_FIGS + title_7days + ' - NHITS_Model.png', dpi = 300)"
      ]
    },
    {
      "cell_type": "code",
      "execution_count": null,
      "metadata": {
        "colab": {
          "background_save": true
        },
        "id": "mt4gcjoO3Dwz"
      },
      "outputs": [],
      "source": [
        "\n",
        "#Visualiação com com os ultimos 37 dias. - Transformer\n",
        "plt.figure(figsize = (14, 10))\n",
        "\n",
        "smoothed_publication_death_serie[-37:].plot(label='Current Publication')\n",
        "NHITS_serie_publication_histfcast_rescaled[-30:].plot(label='Publication Training Dataset Prediction')\n",
        "NHITS_serie_publication_pred_rescaled[-30:].plot(label='Publication Validation Dataset Prediction') \n",
        "\n",
        "smoothed_occurrence_death_serie[-37:].plot(label='Current Deaths')\n",
        "NHITS_serie_occurrence_histfcast_rescaled[-30:].plot(label='First Hits Prediction in Training Dataset')\n",
        "NHITS_serie_occurrence_pred_rescaled[-30:].plot(label='First Hits Prediction in Validation Dataset')\n",
        "\n",
        "plt.title(label= title_37days + ' - NHITS Model', fontsize=16)\n",
        "\n",
        "plt.savefig(PATH_FIGS + title_37days + ' - NHITS_Model.png', dpi = 300)"
      ]
    },
    {
      "cell_type": "markdown",
      "metadata": {
        "id": "qRGCroDjFQaq"
      },
      "source": [
        "#Exportação das predições"
      ]
    },
    {
      "cell_type": "code",
      "execution_count": null,
      "metadata": {
        "colab": {
          "background_save": true
        },
        "id": "jvcUJ81ElUl3"
      },
      "outputs": [],
      "source": [
        "def saving_templates(model, serie_S_HistCast_rescaled, serie_P_HistCast_rescaled, serie_S_Pred_rescaled, serie_P_Pred_rescaled):\n",
        "  path = os.path.join(PATH_CSV, model.model_name)\n",
        "  isExist = os.path.exists(path)\n",
        "\n",
        "  if not isExist:\n",
        "    os.mkdir(path)\n",
        "\n",
        "  serie_histfcast = serie_S_HistCast_rescaled.stack(serie_P_HistCast_rescaled)\n",
        "  df_serie_histfcast_toExport = serie_histfcast.pd_dataframe()\n",
        "  df_serie_histfcast_toExport.reset_index(inplace=True)\n",
        "  df_serie_histfcast_toExport.rename(columns = {'time':'data', '0':'Obitos_DataOcorrencia_MM_atual_PA', '1':'Obitos_Publicacao_MM_atual_PA'}, inplace=True)\n",
        "  df_serie_histfcast_toExport.to_csv(path_or_buf = path +'/training_Forecast.csv', index=False)\n",
        "\n",
        "  serie_pred_toExport = serie_S_Pred_rescaled.stack(serie_P_Pred_rescaled)\n",
        "  serie_pred_toExport.to_csv(path_or_buf = path + '/validation_Forecast.csv')\n"
      ]
    },
    {
      "cell_type": "code",
      "execution_count": null,
      "metadata": {
        "id": "jrBbpoBZmEll"
      },
      "outputs": [],
      "source": [
        "saving_templates(model_NBEATSModel,\n",
        "    NBEATS_serie_occurrence_histfcast_rescaled, \n",
        "    NBEATS_serie_publication_histfcast_rescaled, \n",
        "    NBEATS_serie_occurrence_pred_rescaled,\n",
        "    NBEATS_serie_publication_pred_rescaled)\n",
        "print('NBEATS EXPORT')\n",
        "\n",
        "\n",
        "saving_templates(model_TCNModel,\n",
        "    TCN_serie_occurrence_histfcast_rescaled, \n",
        "    TCN_serie_publication_histfcast_rescaled, \n",
        "    TCN_serie_occurrence_pred_rescaled,\n",
        "    TCN_serie_publication_pred_rescaled)\n",
        "print('TCN EXPORT')\n",
        "\n",
        "\n",
        "saving_templates(model_TFTModel,\n",
        "    TFT_serie_occurrence_histfcast_rescaled, \n",
        "    TFT_serie_publication_histfcast_rescaled, \n",
        "    TFT_serie_occurrence_pred_rescaled,\n",
        "    TFT_serie_publication_pred_rescaled)\n",
        "print('TFT EXPORT')\n",
        "\n",
        "\n",
        "saving_templates(model_TRANSFORMERModel,\n",
        "    Transformer_serie_occurrence_histfcast_rescaled, \n",
        "    Transformer_serie_publication_histfcast_rescaled, \n",
        "    Transformer_serie_occurrence_pred_rescaled,\n",
        "    Transformer_serie_publication_pred_rescaled)\n",
        "print('TRANSFORMER EXPORT')\n",
        "\n",
        "\n",
        "saving_templates(model_NHITSModel,\n",
        "    NHITS_serie_occurrence_histfcast_rescaled,\n",
        "    NHITS_serie_publication_histfcast_rescaled, \n",
        "    NHITS_serie_occurrence_pred_rescaled,\n",
        "    NHITS_serie_publication_pred_rescaled)\n",
        "print('NHITS EXPORT')"
      ]
    }
  ],
  "metadata": {
    "colab": {
      "collapsed_sections": [
        "RvpQPdBdUian",
        "I3kwbr4cUrHH",
        "8xX7CbOt0G9_",
        "wlp3EKa5PTP6",
        "eCSPZIK4DriJ",
        "kZlwXrseqluW",
        "y3GVSE6_sYS2"
      ],
      "provenance": [],
      "include_colab_link": true
    },
    "gpuClass": "standard",
    "kernelspec": {
      "display_name": "Python 3",
      "name": "python3"
    },
    "language_info": {
      "name": "python"
    }
  },
  "nbformat": 4,
  "nbformat_minor": 0
}