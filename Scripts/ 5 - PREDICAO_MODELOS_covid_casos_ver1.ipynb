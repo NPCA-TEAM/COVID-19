{
  "cells": [
    {
      "cell_type": "markdown",
      "metadata": {
        "id": "view-in-github",
        "colab_type": "text"
      },
      "source": [
        "<a href=\"https://colab.research.google.com/github/NPCA-TEAM/COVID-19/blob/main/Scripts/%205%20-%20PREDICAO_MODELOS_covid_casos_ver1.ipynb\" target=\"_parent\"><img src=\"https://colab.research.google.com/assets/colab-badge.svg\" alt=\"Open In Colab\"/></a>"
      ]
    },
    {
      "cell_type": "markdown",
      "metadata": {
        "id": "MDVRez9ivbXr"
      },
      "source": [
        "#Instalação, importação de bibliotecas e inicialização"
      ]
    },
    {
      "cell_type": "markdown",
      "metadata": {
        "id": "RvpQPdBdUian"
      },
      "source": [
        "##Instalação das bibliotecas"
      ]
    },
    {
      "cell_type": "code",
      "execution_count": null,
      "metadata": {
        "id": "IfOWwR3W8efr"
      },
      "outputs": [],
      "source": [
        "#Inicia permitindo acesso ao GDrive\n",
        "from google.colab import drive\n",
        "drive.mount('/content/drive')"
      ]
    },
    {
      "cell_type": "code",
      "execution_count": null,
      "metadata": {
        "id": "mEt-ieggipCk"
      },
      "outputs": [],
      "source": [
        "!pip install pyyaml==5.4.1"
      ]
    },
    {
      "cell_type": "code",
      "execution_count": null,
      "metadata": {
        "id": "G5N9AQ0SitfJ"
      },
      "outputs": [],
      "source": [
        "!pip install darts"
      ]
    },
    {
      "cell_type": "code",
      "execution_count": null,
      "metadata": {
        "id": "kHVSe41RitIR"
      },
      "outputs": [],
      "source": [
        "!pip install matplotlib==3.1.3  #é necessário restart runtime "
      ]
    },
    {
      "cell_type": "code",
      "execution_count": null,
      "metadata": {
        "id": "lTTMJo3oexqp"
      },
      "outputs": [],
      "source": [
        "!pip install pytorch-lightning"
      ]
    },
    {
      "cell_type": "markdown",
      "metadata": {
        "id": "I3kwbr4cUrHH"
      },
      "source": [
        "##Importação das Bibliotecas"
      ]
    },
    {
      "cell_type": "code",
      "execution_count": null,
      "metadata": {
        "id": "FvcVpnCPjefR"
      },
      "outputs": [],
      "source": [
        "%load_ext autoreload\n",
        "%autoreload 2\n",
        "%matplotlib inline\n",
        "\n",
        "import pandas as pd\n",
        "import numpy as np\n",
        "import glob\n",
        "import os\n",
        "import sys\n",
        "import time\n",
        "import torch\n",
        "import json\n",
        "\n",
        "import matplotlib.pyplot as plt\n",
        "from matplotlib.dates import DateFormatter\n",
        "import matplotlib.dates as mdates\n",
        "\n",
        "from datetime import datetime\n",
        "\n",
        "from darts import timeseries\n",
        "from darts.dataprocessing.transformers import Scaler\n",
        "from darts import concatenate\n",
        "\n",
        "from darts.models import (    \n",
        "    NBEATSModel,\n",
        "    TCNModel,\n",
        "    TransformerModel,\n",
        "    TFTModel,\n",
        "    NHiTSModel\n",
        "    )\n",
        "\n",
        "from darts.metrics import mape, rmse, r2_score\n",
        "from darts.utils.timeseries_generation import datetime_attribute_timeseries\n",
        "from darts.utils.missing_values import fill_missing_values\n",
        "from darts.models import KalmanFilter\n",
        "\n",
        "from darts.utils.likelihood_models import (\n",
        "    GaussianLikelihood, \n",
        "    QuantileRegression \n",
        "    )\n",
        "\n",
        "import warnings\n",
        "warnings.filterwarnings('ignore')\n",
        "import logging\n",
        "logging.disable(logging.CRITICAL)\n",
        "torch.manual_seed(1); np.random.seed(1)  # for reproducibility"
      ]
    },
    {
      "cell_type": "markdown",
      "metadata": {
        "id": "RiNGBVhbu12n"
      },
      "source": [
        "#Dados e campos de entrada do framework\n"
      ]
    },
    {
      "cell_type": "code",
      "execution_count": null,
      "metadata": {
        "id": "TJPUoQRfjuXJ"
      },
      "outputs": [],
      "source": [
        "#Campos de entrada do framework\n",
        "NAME_SERIES_SYMPTOM_CASES = \"Casos_DataSintoma_MM_atual_PA\"   #Variavel onde será adicionada o nome para a serie a ser analisada\n",
        "NAME_SERIES_PUBLICATION_CASES = \"Casos_Publicacao_MM_atual_PA\"   #Variavel onde será adicionada o nome para a serie a ser analisada\n",
        "\n",
        "#Número de anos para validação/teste. Similar a quantidade de dados de teste\n",
        "#Se num_days_of_slice_val = 1, indica que o ultimo ano da serie será usado para testar o modelo\n",
        "#Também indica a fatia usada como validação na fase de treinamento\n",
        "VALIDATION_DAYS_SLICED = 7\n",
        "\n",
        "#Número que indica o tamanho da fatia usada como treino na fase de treinamento. \n",
        "#Logo, o processo disposto neste script é baseado no metodo de janela deslizante.\n",
        "WORKOUT_DAYS_SLICED = 30\n",
        "\n",
        "#Numero de passos da previsão a frente da serie\n",
        "FORECAST_DAYS = 7\n",
        "\n",
        "# Arquivo com a base de dados\n",
        "PATH_DATASET = '/content/drive/MyDrive/NPCA - COVID/_CASOS/DataSet/' \n",
        "\n",
        "#Pasta para salvamento do modelo\n",
        "PATH_MODELS = '/content/drive/MyDrive/NPCA - COVID/_CASOS/Models/'\n",
        "PATH_FIGS = '/content/drive/MyDrive/NPCA - COVID/_CASOS/Figs/'\n",
        "PATH_CSV = '/content/drive/MyDrive/NPCA - COVID/_CASOS/ForecastsOutputModel/'"
      ]
    },
    {
      "cell_type": "markdown",
      "metadata": {
        "id": "8xX7CbOt0G9_"
      },
      "source": [
        "#Leitura do dataset"
      ]
    },
    {
      "cell_type": "code",
      "execution_count": null,
      "metadata": {
        "id": "GvP4WKsXj6BV"
      },
      "outputs": [],
      "source": [
        "#Seleciona o arquivo da base\n",
        "FILE_LIST = glob.glob(PATH_DATASET + '*')\n",
        "\n",
        "#Seleciona o ultimo arquivo que foi criado e adiciona na pasta\n",
        "FILE_PATH = max(FILE_LIST, key=os.path.getctime)\n",
        "\n",
        "#Faz leitura do arquivo excel como datafrade\n",
        "DATAFRAME = pd.read_excel(FILE_PATH, sheet_name=0)\n",
        "\n",
        "DATAFRAME"
      ]
    },
    {
      "cell_type": "markdown",
      "metadata": {
        "id": "wlp3EKa5PTP6"
      },
      "source": [
        "#Seleção das variáveis"
      ]
    },
    {
      "cell_type": "code",
      "execution_count": null,
      "metadata": {
        "id": "-9haIlfYQhfP"
      },
      "outputs": [],
      "source": [
        "#Seleção das variáveis alvo\n",
        "SYMPTOM_CASES = DATAFRAME.loc[:, ['data', 'Casos_DataSintoma_MM_atual_PA']]\n",
        "PUBLICATION_CASES = DATAFRAME.loc[:, ['data', 'Casos_Publicacao_MM_atual_PA']]\n",
        "\n",
        "#Seleção das variáveis auxiliares\n",
        "#SYMPTOM_7DAYS_CASES = DATAFRAME.loc[:, ['data', 'Casos_DataSintoma_MM_7dias_PA']].fillna(0) \n",
        "#PUBLICATION_7DAYS_CASES = DATAFRAME.loc[:, ['data', 'Casos_Publicacao_MM_7dias_PA']].fillna(0)\n",
        "SYMPTOM_14DAYS_CASES = DATAFRAME.loc[:, ['data', 'Casos_DataSintoma_MM_14dias_PA']].fillna(0)\n",
        "PUBLICATION_14DAYS_CASES = DATAFRAME.loc[:, ['data', 'Casos_Publicacao_MM_14dias_PA']].fillna(0)\n",
        "#OBS: No previsão historica usaremos somente os 14 Dias. \n",
        "\n",
        "VACCINATION_1DOSE_CASES = DATAFRAME.loc[:, ['data', 'Vacinacao_Dose1_%decimal_PA']].fillna(0)\n",
        "VACCINATION_2DOSE_CASES = DATAFRAME.loc[:, ['data', 'Vacinacao_Dose2_%decimal_PA']].fillna(0)\n",
        "VACCINATION_3DOSE_CASES = DATAFRAME.loc[:, ['data', 'Vacinacao_Dose3_%decimal_PA']].fillna(0)\n",
        "\n",
        "#Renomeia variaveis.\n",
        "SYMPTOM_7PREVIOUSDAYS_CASES = SYMPTOM_14DAYS_CASES.rename(columns = {'Casos_DataSintoma_MM_14dias_PA':'Casos_DataSintoma_MM_7diasAnteriores_PA'}, inplace = False)\n",
        "PUBLICATION_7PREVIOUSDAYS_CASES = PUBLICATION_14DAYS_CASES.rename(columns = {'Casos_Publicacao_MM_14dias_PA':'Casos_Publicacao_MM_7diasAnteriores_PA'}, inplace = False)"
      ]
    },
    {
      "cell_type": "markdown",
      "metadata": {
        "id": "eCSPZIK4DriJ"
      },
      "source": [
        "#Instanciação das séries temporais"
      ]
    },
    {
      "cell_type": "code",
      "execution_count": null,
      "metadata": {
        "id": "wT7WRvs4DvHa"
      },
      "outputs": [],
      "source": [
        "# criação das séries temporais alvos\n",
        "series_symptom = timeseries.TimeSeries.from_dataframe(df=SYMPTOM_CASES, time_col='data')\n",
        "series_publication = timeseries.TimeSeries.from_dataframe(df=PUBLICATION_CASES, time_col='data')\n",
        "\n",
        "plt.figure(figsize = (14, 10))\n",
        "\n",
        "series_symptom.plot()\n",
        "series_publication.plot()"
      ]
    },
    {
      "cell_type": "code",
      "execution_count": null,
      "metadata": {
        "id": "BegUBtjt7As0"
      },
      "outputs": [],
      "source": [
        "# criação das séries temporais auxiliares de casos\n",
        "#series_symptom_7days = timeseries.TimeSeries.from_dataframe(df=SYMPTOM_7DAYS, time_col='data')\n",
        "#series_publication_7days = timeseries.TimeSeries.from_dataframe(df=PUBLICATION_7DAYS, time_col='data')\n",
        "series_symptom_7previousdays = timeseries.TimeSeries.from_dataframe(df=SYMPTOM_7PREVIOUSDAYS_CASES, time_col='data')\n",
        "series_publication_7previousdays = timeseries.TimeSeries.from_dataframe(df=PUBLICATION_7PREVIOUSDAYS_CASES, time_col='data')\n",
        "\n",
        "plt.figure(figsize = (14, 10))\n",
        "\n",
        "#series_symptom_7days.plot()\n",
        "#series_publication_7days.plot()\n",
        "series_symptom_7previousdays.plot()\n",
        "series_publication_7previousdays.plot()"
      ]
    },
    {
      "cell_type": "code",
      "execution_count": null,
      "metadata": {
        "id": "kbxhoAPE7lQO"
      },
      "outputs": [],
      "source": [
        "# criação das séries temporais auxiliares de vacinação\n",
        "series_vaccination_1Dose = timeseries.TimeSeries.from_dataframe(df=VACCINATION_1DOSE_CASES, time_col='data')\n",
        "series_vaccination_2Dose = timeseries.TimeSeries.from_dataframe(df=VACCINATION_2DOSE_CASES, time_col='data')\n",
        "series_vaccination_3Dose = timeseries.TimeSeries.from_dataframe(df=VACCINATION_3DOSE_CASES, time_col='data')\n",
        "\n",
        "plt.figure(figsize = (14, 10))\n",
        "  \n",
        "series_vaccination_1Dose.plot()\n",
        "series_vaccination_2Dose.plot()\n",
        "series_vaccination_3Dose.plot()"
      ]
    },
    {
      "cell_type": "markdown",
      "metadata": {
        "id": "kZlwXrseqluW"
      },
      "source": [
        "#Filtro de suaviação das variáveis"
      ]
    },
    {
      "cell_type": "code",
      "execution_count": null,
      "metadata": {
        "id": "L6oFZE73qiau"
      },
      "outputs": [],
      "source": [
        "def filter_for_suavization(serie):\n",
        "  filterKalman = KalmanFilter(dim_x = 1)\n",
        "  filterKalman.fit(serie)\n",
        "  serieTemp_filtered = filterKalman.filter(serie)\n",
        "\n",
        "  return serieTemp_filtered"
      ]
    },
    {
      "cell_type": "code",
      "execution_count": null,
      "metadata": {
        "id": "4GGv0OcyFRFj"
      },
      "outputs": [],
      "source": [
        "#Suavização das series alvos\n",
        "smoothed_symptom_series = filter_for_suavization(series_symptom)\n",
        "smoothed_publication_series = filter_for_suavization(series_publication)\n",
        "\n",
        "plt.figure(figsize = (14, 10))\n",
        "\n",
        "series_symptom.plot(label=\"Sintoma\")\n",
        "smoothed_symptom_series.plot(label=\"Sintoma Suavizada\")\n",
        "series_publication.plot(label=\"Publicação\")\n",
        "smoothed_publication_series.plot(label=\"Publicação Suavizada\")"
      ]
    },
    {
      "cell_type": "markdown",
      "metadata": {
        "id": "y3GVSE6_sYS2"
      },
      "source": [
        "#Escalar (normalização entre 0 e 1)"
      ]
    },
    {
      "cell_type": "code",
      "execution_count": null,
      "metadata": {
        "id": "3nqsfJ8_r87-"
      },
      "outputs": [],
      "source": [
        "def process_scaler(serie):\n",
        "  #Pré-processamento - scalar (normalizar entre 0 e 1)\n",
        "  Scaler_obj = Scaler()\n",
        "  serieTemp_scaled = Scaler_obj.fit_transform(serie)\n",
        "\n",
        "  return serieTemp_scaled, Scaler_obj\n",
        "  #Retorno: Objeto Scaler da série, objeto scaler da covariável, serie temporal já normalizada"
      ]
    },
    {
      "cell_type": "code",
      "execution_count": null,
      "metadata": {
        "id": "eyjKyAQdAU1u"
      },
      "outputs": [],
      "source": [
        "#pré-processamento e normalização [0, 1]\n",
        "normalized_symptom_series, Scaler_symptom = process_scaler(smoothed_symptom_series)\n",
        "normalized_publication_series, Scaler_publication = process_scaler(smoothed_publication_series)\n",
        "\n",
        "#normalized_7days_symptom_series, Scaler_symptom_7days = process_scaler(series_symptom_7days)\n",
        "#normalized_7days_publication_series, Scaler_publication_7days = process_scaler(series_publication_7days)\n",
        "\n",
        "symptom_series_7days_ago_normalized, Scaler_symptom_14days = process_scaler(series_symptom_7previousdays)\n",
        "publication_series_7days_ago_normalized, Scaler_publication_14days = process_scaler(series_publication_7previousdays)"
      ]
    },
    {
      "cell_type": "code",
      "execution_count": null,
      "metadata": {
        "id": "pU-dDqDAKf6Q"
      },
      "outputs": [],
      "source": [
        "plt.figure(figsize = (14, 10))\n",
        "\n",
        "normalized_symptom_series.plot()\n",
        "normalized_publication_series.plot()\n",
        "\n",
        "#normalized_7days_symptom_series.plot()\n",
        "#normalized_7days_publication_series.plot()\n",
        "\n",
        "symptom_series_7days_ago_normalized.plot()\n",
        "publication_series_7days_ago_normalized.plot()"
      ]
    },
    {
      "cell_type": "markdown",
      "metadata": {
        "id": "mjTXoInTtBX-"
      },
      "source": [
        "#Definição de Covariáveis"
      ]
    },
    {
      "cell_type": "code",
      "execution_count": null,
      "metadata": {
        "id": "iiP3y4SdstLg"
      },
      "outputs": [],
      "source": [
        "def define_covariate_dates(serie_temp_normalizada):  #modificar nomes\n",
        "  #Definir covariavel ano\n",
        "  scaler_CovarYear, scaler_CovarMonth = Scaler(), Scaler()\n",
        "  covariate_y = datetime_attribute_timeseries(serie_temp_normalizada, attribute='year', add_length = FORECAST_DAYS)\n",
        "  covariate_y = scaler_CovarYear.fit_transform(covariate_y)\n",
        "\n",
        "  #Definir covariavel mes\n",
        "  covariate_m = datetime_attribute_timeseries(serie_temp_normalizada, attribute='month', add_length = FORECAST_DAYS)\n",
        "  covariate_m = scaler_CovarMonth.fit_transform(covariate_m)\n",
        "\n",
        "  #Definir covariavel day of week\n",
        "  covariate_dw = datetime_attribute_timeseries(serie_temp_normalizada, attribute='dayofweek', add_length = FORECAST_DAYS)\n",
        "  covariate_dw = scaler_CovarMonth.fit_transform(covariate_dw)\n",
        "\n",
        "  return covariate_y, covariate_m, covariate_dw"
      ]
    },
    {
      "cell_type": "code",
      "execution_count": null,
      "metadata": {
        "id": "s3MBajxnsxeI"
      },
      "outputs": [],
      "source": [
        "#definição das covariáveis\n",
        "covariate_year_symptom, covariate_month_symptom, covariate_dayweek_symptom = define_covariate_dates(normalized_symptom_series)"
      ]
    },
    {
      "cell_type": "code",
      "execution_count": null,
      "metadata": {
        "id": "HKQhjyZR1MyB"
      },
      "outputs": [],
      "source": [
        "#Visualização das series covariaveis de data\n",
        "plt.figure(figsize = (14, 10))\n",
        "covariate_year_symptom.plot(label='Covariates by Year')\n",
        "covariate_month_symptom.plot(label='Covariates by Month')\n",
        "\n",
        "\n",
        "plt.title(label='Series of Covariates by Month and Year (Cases)', fontsize=16)\n",
        "plt.savefig(PATH_FIGS + 'Series of Covariates by Month and Year (Cases).png', dpi=300)"
      ]
    },
    {
      "cell_type": "code",
      "execution_count": null,
      "metadata": {
        "id": "WJzs5rQ-AG6O"
      },
      "outputs": [],
      "source": [
        "plt.figure(figsize = (14, 10))\n",
        "covariate_dayweek_symptom[-30:].plot(label='Day of Week' ,marker='o')\n",
        "\n",
        "\n",
        "plt.title(label='Series of Covariates by Days of The Week', fontsize=16)\n",
        "plt.savefig(PATH_FIGS + 'Series of Covariates by Days of The Week.png', dpi=300)"
      ]
    },
    {
      "cell_type": "markdown",
      "metadata": {
        "id": "raNjZdiDtFo9"
      },
      "source": [
        "#Divisão do dataset de treino e validação"
      ]
    },
    {
      "cell_type": "code",
      "execution_count": null,
      "metadata": {
        "id": "ZHpCgDl0s5Z6"
      },
      "outputs": [],
      "source": [
        "#Dividir em dados de treino e teste\n",
        "def split_train_val_series(serie):\n",
        "  s_train, s_val = serie[:-VALIDATION_DAYS_SLICED], serie[-VALIDATION_DAYS_SLICED:]\n",
        "  \n",
        "  return s_train, s_val"
      ]
    },
    {
      "cell_type": "code",
      "execution_count": null,
      "metadata": {
        "id": "SNaxpEp5s3xE"
      },
      "outputs": [],
      "source": [
        "#divisão dos dados de treino e testes\n",
        "serieTrain_symptom, serieVal_symptom = split_train_val_series(normalized_symptom_series)\n",
        "serieTrain_publication, serieVal_publication = split_train_val_series(normalized_publication_series)"
      ]
    },
    {
      "cell_type": "code",
      "execution_count": null,
      "metadata": {
        "id": "Z0mxNGzCGEzb"
      },
      "outputs": [],
      "source": [
        "#Visualização das Series Alvos\n",
        "plt.figure(figsize = (14, 10))\n",
        "\n",
        "serieTrain_symptom[-30:].plot()   # plotagem dos ultimos 30 dias para treino\n",
        "serieVal_symptom.plot()\n",
        "serieTrain_publication[-30:].plot()   # plotagem dos ultimos 30 dias para treino\n",
        "serieVal_publication.plot()"
      ]
    },
    {
      "cell_type": "markdown",
      "metadata": {
        "id": "AaVlpf88KpIj"
      },
      "source": [
        "\n",
        "#Predição dos modelos"
      ]
    },
    {
      "cell_type": "markdown",
      "metadata": {
        "id": "mtGNmM3bK9PA"
      },
      "source": [
        "##Preparação para predição"
      ]
    },
    {
      "cell_type": "code",
      "execution_count": null,
      "metadata": {
        "id": "eFwoEQyomTtM"
      },
      "outputs": [],
      "source": [
        "# Utilizar o acelerador de GPU do colab (para treinamento)\n",
        "import tensorflow as tf\n",
        "\n",
        "device_name = tf.test.gpu_device_name()\n",
        "if device_name != '/device:GPU:0':\n",
        "  print('GPU device not found')\n",
        "else:\n",
        "  print('Found GPU at: {}'.format(device_name))\n",
        "  tf.device('/device:GPU:0')\n",
        "  print()\n",
        "\n",
        "  physical_devices = tf.config.experimental.list_logical_devices('GPU')\n",
        "  print(\"GPUs available: \", physical_devices)\n",
        "  print(\"GPUs available: \", len(physical_devices))\n",
        "  print(physical_devices[0].name)\n",
        "  print()\n",
        "\n",
        "  # Qual placa de video GPU estou usando?\n",
        "  from tensorflow.python.client import device_lib\n",
        "  device_lib.list_local_devices()\n",
        "  print(device_lib.list_local_devices())"
      ]
    },
    {
      "cell_type": "code",
      "execution_count": null,
      "metadata": {
        "id": "MYl8vZU1K_hb"
      },
      "outputs": [],
      "source": [
        "#Junção das variaveis alvo e coovariaveis\n",
        "series_Train = serieTrain_symptom.stack(serieTrain_publication)\n",
        "\n",
        "covariatesDate = covariate_year_symptom.stack(covariate_month_symptom.stack(covariate_dayweek_symptom))\n",
        "covariatesCases = symptom_series_7days_ago_normalized.stack(publication_series_7days_ago_normalized)\n",
        "covariatesVacination = series_vaccination_1Dose.stack(series_vaccination_2Dose.stack(series_vaccination_3Dose))\n",
        "\n",
        "#O [:-FORECAST_DAYS] é um corte na covariatesDate para que as covariaveis tenham o mesmo numero de dias.\n",
        "covariates = covariatesDate[:-FORECAST_DAYS].stack(covariatesCases.stack(covariatesVacination))\n",
        "\n",
        "plt.figure(figsize = (14, 10))\n",
        "series_Train.plot()\n",
        "covariates.plot()"
      ]
    },
    {
      "cell_type": "markdown",
      "metadata": {
        "id": "mEgsMkDPLPUX"
      },
      "source": [
        "##Importação dos modelos para predição"
      ]
    },
    {
      "cell_type": "code",
      "execution_count": null,
      "metadata": {
        "id": "AgBnzTihLOaD"
      },
      "outputs": [],
      "source": [
        "#Seleciona os arquivos \n",
        "file_list_models = glob.glob(PATH_MODELS + '*.tar')\n",
        "#print(file_list_models,'\\n -----')\n",
        "\n",
        "#Seleciona os arquivos adicionados mais recentementes na pasta\n",
        "file_path_models = sorted(file_list_models, key=os.path.getctime, reverse=True)\n",
        "#print(*file_path_models,sep='\\n')"
      ]
    },
    {
      "cell_type": "code",
      "execution_count": null,
      "metadata": {
        "id": "d8paNvOB1PuY"
      },
      "outputs": [],
      "source": [
        "#Filtrar caminhos dos modelos que tem extensão pth.tar validas\n",
        "current_year = str(datetime.today().year)\n",
        "file_path_models_currents = list(filter(lambda x: current_year+'.pth.tar' in x, file_path_models))\n",
        "print(*file_path_models_currents,sep='\\n')"
      ]
    },
    {
      "cell_type": "code",
      "execution_count": null,
      "metadata": {
        "id": "ZQpFGSea3h6M"
      },
      "outputs": [],
      "source": [
        "#Selecionar o caminho dos modelos\n",
        "NBEATS_model_path = list(filter(lambda x: 'NBEATS' in x, file_path_models_currents))[0]\n",
        "model_NBEATSModel = NBEATSModel.load_model(NBEATS_model_path)\n",
        "print(NBEATS_model_path)\n",
        "\n",
        "TCN_model_path = list(filter(lambda x: 'TCN' in x, file_path_models_currents))[0]\n",
        "model_TCNModel = TCNModel.load_model(TCN_model_path)\n",
        "print(TCN_model_path)\n",
        "\n",
        "TFT_model_path = list(filter(lambda x: 'TFT' in x, file_path_models_currents))[0]\n",
        "model_TFTModel = TFTModel.load_model(TFT_model_path)\n",
        "print(TFT_model_path)\n",
        "\n",
        "TRANSFORMER_model_path = list(filter(lambda x: 'TRANSFORMER' in x, file_path_models_currents))[0]\n",
        "model_TRANSFORMERModel = TransformerModel.load_model(TRANSFORMER_model_path)\n",
        "print(TRANSFORMER_model_path)\n",
        "\n",
        "NHITS_model_path = list(filter(lambda x: 'NHITS' in x, file_path_models_currents))[0]\n",
        "model_NHITSModel = NHiTSModel.load_model(NHITS_model_path)\n",
        "print(NHITS_model_path)"
      ]
    },
    {
      "cell_type": "markdown",
      "metadata": {
        "id": "yOSsfr8bck8o"
      },
      "source": [
        "##Predição sobre dados de treino"
      ]
    },
    {
      "cell_type": "code",
      "execution_count": null,
      "metadata": {
        "id": "5BLZ0G8wsyBG"
      },
      "outputs": [],
      "source": [
        "from timeit import default_timer as timer\n",
        "start = timer()"
      ]
    },
    {
      "cell_type": "code",
      "execution_count": null,
      "metadata": {
        "id": "oKzZtFIxf5BD"
      },
      "outputs": [],
      "source": [
        "def historical_forecasts(model, series_target, covariates):\n",
        "  #print(series_target.components)\n",
        "  #print(covariates.components)\n",
        "  serie_hist_fcast = model.historical_forecasts(\n",
        "      series = series_target,\n",
        "      past_covariates = covariates,\n",
        "      start = int(round(len(series_target)*0.05,0)), #WORKOUT_DAYS_SLICED,\n",
        "      forecast_horizon = VALIDATION_DAYS_SLICED,\n",
        "      stride = 1,\n",
        "      num_samples = 50,  #pode ser reduzido para teste. valor padrão: 50\n",
        "      retrain = False,\n",
        "      verbose = False\n",
        "      )  \n",
        "  \n",
        "  return serie_hist_fcast"
      ]
    },
    {
      "cell_type": "code",
      "execution_count": null,
      "metadata": {
        "id": "zT9YhGJkdK8a"
      },
      "outputs": [],
      "source": [
        "historical_forecasts_NBEATS = historical_forecasts(model_NBEATSModel, series_Train, covariates)"
      ]
    },
    {
      "cell_type": "code",
      "execution_count": null,
      "metadata": {
        "id": "_c54p2Ltt6D-"
      },
      "outputs": [],
      "source": [
        "historical_forecasts_TCN = historical_forecasts(model_TCNModel, series_Train, covariates)"
      ]
    },
    {
      "cell_type": "code",
      "execution_count": null,
      "metadata": {
        "id": "eecDKoLht8CO"
      },
      "outputs": [],
      "source": [
        "historical_forecasts_TFT = historical_forecasts(model_TFTModel, series_Train, covariates)"
      ]
    },
    {
      "cell_type": "code",
      "execution_count": null,
      "metadata": {
        "id": "lwJmvkJg3q_s"
      },
      "outputs": [],
      "source": [
        "historical_forecasts_Transformer = historical_forecasts(model_TRANSFORMERModel, series_Train, covariates)"
      ]
    },
    {
      "cell_type": "code",
      "execution_count": null,
      "metadata": {
        "id": "Ur6w1WA71yfT"
      },
      "outputs": [],
      "source": [
        "historical_forecasts_NHITS = historical_forecasts(model_NHITSModel, series_Train, covariates)"
      ]
    },
    {
      "cell_type": "markdown",
      "metadata": {
        "id": "q1YJr0IRciYs"
      },
      "source": [
        "##Predição sobre dados de validação"
      ]
    },
    {
      "cell_type": "code",
      "execution_count": null,
      "metadata": {
        "id": "gzs0mQkigiNd"
      },
      "outputs": [],
      "source": [
        "def serie_predict(model, series_target, covariates):\n",
        "  serie_predicted = model.predict(\n",
        "      n = FORECAST_DAYS,\n",
        "      series = series_target,\n",
        "      past_covariates = covariates,\n",
        "      num_samples = 50,\n",
        "      n_jobs = -1,\n",
        "      verbose = False\n",
        "      ) \n",
        "  \n",
        "  return serie_predicted"
      ]
    },
    {
      "cell_type": "code",
      "execution_count": null,
      "metadata": {
        "id": "gYM0cHmCuCqg"
      },
      "outputs": [],
      "source": [
        "serie_predict_NBEATS = serie_predict(model_NBEATSModel, series_Train, covariates)"
      ]
    },
    {
      "cell_type": "code",
      "execution_count": null,
      "metadata": {
        "id": "bOr_xWLfYl3g"
      },
      "outputs": [],
      "source": [
        "serie_predict_TCN = serie_predict(model_TCNModel, series_Train, covariates)"
      ]
    },
    {
      "cell_type": "code",
      "execution_count": null,
      "metadata": {
        "id": "TzCMMazOYltn"
      },
      "outputs": [],
      "source": [
        "serie_predict_TFT = serie_predict(model_TFTModel, series_Train, covariates)"
      ]
    },
    {
      "cell_type": "code",
      "execution_count": null,
      "metadata": {
        "id": "XrlQf8Z-YlpF"
      },
      "outputs": [],
      "source": [
        "serie_predict_Transformer = serie_predict(model_TRANSFORMERModel, series_Train, covariates)"
      ]
    },
    {
      "cell_type": "code",
      "execution_count": null,
      "metadata": {
        "id": "X2NbG_cd18Xr"
      },
      "outputs": [],
      "source": [
        "serie_predict_NHITS = serie_predict(model_NHITSModel, series_Train, covariates)"
      ]
    },
    {
      "cell_type": "code",
      "execution_count": null,
      "metadata": {
        "id": "kL8MHUb2sz1-"
      },
      "outputs": [],
      "source": [
        "end = timer()\n",
        "print(\"Tempo decorrido de predição: {:.2f}\".format(end - start))"
      ]
    },
    {
      "cell_type": "markdown",
      "metadata": {
        "id": "JbGScGa1cuFf"
      },
      "source": [
        "##Visualização das predições\n"
      ]
    },
    {
      "cell_type": "code",
      "execution_count": null,
      "metadata": {
        "id": "e1Pq6JLYtsr3"
      },
      "outputs": [],
      "source": [
        "#Visualizar series alvos e predições\n",
        "plt.figure(figsize = (14, 10))\n",
        "series_Train.plot()\n",
        "serieVal_symptom.plot(label ='serieVal_sintoma - Real')\n",
        "serieVal_publication.plot(label ='serieVal_publicacao - Real')\n",
        "\n",
        "historical_forecasts_NBEATS.plot()\n",
        "serie_predict_NBEATS.plot()"
      ]
    },
    {
      "cell_type": "code",
      "execution_count": null,
      "metadata": {
        "id": "-_F7D6lbO4pm"
      },
      "outputs": [],
      "source": [
        "#Visualizar series alvos e predições\n",
        "plt.figure(figsize = (14, 10))\n",
        "series_Train[-30:].plot()\n",
        "serieVal_symptom.plot(label ='serieVal_sintoma - Real')\n",
        "serieVal_publication.plot(label ='serieVal_publicacao - Real')\n",
        "\n",
        "historical_forecasts_NBEATS[-30:].plot()\n",
        "serie_predict_NBEATS.plot()"
      ]
    },
    {
      "cell_type": "code",
      "execution_count": null,
      "metadata": {
        "id": "VaYeGY0lc1Gq"
      },
      "outputs": [],
      "source": [
        "#Visualizar series alvos e predições\n",
        "plt.figure(figsize = (14, 10))\n",
        "series_Train.plot()\n",
        "serieVal_symptom.plot(label ='serieVal_sintoma - Real')\n",
        "serieVal_publication.plot(label ='serieVal_publicacao - Real')\n",
        "\n",
        "historical_forecasts_TCN.plot()\n",
        "serie_predict_TCN.plot()"
      ]
    },
    {
      "cell_type": "code",
      "execution_count": null,
      "metadata": {
        "id": "UUypolQWc1tv"
      },
      "outputs": [],
      "source": [
        "#Visualizar series alvos e predições\n",
        "plt.figure(figsize = (14, 10))\n",
        "series_Train[-30:].plot()\n",
        "serieVal_symptom.plot(label ='serieVal_sintoma - Real')\n",
        "serieVal_publication.plot(label ='serieVal_publicacao - Real')\n",
        "\n",
        "historical_forecasts_TCN[-30:].plot()\n",
        "serie_predict_TCN.plot()"
      ]
    },
    {
      "cell_type": "code",
      "execution_count": null,
      "metadata": {
        "id": "q1HBH2MJc_1T"
      },
      "outputs": [],
      "source": [
        "#Visualizar series alvos e predições\n",
        "plt.figure(figsize = (14, 10))\n",
        "series_Train.plot()\n",
        "serieVal_symptom.plot(label ='serieVal_sintoma - Real')\n",
        "serieVal_publication.plot(label ='serieVal_publicacao - Real')\n",
        "\n",
        "historical_forecasts_TFT.plot()\n",
        "serie_predict_TFT.plot()"
      ]
    },
    {
      "cell_type": "code",
      "execution_count": null,
      "metadata": {
        "id": "M-axm9p6c_rS"
      },
      "outputs": [],
      "source": [
        "#Visualizar series alvos e predições\n",
        "plt.figure(figsize = (14, 10))\n",
        "series_Train[-30:].plot()\n",
        "serieVal_symptom.plot(label ='serieVal_sintoma - Real')\n",
        "serieVal_publication.plot(label ='serieVal_publicacao - Real')\n",
        "\n",
        "historical_forecasts_TFT[-30:].plot()\n",
        "serie_predict_TFT.plot()"
      ]
    },
    {
      "cell_type": "code",
      "execution_count": null,
      "metadata": {
        "id": "tivGUOTqdMER"
      },
      "outputs": [],
      "source": [
        "#Visualizar series alvos e predições\n",
        "plt.figure(figsize = (14, 10))\n",
        "series_Train.plot()\n",
        "serieVal_symptom.plot(label ='serieVal_sintoma - Real')\n",
        "serieVal_publication.plot(label ='serieVal_publicacao - Real')\n",
        "\n",
        "historical_forecasts_Transformer.plot()\n",
        "serie_predict_Transformer.plot()"
      ]
    },
    {
      "cell_type": "code",
      "execution_count": null,
      "metadata": {
        "id": "McDePlcsdL-b"
      },
      "outputs": [],
      "source": [
        "  #Visualizar series alvos e predições\n",
        "plt.figure(figsize = (14, 10))\n",
        "series_Train[-30:].plot()\n",
        "serieVal_symptom.plot(label ='serieVal_sintoma - Real')\n",
        "serieVal_publication.plot(label ='serieVal_publicacao - Real')\n",
        "\n",
        "historical_forecasts_Transformer[-30:].plot()\n",
        "serie_predict_Transformer.plot()"
      ]
    },
    {
      "cell_type": "markdown",
      "metadata": {
        "id": "dgzdK7FFQvYm"
      },
      "source": [
        "#Geração e Visualização da mediana das series"
      ]
    },
    {
      "cell_type": "code",
      "execution_count": null,
      "metadata": {
        "id": "5ufLnRP35WU6"
      },
      "outputs": [],
      "source": [
        "def series_view(historical_forecasts, serie_predict):\n",
        "\n",
        "  median_histfcast_symptom = historical_forecasts['Casos_DataSintoma_MM_atual_PA'].median()\n",
        "  median_histfcast_publication = historical_forecasts['Casos_Publicacao_MM_atual_PA'].median()\n",
        "  #median_histfcast_symptom = historical_forecasts['0'].median()\n",
        "  #median_histfcast_publication = historical_forecasts['1'].median()\n",
        "\n",
        "  median_symptom_prediction = serie_predict['Casos_DataSintoma_MM_atual_PA'].median()\n",
        "  median_publication_prediction = serie_predict['Casos_Publicacao_MM_atual_PA'].median()\n",
        "\n",
        "  return median_histfcast_symptom, median_histfcast_publication, median_symptom_prediction, median_publication_prediction"
      ]
    },
    {
      "cell_type": "code",
      "execution_count": null,
      "metadata": {
        "id": "bwHCNSFFQ22z"
      },
      "outputs": [],
      "source": [
        "NBEATS_median_histfcast_symptom, NBEATS_median_histfcast_publication, NBEATS_median_symptom_prediction, NBEATS_median_publication_prediction = series_view(historical_forecasts_NBEATS, serie_predict_NBEATS)\n",
        "\n",
        "#Aumento do tamanho da figura (x, y)\n",
        "plt.figure(figsize = (14, 10))\n",
        "\n",
        "NBEATS_median_histfcast_symptom.plot(label='NBEATS_Mediana_Previsão_Histórica Casos_DataSintoma_MM_atual_PA')\n",
        "NBEATS_median_histfcast_publication.plot(label='NBEATS_Mediana_Previsão_Histórica Casos_Publicacao_MM_atual_PA')\n",
        "NBEATS_median_symptom_prediction.plot()\n",
        "NBEATS_median_publication_prediction.plot()"
      ]
    },
    {
      "cell_type": "code",
      "execution_count": null,
      "metadata": {
        "id": "G7p873nKQ2zv"
      },
      "outputs": [],
      "source": [
        "TCN_median_histfcast_symptom, TCN_median_histfcast_publication, TCN_median_symptom_prediction, TCN_median_publication_prediction = series_view(historical_forecasts_TCN, serie_predict_TCN)\n",
        "\n",
        "#Aumento do tamanho da figura (x, y)\n",
        "plt.figure(figsize = (14, 10))\n",
        "\n",
        "TCN_median_histfcast_symptom.plot(label='TCN_Mediana_Previsão_Histórica Casos_DataSintoma_MM_atual_PA')\n",
        "TCN_median_histfcast_publication.plot(label='TCN_Mediana_Previsão_Histórica Casos_DataSintoma_MM_atual_PA')\n",
        "TCN_median_symptom_prediction.plot()\n",
        "TCN_median_publication_prediction.plot()"
      ]
    },
    {
      "cell_type": "code",
      "execution_count": null,
      "metadata": {
        "id": "PUrGQBVTQ2v-"
      },
      "outputs": [],
      "source": [
        "TFT_median_histfcast_symptom, TFT_median_histfcast_publication, TFT_median_symptom_prediction, TFT_median_publication_prediction = series_view(historical_forecasts_TFT, serie_predict_TFT)\n",
        "\n",
        "#Aumento do tamanho da figura (x, y)\n",
        "plt.figure(figsize = (14, 10))\n",
        "\n",
        "TFT_median_histfcast_symptom.plot(label='TFT_Mediana_Previsão_Histórica Casos_DataSintoma_MM_atual_PA')\n",
        "TFT_median_histfcast_publication.plot(label='TFT_Mediana_Previsão_Histórica Casos_DataSintoma_MM_atual_PA')\n",
        "TFT_median_symptom_prediction.plot()\n",
        "TFT_median_publication_prediction.plot()"
      ]
    },
    {
      "cell_type": "code",
      "execution_count": null,
      "metadata": {
        "id": "f7cLOZk_Q2gg"
      },
      "outputs": [],
      "source": [
        "Transformer_median_histfcast_symptom, Transformer_median_histfcast_publication, Transformer_median_symptom_prediction, Transformer_median_publication_prediction  = series_view(historical_forecasts_Transformer, serie_predict_Transformer)\n",
        "\n",
        "#Aumento do tamanho da figura (x, y)\n",
        "plt.figure(figsize = (14, 10))\n",
        "\n",
        "Transformer_median_histfcast_symptom.plot(label='TRANSFORMER_Mediana_Previsão_Histórica Casos_DataSintoma_MM_atual_PA')\n",
        "Transformer_median_histfcast_publication.plot(label='TRANSFORMER_Mediana_Previsão_Histórica Casos_DataSintoma_MM_atual_PA')\n",
        "Transformer_median_symptom_prediction.plot()\n",
        "Transformer_median_publication_prediction.plot()"
      ]
    },
    {
      "cell_type": "code",
      "execution_count": null,
      "metadata": {
        "id": "h7eyNfKv2K6J"
      },
      "outputs": [],
      "source": [
        "NHITS_median_histfcast_symptom, NHITS_median_histfcast_publication, NHITS_median_symptom_prediction, NHITS_median_publication_prediction = series_view(historical_forecasts_NHITS, serie_predict_NHITS)\n",
        "\n",
        "#Aumento do tamanho da figura (x, y)\n",
        "plt.figure(figsize = (14, 10))\n",
        "\n",
        "NHITS_median_histfcast_symptom.plot(label='NHITS_Mediana_Previsão_Histórica Casos_DataSintoma_MM_atual_PA')\n",
        "NHITS_median_histfcast_publication.plot(label='NHITS_Mediana_Previsão_Histórica Casos_DataSintoma_MM_atual_PA')\n",
        "NHITS_median_symptom_prediction.plot()\n",
        "NHITS_median_publication_prediction.plot()"
      ]
    },
    {
      "cell_type": "markdown",
      "metadata": {
        "id": "XmBpYSX9kN2f"
      },
      "source": [
        "#Re-escala dos dados gerados\n",
        "\n",
        "\n"
      ]
    },
    {
      "cell_type": "code",
      "execution_count": null,
      "metadata": {
        "id": "4CPsT6yZ8j3V"
      },
      "outputs": [],
      "source": [
        "def process_re_scaling(Scaler_serie, serie_scaled): \n",
        "  #Volta para a escala original\n",
        "  serie_back = Scaler_serie.inverse_transform(serie_scaled)  \n",
        "\n",
        "  return serie_back"
      ]
    },
    {
      "cell_type": "code",
      "execution_count": null,
      "metadata": {
        "id": "uLJtjqJeuNwP"
      },
      "outputs": [],
      "source": [
        "# Re-escala NBEATS\n",
        "NBEATS_publication_serie_histfcast_rescaled = process_re_scaling(Scaler_publication, NBEATS_median_histfcast_publication)\n",
        "NBEATS_publication_serie_prediction_rescaled = process_re_scaling(Scaler_publication, NBEATS_median_publication_prediction) \n",
        "NBEATS_sympthom_serie_histfcast_rescaled = process_re_scaling(Scaler_symptom, NBEATS_median_histfcast_symptom)\n",
        "NBEATS_sympthom_serie_prediction_rescaled = process_re_scaling(Scaler_symptom, NBEATS_median_symptom_prediction)\n",
        "\n",
        "# Re-escala TCN\n",
        "TCN_publication_serie_histfcast_rescaled = process_re_scaling(Scaler_publication, TCN_median_histfcast_publication)\n",
        "TCN_publication_serie_prediction_rescaled = process_re_scaling(Scaler_publication, TCN_median_publication_prediction)\n",
        "TCN_sympthom_serie_histfcast_rescaled = process_re_scaling(Scaler_symptom, TCN_median_histfcast_symptom)\n",
        "TCN_sympthom_serie_prediction_rescaled = process_re_scaling(Scaler_symptom, TCN_median_symptom_prediction)\n",
        "\n",
        "# Re-escala TFT\n",
        "TFT_publication_serie_histfcast_rescaled = process_re_scaling(Scaler_publication, TFT_median_histfcast_publication)\n",
        "TFT_publication_serie_prediction_rescaled = process_re_scaling(Scaler_publication, TFT_median_publication_prediction)\n",
        "TFT_sympthom_serie_histfcast_rescaled = process_re_scaling(Scaler_symptom, TFT_median_histfcast_symptom)\n",
        "TFT_sympthom_serie_prediction_rescaled = process_re_scaling(Scaler_symptom, TFT_median_symptom_prediction)\n",
        "\n",
        "# Re-escala TRANSFORMER\n",
        "Transformer_publication_serie_histfcast_rescaled = process_re_scaling(Scaler_publication, Transformer_median_histfcast_publication)\n",
        "Transformer_publication_serie_prediction_rescaled = process_re_scaling(Scaler_publication, Transformer_median_publication_prediction)\n",
        "Transformer_sympthom_serie_histfcast_rescaled = process_re_scaling(Scaler_symptom, Transformer_median_histfcast_symptom)\n",
        "Transformer_sympthom_serie_prediction_rescaled = process_re_scaling(Scaler_symptom, Transformer_median_symptom_prediction)\n",
        "\n",
        "# Re-escala NHITS\n",
        "NHITS_publication_serie_histfcast_rescaled = process_re_scaling(Scaler_publication, NHITS_median_histfcast_publication)\n",
        "NHITS_publication_serie_prediction_rescaled = process_re_scaling(Scaler_publication, NHITS_median_publication_prediction)\n",
        "NHITS_sympthom_serie_histfcast_rescaled = process_re_scaling(Scaler_symptom, NHITS_median_histfcast_symptom)\n",
        "NHITS_sympthom_serie_prediction_rescaled = process_re_scaling(Scaler_symptom, NHITS_median_symptom_prediction)"
      ]
    },
    {
      "cell_type": "code",
      "execution_count": null,
      "metadata": {
        "id": "XitIQMMynISV"
      },
      "outputs": [],
      "source": [
        "title_7days = 'Prediction of moving average (7 days) of Cases'\n",
        "title_37days = 'Prediction of moving average (7 days) of Cases (showing last 37 days)'"
      ]
    },
    {
      "cell_type": "code",
      "execution_count": null,
      "metadata": {
        "id": "TT4yQBIySouL"
      },
      "outputs": [],
      "source": [
        "#Visualização do alvo de publicação\n",
        "plt.figure(figsize = (14, 10))\n",
        "\n",
        "smoothed_publication_series.plot(label='Actual Publication')\n",
        "NBEATS_publication_serie_histfcast_rescaled.plot(label='Publication Training Dataset Prediction') # Previsão publicação sobre Training Dataset\n",
        "NBEATS_publication_serie_prediction_rescaled.plot(label='Publication Validation Dataset Prediction') # Previsão publicação sobre Validation Dataset\n",
        "\n",
        "smoothed_symptom_series.plot(label='Actual Symptom')\n",
        "NBEATS_sympthom_serie_histfcast_rescaled.plot(label='Prediction of First Symptoms in the Training Dataset') # Previsão primeiros sintomas sobre Training Dataset\n",
        "NBEATS_sympthom_serie_prediction_rescaled.plot(label='Prediction of First Symptoms in the Validation Dataset')\n",
        "\n",
        "plt.title(label= title_7days + ' - NBEATS Model', fontsize=16) # Previsão de Casos (média móvel 7 dias) - Modelo NBEATS\n",
        "\n",
        "plt.savefig(PATH_FIGS + title_7days +' - NBEATS_Model.png', dpi = 300)"
      ]
    },
    {
      "cell_type": "code",
      "execution_count": null,
      "metadata": {
        "id": "yunZhtR6tk0N"
      },
      "outputs": [],
      "source": [
        "#Visualiação com os ultimos 37 dias. - NBEATS\n",
        "plt.figure(figsize = (14, 10))\n",
        "\n",
        "smoothed_publication_series[-37:].plot(label='Actual Publication')\n",
        "NBEATS_publication_serie_histfcast_rescaled[-30:].plot(label='Publication Training Dataset Prediction')\n",
        "NBEATS_publication_serie_prediction_rescaled[-30:].plot(label='Publication Validation Dataset Prediction')\n",
        "\n",
        "smoothed_symptom_series[-37:].plot(label='Actual Symptom')\n",
        "NBEATS_sympthom_serie_histfcast_rescaled[-30:].plot(label='Prediction of First Symptoms in the Training Dataset')\n",
        "NBEATS_sympthom_serie_prediction_rescaled[-30:].plot(label='Prediction of First Symptoms in the Validation Dataset')\n",
        "\n",
        "plt.title(label= title_37days + ' - NBEATS Model', fontsize=16) \n",
        "\n",
        "plt.savefig(PATH_FIGS + title_37days + ' - NBEATS Model.png', dpi = 300)"
      ]
    },
    {
      "cell_type": "code",
      "execution_count": null,
      "metadata": {
        "id": "XSGMBx1TUDOV"
      },
      "outputs": [],
      "source": [
        "#Visualização do alvo de publicação\n",
        "plt.figure(figsize = (14, 10))\n",
        "\n",
        "smoothed_publication_series.plot(label='Actual Publication')\n",
        "TCN_publication_serie_histfcast_rescaled.plot(label='Publication Training Dataset Prediction')\n",
        "TCN_publication_serie_prediction_rescaled.plot(label='Publication Validation Dataset Prediction') \n",
        "\n",
        "smoothed_symptom_series.plot(label='Actual Symptom')\n",
        "TCN_sympthom_serie_histfcast_rescaled.plot(label='Prediction of First Symptoms in the Training Dataset')\n",
        "TCN_sympthom_serie_prediction_rescaled.plot(label='Prediction of First Symptoms in the Validation Dataset')\n",
        "\n",
        "plt.title(label= title_7days + ' - TCN Model', fontsize=16) # Previsão de Casos (média móvel 7 dias) - Modelo NBEATS\n",
        "\n",
        "plt.savefig(PATH_FIGS + title_7days +' - TCN_Model.png', dpi = 300)"
      ]
    },
    {
      "cell_type": "code",
      "execution_count": null,
      "metadata": {
        "id": "j5tjSJnnUDOc"
      },
      "outputs": [],
      "source": [
        "#Visualiação com com os ultimos 37 dias. - TCN\n",
        "plt.figure(figsize = (14, 10))\n",
        "\n",
        "smoothed_publication_series[-37:].plot(label='Actual Publication')\n",
        "TCN_publication_serie_histfcast_rescaled[-30:].plot(label='Publication Training Dataset Prediction')\n",
        "TCN_publication_serie_prediction_rescaled[-30:].plot(label='Publication Validation Dataset Prediction') \n",
        "\n",
        "smoothed_symptom_series[-37:].plot(label='Actual Symptom')\n",
        "TCN_sympthom_serie_histfcast_rescaled[-30:].plot(label='Prediction of First Symptoms in the Training Dataset')\n",
        "TCN_sympthom_serie_prediction_rescaled[-30:].plot(label='Prediction of First Symptoms in the Validation Dataset')\n",
        "\n",
        "plt.title(label= title_37days + ' - TCN Model', fontsize=16)\n",
        "\n",
        "plt.savefig(PATH_FIGS + title_37days +' - TCN_Model.png', dpi = 300)"
      ]
    },
    {
      "cell_type": "code",
      "execution_count": null,
      "metadata": {
        "id": "pSBKYW3xUfAI"
      },
      "outputs": [],
      "source": [
        "#Visualização do alvo de publicação\n",
        "plt.figure(figsize = (14, 10))\n",
        "\n",
        "smoothed_publication_series.plot(label='Actual Publication')\n",
        "TFT_publication_serie_histfcast_rescaled.plot(label='Publication Training Dataset Prediction')\n",
        "TFT_publication_serie_prediction_rescaled.plot(label='Publication Validation Dataset Prediction') \n",
        "\n",
        "smoothed_symptom_series.plot(label='Actual Symptom')\n",
        "TFT_sympthom_serie_histfcast_rescaled.plot(label='Prediction of First Symptoms in the Training Dataset')\n",
        "TFT_sympthom_serie_prediction_rescaled.plot(label='Prediction of First Symptoms in the Validation Dataset')\n",
        "\n",
        "plt.title(label= title_7days + ' - TFT Model', fontsize=16)\n",
        "\n",
        "plt.savefig(PATH_FIGS + title_7days +' - TFT_Model.png', dpi = 300)"
      ]
    },
    {
      "cell_type": "code",
      "execution_count": null,
      "metadata": {
        "id": "wSMgJR7sUfAP"
      },
      "outputs": [],
      "source": [
        "#Visualiação com com os ultimos 37 dias. - TFT\n",
        "plt.figure(figsize = (14, 10))\n",
        "\n",
        "smoothed_publication_series[-37:].plot(label='Actual Publication')\n",
        "TFT_publication_serie_histfcast_rescaled[-30:].plot(label='Publication Training Dataset Prediction')\n",
        "TFT_publication_serie_prediction_rescaled[-30:].plot(label='Publication Validation Dataset Prediction') \n",
        "\n",
        "smoothed_symptom_series[-37:].plot(label='Actual Symptom')\n",
        "TFT_sympthom_serie_histfcast_rescaled[-30:].plot(label='Prediction of First Symptoms in the Training Dataset')\n",
        "TFT_sympthom_serie_prediction_rescaled[-30:].plot(label='Prediction of First Symptoms in the Validation Dataset')\n",
        "\n",
        "plt.title(label= title_37days + ' - TFT Model', fontsize=16)\n",
        "plt.savefig(PATH_FIGS + title_37days +' - TFT_Model.png', dpi = 300)"
      ]
    },
    {
      "cell_type": "code",
      "execution_count": null,
      "metadata": {
        "id": "eMRMy2qlUfNK"
      },
      "outputs": [],
      "source": [
        "#Visualização do alvo de publicação\n",
        "plt.figure(figsize = (14, 10))\n",
        "\n",
        "smoothed_publication_series.plot(label='Actual Publication')\n",
        "Transformer_publication_serie_histfcast_rescaled.plot(label='Publication Training Dataset Prediction')\n",
        "Transformer_publication_serie_prediction_rescaled.plot(label='Publication Validation Dataset Prediction') \n",
        "\n",
        "smoothed_symptom_series.plot(label='Actual Symptom')\n",
        "Transformer_sympthom_serie_histfcast_rescaled.plot(label='Prediction of First Symptoms in the Training Dataset')\n",
        "Transformer_sympthom_serie_prediction_rescaled.plot(label='Prediction of First Symptoms in the Validation Dataset')\n",
        "\n",
        "plt.title(label= title_7days + ' - TRANSFORMER Model', fontsize=16)\n",
        "\n",
        "plt.savefig(PATH_FIGS + title_7days +' - TRANSFORMER_Model.png', dpi = 300)"
      ]
    },
    {
      "cell_type": "code",
      "execution_count": null,
      "metadata": {
        "id": "gZ9OT651UfNL"
      },
      "outputs": [],
      "source": [
        "#Visualiação com com os ultimos 37 dias. - Transformer\n",
        "plt.figure(figsize = (14, 10))\n",
        "\n",
        "smoothed_publication_series[-37:].plot(label='Actual Publication')\n",
        "Transformer_publication_serie_histfcast_rescaled[-30:].plot(label='Publication Training Dataset Prediction')\n",
        "Transformer_publication_serie_prediction_rescaled[-30:].plot(label='Publication Validation Dataset Prediction') \n",
        "\n",
        "smoothed_symptom_series[-37:].plot(label='Actual Symptom')\n",
        "Transformer_sympthom_serie_histfcast_rescaled[-30:].plot(label='Prediction of First Symptoms in the Training Dataset')\n",
        "Transformer_sympthom_serie_prediction_rescaled[-30:].plot(label='Prediction of First Symptoms in the Validation Dataset')\n",
        "\n",
        "plt.title(label= title_37days + ' - TRANSFORMER Model', fontsize=16)\n",
        "\n",
        "plt.savefig(PATH_FIGS + title_37days +' - TRANSFORMER_Model.png', dpi = 300)"
      ]
    },
    {
      "cell_type": "code",
      "execution_count": null,
      "metadata": {
        "id": "stzqrwqw3CGY"
      },
      "outputs": [],
      "source": [
        "#Visualização do alvo de publicação\n",
        "plt.figure(figsize = (14, 10))\n",
        "\n",
        "smoothed_publication_series.plot(label='Actual Publication')\n",
        "NHITS_publication_serie_histfcast_rescaled.plot(label='Publication Training Dataset Prediction')\n",
        "NHITS_publication_serie_prediction_rescaled.plot(label='Publication Validation Dataset Prediction') \n",
        "\n",
        "smoothed_symptom_series.plot(label='Actual Symptom')\n",
        "NHITS_sympthom_serie_histfcast_rescaled.plot(label='Prediction of First Symptoms in the Training Dataset')\n",
        "NHITS_sympthom_serie_prediction_rescaled.plot(label='Prediction of First Symptoms in the Validation Dataset')\n",
        "\n",
        "plt.title(label= title_7days + ' - NHITS Model', fontsize=16)\n",
        "\n",
        "plt.savefig(PATH_FIGS + title_7days + ' - NHITS_Model.png', dpi = 300)"
      ]
    },
    {
      "cell_type": "code",
      "execution_count": null,
      "metadata": {
        "id": "mt4gcjoO3Dwz"
      },
      "outputs": [],
      "source": [
        "#Visualiação com com os ultimos 37 dias. - Transformer\n",
        "plt.figure(figsize = (14, 10))\n",
        "\n",
        "smoothed_publication_series[-37:].plot(label='Actual Publication')\n",
        "NHITS_publication_serie_histfcast_rescaled[-30:].plot(label='Publication Training Dataset Prediction')\n",
        "NHITS_publication_serie_prediction_rescaled[-30:].plot(label='Publication Validation Dataset Prediction') \n",
        "\n",
        "smoothed_symptom_series[-37:].plot(label='Actual Symptom')\n",
        "NHITS_sympthom_serie_histfcast_rescaled[-30:].plot(label='Prediction of First Symptoms in the Training Dataset')\n",
        "NHITS_sympthom_serie_prediction_rescaled[-30:].plot(label='Prediction of First Symptoms in the Validation Dataset')\n",
        "\n",
        "plt.title(label= title_37days + ' - NHITS Model', fontsize=16)\n",
        "\n",
        "plt.savefig(PATH_FIGS + title_37days + ' - NHITS_Model.png', dpi = 300)"
      ]
    },
    {
      "cell_type": "markdown",
      "metadata": {
        "id": "qRGCroDjFQaq"
      },
      "source": [
        "#Exportação das predições"
      ]
    },
    {
      "cell_type": "code",
      "execution_count": null,
      "metadata": {
        "id": "jvcUJ81ElUl3"
      },
      "outputs": [],
      "source": [
        "def saving_templates(model, serie_S_HistCast_rescaled, serie_P_HistCast_rescaled, serie_S_Pred_rescaled, serie_P_Pred_rescaled):\n",
        "  path = os.path.join(PATH_CSV, model.model_name)\n",
        "  isExist = os.path.exists(path)\n",
        "\n",
        "  if not isExist:\n",
        "    os.mkdir(path)\n",
        "\n",
        "  serie_histfcast = serie_S_HistCast_rescaled.stack(serie_P_HistCast_rescaled)\n",
        "  df_serie_histfcast_toExport = serie_histfcast.pd_dataframe()\n",
        "  df_serie_histfcast_toExport.reset_index(inplace=True)\n",
        "  df_serie_histfcast_toExport.rename(columns = {'time':'data', '0':'Casos_DataSintoma_MM_atual_PA', '1':'Casos_Publicacao_MM_atual_PA'}, inplace=True)\n",
        "  df_serie_histfcast_toExport.to_csv(path_or_buf = path +'/training_Forecast.csv',index=False)\n",
        "\n",
        "  serie_pred_toExport = serie_S_Pred_rescaled.stack(serie_P_Pred_rescaled)\n",
        "  serie_pred_toExport.to_csv(path_or_buf = path + '/validation_Forecast.csv')\n"
      ]
    },
    {
      "cell_type": "code",
      "execution_count": null,
      "metadata": {
        "id": "jrBbpoBZmEll"
      },
      "outputs": [],
      "source": [
        "saving_templates(model_NBEATSModel,\n",
        "    NBEATS_sympthom_serie_histfcast_rescaled, \n",
        "    NBEATS_publication_serie_histfcast_rescaled, \n",
        "    NBEATS_sympthom_serie_prediction_rescaled,\n",
        "    NBEATS_publication_serie_prediction_rescaled)\n",
        "print('NBEATS EXPORT')\n",
        "\n",
        "\n",
        "saving_templates(model_TCNModel,\n",
        "    TCN_sympthom_serie_histfcast_rescaled, \n",
        "    TCN_publication_serie_histfcast_rescaled, \n",
        "    TCN_sympthom_serie_prediction_rescaled,\n",
        "    TCN_publication_serie_prediction_rescaled)\n",
        "print('TCN EXPORT')\n",
        "\n",
        "\n",
        "saving_templates(model_TFTModel,\n",
        "    TFT_sympthom_serie_histfcast_rescaled, \n",
        "    TFT_publication_serie_histfcast_rescaled, \n",
        "    TFT_sympthom_serie_prediction_rescaled,\n",
        "    TFT_publication_serie_prediction_rescaled)\n",
        "print('TFT EXPORT')\n",
        "\n",
        "\n",
        "saving_templates(model_TRANSFORMERModel,\n",
        "    Transformer_sympthom_serie_histfcast_rescaled, \n",
        "    Transformer_publication_serie_histfcast_rescaled, \n",
        "    Transformer_sympthom_serie_prediction_rescaled,\n",
        "    Transformer_publication_serie_prediction_rescaled)\n",
        "print('TRANSFORMER EXPORT')\n",
        "\n",
        "\n",
        "saving_templates(model_NHITSModel,\n",
        "    NHITS_sympthom_serie_histfcast_rescaled,\n",
        "    NHITS_publication_serie_histfcast_rescaled, \n",
        "    NHITS_sympthom_serie_prediction_rescaled,\n",
        "    NHITS_publication_serie_prediction_rescaled)\n",
        "print('NHITS EXPORT')"
      ]
    },
    {
      "cell_type": "code",
      "source": [
        "#%run \"/content/drive/My Drive/NPCA - COVID/Colab/TREINO E PREDIÇÃO/PREDICAO_MODELOS_covid_obitos_ver1.ipynb\""
      ],
      "metadata": {
        "id": "JDx5JAxinSP4"
      },
      "execution_count": null,
      "outputs": []
    }
  ],
  "metadata": {
    "accelerator": "GPU",
    "colab": {
      "collapsed_sections": [
        "MDVRez9ivbXr",
        "RvpQPdBdUian",
        "I3kwbr4cUrHH",
        "RiNGBVhbu12n",
        "kZlwXrseqluW",
        "y3GVSE6_sYS2",
        "raNjZdiDtFo9",
        "mEgsMkDPLPUX",
        "yOSsfr8bck8o",
        "q1YJr0IRciYs",
        "qRGCroDjFQaq"
      ],
      "provenance": [],
      "include_colab_link": true
    },
    "gpuClass": "standard",
    "kernelspec": {
      "display_name": "Python 3",
      "name": "python3"
    },
    "language_info": {
      "name": "python"
    }
  },
  "nbformat": 4,
  "nbformat_minor": 0
}