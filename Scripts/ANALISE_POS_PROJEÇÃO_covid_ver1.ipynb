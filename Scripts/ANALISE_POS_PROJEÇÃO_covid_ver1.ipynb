{
  "nbformat": 4,
  "nbformat_minor": 0,
  "metadata": {
    "colab": {
      "provenance": [],
      "collapsed_sections": [
        "AWzNTj2xRgVg",
        "jVq_7adqSPi6",
        "OuILdbDjSqzF"
      ],
      "authorship_tag": "ABX9TyNa+6H5qcycPpI65y1IZaG7",
      "include_colab_link": true
    },
    "kernelspec": {
      "name": "python3",
      "display_name": "Python 3"
    },
    "language_info": {
      "name": "python"
    }
  },
  "cells": [
    {
      "cell_type": "markdown",
      "metadata": {
        "id": "view-in-github",
        "colab_type": "text"
      },
      "source": [
        "<a href=\"https://colab.research.google.com/github/NPCA-TEAM/COVID-19/blob/main/Scripts/ANALISE_POS_PROJE%C3%87%C3%83O_covid_ver1.ipynb\" target=\"_parent\"><img src=\"https://colab.research.google.com/assets/colab-badge.svg\" alt=\"Open In Colab\"/></a>"
      ]
    },
    {
      "cell_type": "markdown",
      "source": [
        "# Preparação preliminar"
      ],
      "metadata": {
        "id": "AWzNTj2xRgVg"
      }
    },
    {
      "cell_type": "code",
      "source": [
        "# concede permissão de acesso ao drive\n",
        "from google.colab import drive\n",
        "drive.mount('/content/drive')"
      ],
      "metadata": {
        "colab": {
          "base_uri": "https://localhost:8080/"
        },
        "id": "nv0Dw_wSRD6G",
        "outputId": "475d9899-2a49-4d82-9073-561ea2994620"
      },
      "execution_count": null,
      "outputs": [
        {
          "output_type": "stream",
          "name": "stdout",
          "text": [
            "Mounted at /content/drive\n"
          ]
        }
      ]
    },
    {
      "cell_type": "markdown",
      "source": [
        "## Dependências"
      ],
      "metadata": {
        "id": "jVq_7adqSPi6"
      }
    },
    {
      "cell_type": "code",
      "source": [
        "!pip install darts"
      ],
      "metadata": {
        "id": "GEMal4mdR0we"
      },
      "execution_count": null,
      "outputs": []
    },
    {
      "cell_type": "code",
      "source": [
        "!pip install matplotlib==3.1.3"
      ],
      "metadata": {
        "id": "xsevf1OfR51T"
      },
      "execution_count": null,
      "outputs": []
    },
    {
      "cell_type": "code",
      "source": [
        "!pip install pyyaml==5.4.1"
      ],
      "metadata": {
        "id": "RvNYcAySR8l4"
      },
      "execution_count": null,
      "outputs": []
    },
    {
      "cell_type": "markdown",
      "source": [
        "## Bibliotecas"
      ],
      "metadata": {
        "id": "OuILdbDjSqzF"
      }
    },
    {
      "cell_type": "code",
      "source": [
        "%load_ext autoreload\n",
        "%autoreload 2\n",
        "%matplotlib inline\n",
        "\n",
        "import pandas as pd\n",
        "import numpy as np\n",
        "import glob\n",
        "import os\n",
        "\n",
        "import matplotlib.pyplot as plt\n",
        "import matplotlib.dates as mdates\n",
        "\n",
        "from datetime import datetime\n",
        "from darts import timeseries\n",
        "\n",
        "from darts.metrics import mape, mse, rmse, coefficient_of_variation"
      ],
      "metadata": {
        "id": "EvvB_BTMSny3"
      },
      "execution_count": null,
      "outputs": []
    },
    {
      "cell_type": "markdown",
      "source": [
        "# Classe principal"
      ],
      "metadata": {
        "id": "QXnR96bLTEaa"
      }
    },
    {
      "cell_type": "code",
      "source": [
        "class Avaliacao:\n",
        "\n",
        "  def __init__(self, sintoma_or_publicacao_or_ocorrencia, casos_obitos, modelo):\n",
        "        self.casos_obitos = casos_obitos\n",
        "        self.sintoma_or_publicacao_or_ocorrencia = sintoma_or_publicacao_or_ocorrencia\n",
        "        self.modelo = modelo\n",
        "        self.forecast_date = '28_11_2022' # Alterar para a data do arquivo mais recente\n",
        "        self.current_date = '04_12_2022' # Alterar para a data da analise\n",
        "\n",
        "        self.main_path = f'/content/drive/MyDrive/NPCA - COVID/{self.casos_or_obitos_folder}'\n",
        "\n",
        "# ========================================================================================\n",
        "# ------------------------------------- Setters ------------------------------------------\n",
        "# ========================================================================================\n",
        "\n",
        "\n",
        "  @property\n",
        "  def casos_or_obitos_folder(self):\n",
        "    if self.casos_obitos == 'casos':\n",
        "      self.casos_or_obitos = '_CASOS'\n",
        "    elif self.casos_obitos == 'obitos':\n",
        "      self.casos_or_obitos = '_OBITOS'\n",
        "    return self.casos_or_obitos\n",
        "\n",
        "\n",
        "  @property\n",
        "  def sintoma_or_publicacao_or_ocorrencia_column(self):\n",
        "    if self.casos_obitos == 'casos':\n",
        "      if self.sintoma_or_publicacao_or_ocorrencia == 'sintomas': # Pegando os dados de sintoma ou publicação\n",
        "        column = 'DataSintoma'\n",
        "      elif self.sintoma_or_publicacao_or_ocorrencia == 'publicacao':\n",
        "        column = 'Publicacao'\n",
        "    elif self.casos_obitos == 'obitos': \n",
        "      if self.sintoma_or_publicacao_or_ocorrencia == 'ocorrencia': # Pegando os dados de sintoma ou publicação\n",
        "        column = 'DataOcorrencia'\n",
        "      elif self.sintoma_or_publicacao_or_ocorrencia == 'publicacao':\n",
        "        column = 'Publicacao'\n",
        "    return column\n",
        "\n",
        "\n",
        "  @property\n",
        "  def casos_obitos_column(self):\n",
        "    if self.casos_obitos == 'casos':\n",
        "      first = 'Casos'\n",
        "    elif self.casos_obitos == 'obitos':\n",
        "      first = 'Obitos'\n",
        "    return first\n",
        "\n",
        "\n",
        "  @property\n",
        "  def real_model(self): # Extraindo os dados reais\n",
        "    \n",
        "    # Carregar o dataframe\n",
        "    path_dataset = f'{self.main_path}/DataSet/'  \n",
        "    file_list = glob.glob(path_dataset + '*')\n",
        "    file_path = list(filter(lambda x: self.current_date in x, file_list))[0]\n",
        "    dataframe = pd.read_excel(file_path)\n",
        "    \n",
        "    # Pós Processamento\n",
        "    # Valores < 0 = 0\n",
        "    dataframe = dataframe.loc[:, ['data', f'{self.casos_obitos_column}_{self.sintoma_or_publicacao_or_ocorrencia_column}_MM_atual_PA']]\n",
        "    dataframe[f'{self.casos_obitos_column}_{self.sintoma_or_publicacao_or_ocorrencia_column}_MM_atual_PA'] = np.where(dataframe[f'{self.casos_obitos_column}_{self.sintoma_or_publicacao_or_ocorrencia_column}_MM_atual_PA'] <= 0, 0.00001, dataframe[f'{self.casos_obitos_column}_{self.sintoma_or_publicacao_or_ocorrencia_column}_MM_atual_PA'])\n",
        "    \n",
        "    t_s = timeseries.TimeSeries.from_dataframe(df=dataframe, time_col= 'data')\n",
        "    return t_s\n",
        "\n",
        "\n",
        "  @property\n",
        "  def read_and_process_models(self): # Leitura e processamento dos conjuntos de dados\n",
        "   \n",
        "    # Carregar o dataframe\n",
        "    path = f'{self.main_path}/FittedForecastsPosSelectedModel/{self.casos_obitos}_{self.sintoma_or_publicacao_or_ocorrencia}_fittedforecast_{self.modelo}_{self.getForecastDate}.csv'\n",
        "    df = pd.read_csv(path)\n",
        "\n",
        "    # Pós Processamento\n",
        "    # Valores < 0 = 0\n",
        "    valForecasts = df.loc[:, ['Date', 'Simulated']]\n",
        "    valForecasts['Simulated'] = np.where(valForecasts['Simulated'] <= 0, 0.00001, valForecasts['Simulated'])\n",
        "\n",
        "    series_forecast = timeseries.TimeSeries.from_dataframe(df=valForecasts,  time_col= 'Date')\n",
        "    return series_forecast\n",
        "\n",
        "\n",
        "# ========================================================================================\n",
        "# ----------------------------------- Getters --------------------------------------------\n",
        "# ========================================================================================\n",
        "\n",
        "\n",
        "  @property\n",
        "  def getForecastDate(self): # Get data dos dados (mesma para reais e forecast)\n",
        "    return self.forecast_date\n",
        "\n",
        "  @property\n",
        "  def getCurrentDate(self): # Get data dos dados (mesma para reais e forecast)\n",
        "    return self.current_date\n",
        "\n",
        "# ========================================================================================\n",
        "# ----------------------------------- Tabela de erros ------------------------------------\n",
        "# ========================================================================================\n",
        "\n",
        "\n",
        "  def TableMetrics(self):\n",
        "    realModel = self.real_model\n",
        "    readAndProcessModels = self.read_and_process_models\n",
        "    values = []\n",
        "\n",
        "    metric_mape = mape(realModel, readAndProcessModels) \n",
        "    metric_mse = mse(realModel, readAndProcessModels)\n",
        "    metric_rmse = rmse(realModel, readAndProcessModels)\n",
        "    metric_coefficient_of_variation = coefficient_of_variation(realModel, readAndProcessModels)\n",
        "\n",
        "    values.append([f'{self.casos_obitos} {self.sintoma_or_publicacao_or_ocorrencia}', self.modelo, metric_mape, metric_mse, metric_rmse, metric_coefficient_of_variation, self.getCurrentDate]) \n",
        "\n",
        "    df = pd.DataFrame(columns = ['AVALIADO', 'MODELO', 'MAPE', 'MSE', 'RMSE', 'COEFFICIENT OF VARIATION', 'DATA']) # Criando df vazio para anexar notas\n",
        "\n",
        "    for i in values:\n",
        "      result = dict(zip(['AVALIADO', 'MODELO', 'MAPE', 'MSE', 'RMSE', 'COEFFICIENT OF VARIATION', 'DATA'], i)) # Criando dicionário com resultados\n",
        "      df_to_append = pd.DataFrame(result, index = ['1']) # Criando DF com resultados\n",
        "      df = pd.concat([df, df_to_append])\n",
        "\n",
        "    return df\n",
        "  \n",
        "\n",
        "  def saveMetricsTable(self): # Salvando tabela de erros\n",
        "    save_path = f'{self.main_path}/PostProjectionAnalysis/{self.casos_obitos}_{self.sintoma_or_publicacao_or_ocorrencia}_analysis_{self.modelo}_{self.getCurrentDate}.csv'\n",
        "    self.TableMetrics().to_csv(save_path, index=False)\n",
        "\n",
        "\n",
        "# ========================================================================================\n",
        "# ------------------------------- Gráficos de comparação ---------------------------------\n",
        "# ========================================================================================\n",
        "\n",
        "  def getTitulo(self, ultimos30):\n",
        "\n",
        "    if self.casos_obitos == 'casos':\n",
        "      CasosOrObitos = 'cases'\n",
        "    elif self.casos_obitos == 'obitos':\n",
        "      CasosOrObitos = 'deaths'\n",
        "\n",
        "    if self.sintoma_or_publicacao_or_ocorrencia == 'publicacao':\n",
        "      SintoOrPubliOrOcorr = 'publication'\n",
        "    elif self.sintoma_or_publicacao_or_ocorrencia == 'sintomas':\n",
        "      SintoOrPubliOrOcorr = 'the first symptoms'\n",
        "    elif self.sintoma_or_publicacao_or_ocorrencia == 'ocorrencia':\n",
        "      SintoOrPubliOrOcorr = 'occurrence'\n",
        "    \n",
        "    # Criação do titulo do grafico.\n",
        "    if ultimos30 is False:\n",
        "      titulo = f'Forecast of {CasosOrObitos} by day of {SintoOrPubliOrOcorr} (Analysis - moving average) - {self.modelo}'\n",
        "    elif ultimos30 is True:\n",
        "      titulo = f'Forecast of {CasosOrObitos} by day of {SintoOrPubliOrOcorr} (Analysis - moving average) - Last 30 days - {self.modelo}'\n",
        "\n",
        "    return titulo\n",
        "\n",
        "\n",
        "  def plot(self, ultimos30=False):\n",
        "\n",
        "    median_plot = self.read_and_process_models.pd_dataframe()\n",
        "    real_plot = self.real_model.pd_dataframe()\n",
        "    titulo = self.getTitulo(ultimos30)\n",
        "    inter = 20\n",
        "\n",
        "    if ultimos30 is True:\n",
        "      median_plot = median_plot.tail(30)\n",
        "      real_plot = real_plot.tail(30)\n",
        "      inter = 1\n",
        "    \n",
        "    plt.style.use('seaborn-dark-palette')\n",
        "    fig, ax = plt.subplots(figsize=(18,6))\n",
        "\n",
        "    ax.plot(real_plot, lw=1.5, linestyle='solid', label='Observed') # Dados observados atuais\n",
        "    ax.plot(median_plot[:-6], lw=1.5, linestyle='solid', label='Historical forecast') # Historical forecast de 7 dias atras\n",
        "    ax.plot(median_plot[-7:], lw=1.5, linestyle='solid', label='Ahead forecast') # Predição de 7 dias atras\n",
        "    ax.axvline(x=median_plot.index[-7], alpha=.5, linestyle='--') #Linha vertical\n",
        "\n",
        "    min, max = ax.get_ylim()\n",
        "    ax.yaxis.set_ticks(np.arange(0, max, max/20))\n",
        "    ax.xaxis.set_major_locator(mdates.DayLocator(interval=inter)) # Intervalo entre as marcações de tempo\n",
        "    ax.xaxis.set_major_formatter(mdates.DateFormatter('%y-%m-%d'))\n",
        "\n",
        "    ax.legend(loc='upper left', ncol = 2, fancybox=True, edgecolor='Black', framealpha=1)\n",
        "    ax.set(title = titulo) # Titulo :)\n",
        "    ax.margins(0.015, tight=True)\n",
        "    ax.grid(True)\n",
        "\n",
        "    fig.autofmt_xdate(rotation=75)\n",
        "    fig.tight_layout()\n",
        "\n",
        "    fig.savefig(f'{self.main_path}/PostProjectionAnalysis/Plots/{titulo} - {self.getCurrentDate}.png', dpi=300)\n",
        "  \n",
        "\n",
        "  def getGraphs(self):\n",
        "    self.plot(False)\n",
        "    self.plot(True)\n",
        "\n",
        "\n",
        "# ========================================================================================\n",
        "# --------------------------------------- Geral ------------------------------------------\n",
        "# ========================================================================================\n",
        "\n",
        "\n",
        "  def analyse(self):\n",
        "    display(self.TableMetrics())\n",
        "    self.saveMetricsTable()\n",
        "    self.getGraphs()\n",
        "\n"
      ],
      "metadata": {
        "id": "mPXcIH_xTJE5"
      },
      "execution_count": null,
      "outputs": []
    },
    {
      "cell_type": "markdown",
      "source": [
        "# Analise"
      ],
      "metadata": {
        "id": "qy6vWfym5gXG"
      }
    },
    {
      "cell_type": "code",
      "source": [
        "# É necessario mudar o nome do modelo manualmente\n",
        "casos_sintoma = Avaliacao('sintomas', 'casos', 'NHITS')\n",
        "casos_sintoma.analyse()"
      ],
      "metadata": {
        "id": "pEfVzSBEitoQ"
      },
      "execution_count": null,
      "outputs": []
    },
    {
      "cell_type": "code",
      "source": [
        "# Mudar o nome do modelo\n",
        "casos_publicacao = Avaliacao('publicacao', 'casos', 'TRANSFORMER')\n",
        "casos_publicacao.analyse()"
      ],
      "metadata": {
        "id": "07JdzpAWjJm2"
      },
      "execution_count": null,
      "outputs": []
    },
    {
      "cell_type": "code",
      "source": [
        "# Não esquece de mudar o nome do modelo\n",
        "obitos_ocorrencia = Avaliacao('ocorrencia', 'obitos', 'NBEATS')\n",
        "obitos_ocorrencia.analyse()"
      ],
      "metadata": {
        "id": "7RWdPp0RAqC8"
      },
      "execution_count": null,
      "outputs": []
    },
    {
      "cell_type": "code",
      "source": [
        "# Tem que mudar o nome do modelo aqui tb\n",
        "obitos_publicacao = Avaliacao('publicacao', 'obitos', 'NBEATS')\n",
        "obitos_publicacao.analyse()"
      ],
      "metadata": {
        "id": "jDjc3kWzjNSN"
      },
      "execution_count": null,
      "outputs": []
    }
  ]
}