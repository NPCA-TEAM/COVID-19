{
  "cells": [
    {
      "cell_type": "markdown",
      "metadata": {
        "id": "view-in-github",
        "colab_type": "text"
      },
      "source": [
        "<a href=\"https://colab.research.google.com/github/NPCA-TEAM/COVID-19/blob/main/Scripts/%209%20-%20P%C3%93S_PROCESSAMENTO_covid_ver1.ipynb\" target=\"_parent\"><img src=\"https://colab.research.google.com/assets/colab-badge.svg\" alt=\"Open In Colab\"/></a>"
      ]
    },
    {
      "cell_type": "markdown",
      "metadata": {
        "id": "MDVRez9ivbXr"
      },
      "source": [
        "##Instalação das bibliotecas (necessário reiniciar ambiente)"
      ]
    },
    {
      "cell_type": "code",
      "execution_count": null,
      "metadata": {
        "id": "ZHspQlh_vMUt"
      },
      "outputs": [],
      "source": [
        "!pip install darts "
      ]
    },
    {
      "cell_type": "code",
      "execution_count": null,
      "metadata": {
        "id": "RN_kqgcAFaDY"
      },
      "outputs": [],
      "source": [
        "!pip install matplotlib==3.1.3"
      ]
    },
    {
      "cell_type": "markdown",
      "metadata": {
        "id": "JB8iPpls_3d1"
      },
      "source": [
        "##Importação das bibliotecas"
      ]
    },
    {
      "cell_type": "code",
      "execution_count": null,
      "metadata": {
        "id": "LocReGiHvr3Z"
      },
      "outputs": [],
      "source": [
        "%load_ext autoreload\n",
        "%autoreload 2\n",
        "%matplotlib inline\n",
        "\n",
        "import pandas as pd\n",
        "import numpy as np\n",
        "import glob\n",
        "import os\n",
        "import sys\n",
        "import time\n",
        "import torch\n",
        "import json\n",
        "\n",
        "import matplotlib.pyplot as plt\n",
        "from matplotlib.dates import DateFormatter\n",
        "import matplotlib.dates as mdates\n",
        "\n",
        "from datetime import datetime\n",
        "from darts import timeseries\n",
        "from darts.dataprocessing.transformers import Scaler\n",
        "\n",
        "from darts.models import (    \n",
        "    NBEATSModel,\n",
        "    TCNModel,\n",
        "    TransformerModel,\n",
        "    TFTModel \n",
        ")\n",
        "\n",
        "from darts.metrics import mape, rmse, r2_score, coefficient_of_variation\n",
        "from darts.utils.timeseries_generation import datetime_attribute_timeseries\n",
        "\n",
        "import warnings\n",
        "warnings.filterwarnings('ignore')\n",
        "import logging\n",
        "logging.disable(logging.CRITICAL)\n",
        "torch.manual_seed(1); np.random.seed(1)  # for reproducibility\n",
        "\n",
        "#Permitir acesso ao Gdrive\n",
        "from google.colab import drive\n",
        "drive.mount('/content/drive')"
      ]
    },
    {
      "cell_type": "markdown",
      "metadata": {
        "id": "8xX7CbOt0G9_"
      },
      "source": [
        "##Leitura do dataset"
      ]
    },
    {
      "cell_type": "code",
      "execution_count": null,
      "metadata": {
        "id": "KTceoiaBx42u"
      },
      "outputs": [],
      "source": [
        "#Seleciona o arquivo da base de dados recentemente atualizado na pasta\n",
        "files_list = glob.glob(path_dataset + '*') \n",
        "\n",
        "#Seleciona o ultimo arquivo que foi criado e adicionado na pasta\n",
        "file_path = max(files_list, key=os.path.getctime) \n",
        "file_path"
      ]
    },
    {
      "cell_type": "code",
      "execution_count": null,
      "metadata": {
        "id": "k9r54goTze0C"
      },
      "outputs": [],
      "source": [
        "#Leitura e exibição do Arquivo\n",
        "data_set = pd.read_excel(file_path, sheet_name='Base')\n",
        "\n",
        "data_set"
      ]
    },
    {
      "cell_type": "code",
      "execution_count": null,
      "metadata": {
        "id": "8WGWqmOUgZ4a"
      },
      "outputs": [],
      "source": [
        "#Retira colunas desnecessárias para o treinamento\n",
        "data = data_set.drop(data_set.columns[4:], axis=1, inplace=False)\n",
        "\n",
        "#print(data)\n",
        "#Converte coluna de data (que é string) para datetime \n",
        "data['Ano'] = pd.to_datetime(data['Ano'],format='%Y')\n",
        "#print(data)"
      ]
    },
    {
      "cell_type": "markdown",
      "metadata": {
        "id": "XmBpYSX9kN2f"
      },
      "source": [
        "##Pós-processamento e armazenamento de dados gerados"
      ]
    },
    {
      "cell_type": "code",
      "execution_count": null,
      "metadata": {
        "id": "zAKNcWVu7azl"
      },
      "outputs": [],
      "source": [
        "def pos_processing_and_saveFig(sclr_Serie,ser_scaled,ser_pred,ser_hist_fcast,serie_name,name_model): \n",
        "  #Volta para a escala original\n",
        "  ser_back = sclr_Serie.inverse_transform(ser_scaled)\n",
        "  ser_back_pred = sclr_Serie.inverse_transform(ser_pred)\n",
        "  ser_back_hist_fcast = sclr_Serie.inverse_transform(ser_hist_fcast)\n",
        "\n",
        "  #Visualização das predições\n",
        "  fig, ax = plt.subplots(figsize=(8,4));\n",
        "  fig.suptitle(target_variable, fontsize=12);\n",
        "  ser_back.plot()\n",
        "  ser_back_pred.plot(label = name_model + ' forecast ahead')\n",
        "  ser_back_hist_fcast.plot(label = name_model + ' historical forecast')\n",
        "\n",
        "  #Salva o plot com figura 'output.png'\n",
        "  plt.savefig(path_figs + serie_name + '_' + name_model + '.png')\n",
        "\n",
        "  return ser_back, ser_back_pred, ser_back_hist_fcast"
      ]
    },
    {
      "cell_type": "code",
      "execution_count": null,
      "metadata": {
        "id": "vvjm81KY7azm"
      },
      "outputs": [],
      "source": [
        "def pos_processing_and_saveForecasts_CSV(serie_back, serie_back_pred, serie_back_hist_fcast, serie_name,name_model):\n",
        "\n",
        "  #Tratamento para exportação em CSV\n",
        "  df_export_Serie = serie_back.pd_dataframe()\n",
        "  df_export_Hist_fcast = serie_back_hist_fcast.pd_dataframe()\n",
        "  df_export_Pred = serie_back_pred.pd_dataframe()\n",
        "\n",
        "  df_export_Pred.index.names = ['Ano']\n",
        "  df_export_Hist_fcast = df_export_Hist_fcast.rename({'0': serie_name + '_real'}, axis= 'columns') \n",
        "  df_export_Hist_fcast.index.names = ['Ano']\n",
        "\n",
        "  df_prediction = pd.concat([df_export_Hist_fcast[:-num_years_of_slide_val], df_export_Pred])\n",
        "\n",
        "  df_export_Serie[serie_name+'_predicted'] = df_prediction[serie_name+'_real']\n",
        "\n",
        "  df_export_Serie = df_export_Serie.reset_index()\n",
        "\n",
        "  ultimo_ano = df_export_Pred.reset_index()['Ano'].values[-num_years_of_slide_val]\n",
        "\n",
        "  ultimo_valor = df_export_Pred.reset_index()[serie_name+'_real'].values[-num_years_of_slide_val]\n",
        "\n",
        "  new_row = {'Ano':ultimo_ano, serie_name+'_predicted':ultimo_valor}\n",
        "\n",
        "  df_export_Serie = df_export_Serie.append(new_row, ignore_index=True)\n",
        "  print(df_export_Serie)\n",
        "\n",
        "  #Exportação do dado\n",
        "  df_export_Serie.to_csv(path_csv+serie_name+'_'+name_model+'.csv', index=False)\n",
        "\n",
        "  return df_export_Serie"
      ]
    },
    {
      "cell_type": "code",
      "source": [
        "def generate_nameSerie(variable_, region_): # gerar nomes das séries com os parâmetros: variável e região\n",
        "  #Gerar nome da serie.\n",
        "  caracters_to_remove = \"()1234567890\"\n",
        "\n",
        "  variable = variable_\n",
        "  region = region_\n",
        "  \n",
        "  for char in caracters_to_remove:\n",
        "    region = region.replace(char, \"\")\n",
        "\n",
        "  region = region.replace(\" I\", \"_I\")\n",
        "  region = region.replace(\" \", \"\")\n",
        "\n",
        "  variable = variable.replace('Coeficiente de detecção','')\n",
        "  variable = variable.replace(' ','')      \n",
        "  serie_name = region + '_' + variable\n",
        "\n",
        "  return serie_name"
      ],
      "metadata": {
        "id": "OgYEPB5VQa0C"
      },
      "execution_count": null,
      "outputs": []
    },
    {
      "cell_type": "code",
      "execution_count": null,
      "metadata": {
        "id": "HkbN3mGSDze_"
      },
      "outputs": [],
      "source": [
        "variables = [''] # simulando variáveis\n",
        "\n",
        "\n",
        "\n",
        "#==========Para testes============\n",
        "models = ['N-BEATS'] \n",
        "\n",
        "# BLOCK_LSTM - BLOCK_GRU\n",
        "\n",
        "\n",
        "#variables = ['Coeficiente de detecção geral'] \n",
        "#regions = ['MARAJÓ I ( 9 )'] \n",
        "#models = ['N-BEATS']\n",
        "\n",
        "regions = ['MARAJÓ II (7)',\n",
        "          'METROPOLITANA I (05)',\n",
        "          'METROPOLITANA II (09)',\n",
        "          'METROPOLITANA III (22)',\n",
        "          'RIO CAETÉS (16)',\n",
        "          'TAPAJÓS (06)',\n",
        "          'TOCANTINS (09)',\n",
        "          'XINGU (09)']\n",
        "\n",
        "#===================================\n",
        "\n",
        "for a in variables:\n",
        "  for b in regions:\n",
        "    for c in models: \n",
        "\n",
        "      serie_name = generate_nameSerie(a, b)\n",
        "\n",
        "      print('Variavel: {}. Regiao: {}. Modelo: {}. Nome da serie: {}'.format(a, b, c, serie_name))\n",
        "      print('------------------------------------------')\n",
        "\n",
        "      target_variable = a\n",
        "      target_region = b\n",
        "      name_model = c\n",
        "\n",
        "      #Pós-processamento e salvar as figuras. \n",
        "      serie_back, serie_back_pred, serie_back_hist_fcast = pos_processing_and_saveFig(scaler_Serie,serie_scaled,serie_pred,serie_hist_fcast,serie_name,name_model)\n",
        "      \n",
        "      #Pós-processamento e salvar as CSVs.\n",
        "      export_Serie = pos_processing_and_saveForecasts_CSV(serie_back, serie_back_pred, serie_back_hist_fcast, serie_name, name_model)"
      ]
    }
  ],
  "metadata": {
    "colab": {
      "collapsed_sections": [
        "JB8iPpls_3d1",
        "RiNGBVhbu12n",
        "8xX7CbOt0G9_",
        "XmBpYSX9kN2f"
      ],
      "provenance": [],
      "include_colab_link": true
    },
    "kernelspec": {
      "display_name": "Python 3",
      "name": "python3"
    },
    "language_info": {
      "name": "python"
    }
  },
  "nbformat": 4,
  "nbformat_minor": 0
}