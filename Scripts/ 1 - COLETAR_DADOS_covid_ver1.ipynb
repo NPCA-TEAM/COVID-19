{
  "cells": [
    {
      "cell_type": "markdown",
      "metadata": {
        "id": "view-in-github",
        "colab_type": "text"
      },
      "source": [
        "<a href=\"https://colab.research.google.com/github/NPCA-TEAM/COVID-19/blob/main/Scripts/%201%20-%20COLETAR_DADOS_covid_ver1.ipynb\" target=\"_parent\"><img src=\"https://colab.research.google.com/assets/colab-badge.svg\" alt=\"Open In Colab\"/></a>"
      ]
    },
    {
      "cell_type": "markdown",
      "metadata": {
        "id": "om_nzOACA2lo"
      },
      "source": [
        "##Instalações e Importação das bibliotecas\n"
      ]
    },
    {
      "cell_type": "code",
      "execution_count": null,
      "metadata": {
        "id": "t00cMnMT_or3"
      },
      "outputs": [],
      "source": [
        "from google.colab import drive\n",
        "drive.mount('/content/drive')"
      ]
    },
    {
      "cell_type": "code",
      "execution_count": null,
      "metadata": {
        "id": "2AbAgszKFubh"
      },
      "outputs": [],
      "source": [
        "!pip install wget  "
      ]
    },
    {
      "cell_type": "code",
      "execution_count": null,
      "metadata": {
        "id": "r27wHprvA2A5"
      },
      "outputs": [],
      "source": [
        "import pandas as pd\n",
        "import numpy as nd\n",
        "import matplotlib.pyplot as plt\n",
        "import wget\n",
        "import os\n",
        "import time"
      ]
    },
    {
      "cell_type": "markdown",
      "metadata": {
        "id": "gdIvuL5S6VE3"
      },
      "source": [
        "##Coletar Média Móveis de Casos. Download do arquivo csv."
      ]
    },
    {
      "cell_type": "code",
      "execution_count": null,
      "metadata": {
        "id": "tMBB8ecWAptE"
      },
      "outputs": [],
      "source": [
        "url_casos = \"https://www.covid-19.pa.gov.br/public/question/04607bb0-ca5b-41cd-88ac-751d1ba5bda2.csv\"\n",
        "pasta_download = \"/content/drive/MyDrive/NPCA - COVID/LakeData/Casos/\"\n",
        "\n",
        "# Alteração do diretório de destino\n",
        "os.chdir(pasta_download)\n",
        "\n",
        "# Download dos arquivos com nome, data e numeração.\n",
        "data_download = time.localtime() \n",
        "data_download_string = time.strftime(\"%d_%m_%Y\", data_download)\n",
        "nome_arquivo = \"MMC_PA_\"+data_download_string\n",
        "\n",
        "result = os.system(f'wget -O {nome_arquivo+\".csv\"} --no-check-certificate {url_casos}')\n",
        "result"
      ]
    },
    {
      "cell_type": "markdown",
      "metadata": {
        "id": "P4plIFdquUA3"
      },
      "source": [
        "Visualização dos dados do arquivo de casos \n"
      ]
    },
    {
      "cell_type": "code",
      "execution_count": null,
      "metadata": {
        "id": "hJQZvdiiEYvn"
      },
      "outputs": [],
      "source": [
        "dados = pd.read_csv(pasta_download+nome_arquivo+\".csv\", sep = ';')\n",
        "dados"
      ]
    },
    {
      "cell_type": "markdown",
      "metadata": {
        "id": "J7eioSysauI8"
      },
      "source": [
        "\n",
        "\n",
        "#Coletar Média Móveis Óbitos. Download do arquivo csv.\n",
        "\n",
        "\n"
      ]
    },
    {
      "cell_type": "code",
      "execution_count": null,
      "metadata": {
        "id": "eyZ5m7rO6jBT"
      },
      "outputs": [],
      "source": [
        "url_obitos = \"https://www.covid-19.pa.gov.br/public/question/7db71b3e-9d3e-4a8e-8ee7-dfc28ff44aac.csv\" #IDENTIFICAR NO SITE O CSV DE OBITOS\n",
        "pasta_download = \"/content/drive/MyDrive/NPCA - COVID/LakeData/Óbitos/\"\n",
        "\n",
        "# Alteração do diretório de destino\n",
        "os.chdir(pasta_download)\n",
        "\n",
        "# Download dos arquivos com nome, data e numeração.\n",
        "data_download = time.localtime() \n",
        "data_download_string = time.strftime(\"%d_%m_%Y\", data_download)\n",
        "nome_arquivo = \"MMO_PA_\"+data_download_string\n",
        "\n",
        "result = os.system(f'wget -O {nome_arquivo+\".csv\"} --no-check-certificate {url_obitos}')\n",
        "result"
      ]
    },
    {
      "cell_type": "markdown",
      "metadata": {
        "id": "EiuNGDu6DiUU"
      },
      "source": [
        "Visualização dos dados do arquivo de óbitos \n"
      ]
    },
    {
      "cell_type": "code",
      "execution_count": null,
      "metadata": {
        "id": "HTTCVXKrDOng"
      },
      "outputs": [],
      "source": [
        "dados = pd.read_csv(pasta_download+nome_arquivo+\".csv\", sep = ';')\n",
        "dados"
      ]
    },
    {
      "cell_type": "markdown",
      "metadata": {
        "id": "mDyu855a9HYt"
      },
      "source": [
        "Continua no script de INTEGRAR OS DADOS.\n",
        "\n",
        "Link:  https://colab.research.google.com/drive/1-gQsgKs330cARrtb5phxdOlS-53qgYKQ#scrollTo=LocReGiHvr3Z"
      ]
    }
  ],
  "metadata": {
    "colab": {
      "provenance": [],
      "include_colab_link": true
    },
    "kernelspec": {
      "display_name": "Python 3",
      "name": "python3"
    },
    "language_info": {
      "name": "python"
    }
  },
  "nbformat": 4,
  "nbformat_minor": 0
}