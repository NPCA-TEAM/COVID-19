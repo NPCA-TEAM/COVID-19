{
  "nbformat": 4,
  "nbformat_minor": 0,
  "metadata": {
    "colab": {
      "provenance": [],
      "authorship_tag": "ABX9TyPMehqT0qRAqlYX2sgQu2SU",
      "include_colab_link": true
    },
    "kernelspec": {
      "name": "python3",
      "display_name": "Python 3"
    },
    "language_info": {
      "name": "python"
    }
  },
  "cells": [
    {
      "cell_type": "markdown",
      "metadata": {
        "id": "view-in-github",
        "colab_type": "text"
      },
      "source": [
        "<a href=\"https://colab.research.google.com/github/NPCA-TEAM/COVID-19/blob/main/TREINAR_MODELOS_covid_ver1.ipynb\" target=\"_parent\"><img src=\"https://colab.research.google.com/assets/colab-badge.svg\" alt=\"Open In Colab\"/></a>"
      ]
    },
    {
      "cell_type": "markdown",
      "source": [
        "##Instalação e importação de bibliotecas"
      ],
      "metadata": {
        "id": "MDVRez9ivbXr"
      }
    },
    {
      "cell_type": "code",
      "execution_count": null,
      "metadata": {
        "id": "ZHspQlh_vMUt"
      },
      "outputs": [],
      "source": [
        "!pip install darts "
      ]
    },
    {
      "cell_type": "code",
      "source": [
        "!pip install matplotlib==3.1.1"
      ],
      "metadata": {
        "id": "RN_kqgcAFaDY"
      },
      "execution_count": null,
      "outputs": []
    },
    {
      "cell_type": "code",
      "source": [
        "%load_ext autoreload\n",
        "%autoreload 2\n",
        "%matplotlib inline\n",
        "\n",
        "import pandas as pd\n",
        "import numpy as np\n",
        "import glob\n",
        "import os\n",
        "import sys\n",
        "import time\n",
        "\n",
        "import matplotlib.pyplot as plt\n",
        "from matplotlib.dates import DateFormatter\n",
        "\n",
        "from datetime import datetime\n",
        "from darts import TimeSeries\n",
        "\n",
        "from darts.models import (\n",
        "    NaiveSeasonal,\n",
        "    NaiveDrift,\n",
        "    Prophet,\n",
        "    ExponentialSmoothing,\n",
        "    ARIMA,\n",
        "    AutoARIMA,\n",
        "    RegressionEnsembleModel,\n",
        "    RegressionModel,\n",
        "    Theta,\n",
        "    FFT\n",
        ")\n",
        "\n",
        "from darts.metrics import mape, mase\n",
        "from darts.utils.statistics import check_seasonality, plot_acf, plot_residuals_analysis, plot_hist\n",
        "\n",
        "import warnings\n",
        "warnings.filterwarnings('ignore')\n",
        "import logging\n",
        "logging.disable(logging.CRITICAL)"
      ],
      "metadata": {
        "id": "LocReGiHvr3Z"
      },
      "execution_count": null,
      "outputs": []
    },
    {
      "cell_type": "markdown",
      "source": [
        "##Leitura do dataset"
      ],
      "metadata": {
        "id": "8xX7CbOt0G9_"
      }
    },
    {
      "cell_type": "code",
      "source": [
        "from google.colab import drive\n",
        "drive.mount('/content/drive')"
      ],
      "metadata": {
        "id": "snGnbJq7yT1u"
      },
      "execution_count": null,
      "outputs": []
    },
    {
      "cell_type": "code",
      "source": [
        "#Seleciona o arquivo recentemente baixado da pasta de CSVs\n",
        "pasta = '/content/drive/MyDrive/NPCA - COVID/CSV/' \n",
        "lista_de_arquivos = glob.glob(pasta+'*') \n",
        "#Seleciona o ultimo arquivo que foi criado e adicioado na pasta\n",
        "arquivo = max(lista_de_arquivos, key=os.path.getctime) \n",
        "arquivo"
      ],
      "metadata": {
        "id": "KTceoiaBx42u"
      },
      "execution_count": null,
      "outputs": []
    },
    {
      "cell_type": "code",
      "source": [
        "#Leitura do Arquivo\n",
        "data_set = pd.read_csv(arquivo)\n",
        "data_set"
      ],
      "metadata": {
        "id": "k9r54goTze0C"
      },
      "execution_count": null,
      "outputs": []
    },
    {
      "cell_type": "markdown",
      "source": [
        "#Tratamento dos dados"
      ],
      "metadata": {
        "id": "tRIr-IQKTOWc"
      }
    },
    {
      "cell_type": "code",
      "source": [
        "#Converte coluna de data (strng) para datetime \n",
        "data_set['data'] = pd.to_datetime(data_set['data'])\n",
        "#Converte o tipo de dado datetime para formato de data Ano-Mês-Dia\n",
        "data_set['data'] = data_set['data'].values.astype('datetime64[D]')\n",
        "\n",
        "# Seleciona as series temporais dropando as colunas\n",
        "# Qtd. pela data do sintoma é o alvo da nossa análise. \n",
        "#Se conseguirmos prever essa variável o gestor público poderá antever tomadas de decisões relevantes para mitigação da COVID\n",
        "df_publicacao = data_set.drop(data_set.columns[1], axis=1, inplace=False)\n",
        "serie_publicacao = TimeSeries.from_dataframe(df_publicacao,'data','Qtd. pela data da publicação')\n",
        "df_sintoma = data_set.drop(data_set.columns[2], axis=1, inplace=False)\n",
        "serie_sintoma = TimeSeries.from_dataframe(df_sintoma,'data','Qtd. pela data do sintoma')"
      ],
      "metadata": {
        "id": "UZEmNUcj2R3v"
      },
      "execution_count": null,
      "outputs": []
    },
    {
      "cell_type": "markdown",
      "source": [
        "##Visualização Inicial"
      ],
      "metadata": {
        "id": "x-93weurtNNc"
      }
    },
    {
      "cell_type": "code",
      "source": [
        "fig, ax = plt.subplots(figsize=(12,6));\n",
        "fig.suptitle('Média móvel de casos de COVID-19 no estado do Pará', fontsize=10);\n",
        "serie_sintoma.plot();\n",
        "serie_publicacao.plot();\n",
        "ax.xaxis.set_major_formatter(DateFormatter(\"%d/%m/%y\"))\n",
        "\n",
        "#Salva o plot com figura 'output.png'\n",
        "#plt.savefig('output.png')"
      ],
      "metadata": {
        "id": "FMLPyiQLG8qA"
      },
      "execution_count": null,
      "outputs": []
    },
    {
      "cell_type": "code",
      "source": [
        "# Seleciona e plota os ultimos 21 dias \n",
        "num_dias_val = 21\n",
        "train_sintoma, val_sintoma = serie_sintoma[:-num_dias_val], serie_sintoma[-num_dias_val:]\n",
        "train_publicacao, val_publicacao = serie_publicacao[:-num_dias_val], serie_publicacao[-num_dias_val:]\n"
      ],
      "metadata": {
        "id": "5QwK-LzUtTmM"
      },
      "execution_count": null,
      "outputs": []
    },
    {
      "cell_type": "code",
      "source": [],
      "metadata": {
        "id": "kLSxEZ3totl9"
      },
      "execution_count": null,
      "outputs": []
    },
    {
      "cell_type": "markdown",
      "source": [
        "Continua no script de POS_PROCESSAMENTO.\n",
        "\n",
        "Link:  "
      ],
      "metadata": {
        "id": "GVu2XfVbT3aG"
      }
    }
  ]
}