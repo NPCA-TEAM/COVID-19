{
  "cells": [
    {
      "cell_type": "markdown",
      "metadata": {
        "id": "view-in-github",
        "colab_type": "text"
      },
      "source": [
        "<a href=\"https://colab.research.google.com/github/NPCA-TEAM/COVID-19/blob/main/Scripts/%202%20-%20INTEGRAR_DADOS_covid_ver1.ipynb\" target=\"_parent\"><img src=\"https://colab.research.google.com/assets/colab-badge.svg\" alt=\"Open In Colab\"/></a>"
      ]
    },
    {
      "cell_type": "markdown",
      "metadata": {
        "id": "MDVRez9ivbXr"
      },
      "source": [
        "#Instalação e importação de bibliotecas"
      ]
    },
    {
      "cell_type": "code",
      "execution_count": null,
      "metadata": {
        "id": "snGnbJq7yT1u",
        "colab": {
          "base_uri": "https://localhost:8080/"
        },
        "outputId": "fdc30965-e9ae-4cf4-843a-0f1e8708bb12"
      },
      "outputs": [
        {
          "output_type": "stream",
          "name": "stdout",
          "text": [
            "Mounted at /content/drive\n"
          ]
        }
      ],
      "source": [
        "from google.colab import drive\n",
        "drive.mount('/content/drive')"
      ]
    },
    {
      "cell_type": "code",
      "execution_count": null,
      "metadata": {
        "id": "ibdeoMLZlI7g"
      },
      "outputs": [],
      "source": [
        "!pip install xlsxwriter"
      ]
    },
    {
      "cell_type": "code",
      "execution_count": null,
      "metadata": {
        "id": "LocReGiHvr3Z"
      },
      "outputs": [],
      "source": [
        "import os\n",
        "import glob\n",
        "import pandas as pd # dataframes\n",
        "import numpy as nd\n",
        "import matplotlib.pyplot as plt # plotagem dos dados\n",
        "import os\n",
        "import time\n",
        "from datetime import datetime, timedelta, date"
      ]
    },
    {
      "cell_type": "markdown",
      "metadata": {
        "id": "qI03EOg8gBPd"
      },
      "source": [
        "# **CASOS**"
      ]
    },
    {
      "cell_type": "markdown",
      "metadata": {
        "id": "8xX7CbOt0G9_"
      },
      "source": [
        "#Leitura e visualização dos dados"
      ]
    },
    {
      "cell_type": "markdown",
      "metadata": {
        "id": "HtS7D-0CjBAm"
      },
      "source": [
        "##Casos média móvel Atual, 7 Dias, 14 Dias"
      ]
    },
    {
      "cell_type": "code",
      "execution_count": null,
      "metadata": {
        "id": "KTceoiaBx42u"
      },
      "outputs": [],
      "source": [
        "#Seleciona os arquivos de CASOS recentemente baixado da pasta de .CSVs (LakeData)\n",
        "pasta = '/content/drive/MyDrive/NPCA - COVID/LakeData/Casos/' \n",
        "lista_de_arquivos_casos = glob.glob(pasta+'*') \n",
        "print(*lista_de_arquivos_casos, sep = '\\n')\n",
        "print('-----------------------------------------------------------------------------')"
      ]
    },
    {
      "cell_type": "code",
      "execution_count": null,
      "metadata": {
        "id": "3Ca8uHJwW4Q1"
      },
      "outputs": [],
      "source": [
        "#Indice dos arquivos na lista ordenada. ALTERAR NUMEROS PARA 7 E 14 QUANDO TIVERMOS AO MENOS 15 ARQUIVOS NA PASTA\n",
        "indice_Setimo_dia_casos = 7\n",
        "indice_DecimoQuarto_dia_casos = 14\n",
        "\n",
        "#Ordena arquivos por data de criação do arquivo. Ultimo arquivo a ser criado começa no inicio da lista.\n",
        "lista_de_arquivos_ordenados_casos= sorted(lista_de_arquivos_casos,key=os.path.getctime,reverse=True)\n",
        "print(*lista_de_arquivos_ordenados_casos,sep = \"\\n\")\n",
        "print('---------------------------------------------------------------------------')"
      ]
    },
    {
      "cell_type": "code",
      "execution_count": null,
      "metadata": {
        "id": "b_EbV3giVqdt"
      },
      "outputs": [],
      "source": [
        "#Seleciona o ultimo arquivo que foi criado e adicioado na pasta\n",
        "arquivo_atual_casos = lista_de_arquivos_ordenados_casos[0]\n",
        "#Seleciona o setimo arquivo que foi criado depois do ultimo arquivo adicionado na pasta\n",
        "arquivo_7dias_casos = lista_de_arquivos_ordenados_casos[indice_Setimo_dia_casos]\n",
        "#Seleciona o decimo quarto arquivo que foi criado depois do ultimo arquivo adicionado na pasta\n",
        "arquivo_14dias_casos = lista_de_arquivos_ordenados_casos[indice_DecimoQuarto_dia_casos]\n",
        "\n",
        "print('--------------------------------------------------------------------------------')\n",
        "print(arquivo_atual_casos)\n",
        "print(arquivo_7dias_casos)\n",
        "print(arquivo_14dias_casos)"
      ]
    },
    {
      "cell_type": "code",
      "execution_count": null,
      "metadata": {
        "id": "ge-RcB-_IRIl"
      },
      "outputs": [],
      "source": [
        "#Importando arquivos\n",
        "casos_media_movel_atual = pd.read_csv(arquivo_atual_casos, parse_dates=['data'])\n",
        "casos_media_movel_atual.info()\n",
        "\n",
        "casos_media_movel_7dias = pd.read_csv(arquivo_7dias_casos, parse_dates=['data'])\n",
        "casos_media_movel_7dias.info()\n",
        "\n",
        "casos_media_movel_14dias = pd.read_csv(arquivo_14dias_casos, parse_dates=['data'])\n",
        "casos_media_movel_14dias.info()"
      ]
    },
    {
      "cell_type": "markdown",
      "metadata": {
        "id": "zEd08HoAkAYK"
      },
      "source": [
        "#Porcentagem de vacinação: primeira, segunda e terceira dose."
      ]
    },
    {
      "cell_type": "code",
      "execution_count": null,
      "metadata": {
        "id": "NvWXlAAmRnej"
      },
      "outputs": [],
      "source": [
        "# importando os dados da COVID diretamente do GitHub\n",
        "dados = pd.read_csv(\"https://raw.githubusercontent.com/wcota/covid19br/master/cases-brazil-states.csv\")\n",
        "\n",
        "# alterar a coluna de data para o formato de data e hora\n",
        "dados['date'] = pd.to_datetime(dados['date'])\n",
        "\n",
        "# Filtrando os dados do Braisl, e mostrando apenas as colunas especificas:\n",
        "dados_PA_vacinados = dados.query(\"state == 'PA'\")[['date', \n",
        "                                                   'vaccinated_per_100_inhabitants',\n",
        "                                                   'vaccinated_second_per_100_inhabitants',\n",
        "                                                   'vaccinated_third_per_100_inhabitants']]\n",
        "\n",
        "dados_PA_vacinados.columns=['data','Vacinacao_Dose1_PA','Vacinacao_Dose2_PA','Vacinacao_Dose3_PA']\n",
        "\n",
        "plt.figure(figsize=(16, 4))\n",
        "plt.grid()\n",
        "plt.xlabel('date')\n",
        "plt.ylabel('doses')\n",
        "plt.title('COVID-19 Vaccination graph in Pará')\n",
        "plt.plot(dados_PA_vacinados['data'], dados_PA_vacinados['Vacinacao_Dose1_PA'], label='Vaccination_dose1_PA')\n",
        "plt.plot(dados_PA_vacinados['data'], dados_PA_vacinados['Vacinacao_Dose2_PA'], label='Vaccination_dose2_PA')\n",
        "plt.plot(dados_PA_vacinados['data'], dados_PA_vacinados['Vacinacao_Dose3_PA'], label='Vaccination_dose3_PA')\n",
        "plt.legend()\n",
        "\n",
        "# Salvando o gráfico em PNG:\n",
        "plt.savefig(f'/content/drive/MyDrive/NPCA - COVID/Graficos/Vaccination doses in Pará - Data collected day {date.today()}.png', dpi=300, transparent=True, bbox_inches='tight')\n",
        "\n",
        "# Imprimindo o dataframe:\n",
        "print(dados_PA_vacinados)"
      ]
    },
    {
      "cell_type": "markdown",
      "metadata": {
        "id": "tRIr-IQKTOWc"
      },
      "source": [
        "# Tratamento dos dados"
      ]
    },
    {
      "cell_type": "markdown",
      "metadata": {
        "id": "U7HviymN6pul"
      },
      "source": [
        "##Tratamento para casos média móvel "
      ]
    },
    {
      "cell_type": "code",
      "execution_count": null,
      "metadata": {
        "id": "nhEHTHV_yOC8"
      },
      "outputs": [],
      "source": [
        "#     PARA O DIA ATUAL - CASOS\n",
        "\n",
        "# Filtrando apenas a data e retirando o horario:\n",
        "casos_media_movel_atual['data'] = pd.to_datetime(casos_media_movel_atual['data'].dt.strftime('%Y-%m-%d'))\n",
        "\n",
        "# Tornando Data em indice:\n",
        "casos_media_movel_atual = casos_media_movel_atual.set_index('data')\n",
        "\n",
        "#Alterando nome das colunas\n",
        "casos_media_movel_atual = casos_media_movel_atual.rename(columns={'Qtd. pela data da publicação':'Casos_Publicacao_MM_atual_PA','Qtd. pela data do sintoma':'Casos_DataSintoma_MM_atual_PA'})                                                            \n",
        "                                \n",
        "# Plotando os dados:\n",
        "strDiaColetado = str(casos_media_movel_atual.index[-1])\n",
        "strDiaColetado = strDiaColetado.split(\" \")[0]\n",
        "\n",
        "# Plotando os dados:\n",
        "plt.figure(figsize=(16, 3))\n",
        "plt.grid()\n",
        "plt.xlabel('date')\n",
        "plt.ylabel('doses')\n",
        "\n",
        "plt.title(f'Moving average of COVID-19 cases in Pará')\n",
        "plt.plot(casos_media_movel_atual['Casos_DataSintoma_MM_atual_PA'], label='Cases_DateSymptom_MM_Current_PA')\n",
        "plt.plot(casos_media_movel_atual['Casos_Publicacao_MM_atual_PA'], label='Cases_Publication_MM_Current_PA')\n",
        "plt.legend()\n",
        "\n",
        "print(casos_media_movel_atual) \n",
        "\n",
        "# Salvando o frafico em PNG:\n",
        "plt.savefig(f'/content/drive/MyDrive/NPCA - COVID/Graficos/Moving average of cases in Pará - Data collected day {strDiaColetado}.png', dpi=300, transparent=True, bbox_inches='tight')     "
      ]
    },
    {
      "cell_type": "code",
      "execution_count": null,
      "metadata": {
        "id": "KM8Yz2icy56V"
      },
      "outputs": [],
      "source": [
        "#      PARA 7 DIAS - CASOS\n",
        "\n",
        "# Filtrando apenas a data e retirando o horario\n",
        "casos_media_movel_7dias['data'] = pd.to_datetime(casos_media_movel_7dias['data'].dt.strftime('%Y-%m-%d'))\n",
        "\n",
        "# Tornando Data em indice:\n",
        "casos_media_movel_7dias = casos_media_movel_7dias.set_index('data')\n",
        "\n",
        "#Alterando nome das colunas\n",
        "casos_media_movel_7dias = casos_media_movel_7dias.rename(columns={'Qtd. pela data da publicação':'Casos_Publicacao_MM_7dias_PA','Qtd. pela data do sintoma':'Casos_DataSintoma_MM_7dias_PA'})\n",
        "                                                                                                                                                                                                                                                                                         \n",
        "\n",
        "# Plotando os dados:\n",
        "strDiaColetado = str(casos_media_movel_7dias.index[-1])\n",
        "strDiaColetado = strDiaColetado.split(\" \")[0]\n",
        "\n",
        "# Plotando os dados:\n",
        "plt.figure(figsize=(16, 3))\n",
        "plt.grid()\n",
        "plt.xlabel('date')\n",
        "plt.ylabel('cases')\n",
        "\n",
        "plt.title(f'Moving average for 7 days of COVID-19 cases in Pará')\n",
        "plt.plot(casos_media_movel_7dias['Casos_DataSintoma_MM_7dias_PA'], label='Cases_DateSymptom_MM_7days_PA')\n",
        "plt.plot(casos_media_movel_7dias['Casos_Publicacao_MM_7dias_PA'], label='Cases_Publication_MM_7days_PA')\n",
        "plt.legend()\n",
        "\n",
        "print(casos_media_movel_7dias)  \n",
        "\n",
        "# Salvando o frafico em PNG:\n",
        "plt.savefig(f'/content/drive/MyDrive/NPCA - COVID/Graficos/Moving average for 7 days of COVID-19 cases in Pará - Data collected day {strDiaColetado}.png', dpi=300, transparent=True, bbox_inches='tight')\n"
      ]
    },
    {
      "cell_type": "code",
      "execution_count": null,
      "metadata": {
        "id": "R52rjv3Sz7UT"
      },
      "outputs": [],
      "source": [
        "#         PARA 14 DIAS - CASOS\n",
        "\n",
        "# Filtrando apenas a data e retirando o horario:\n",
        "casos_media_movel_14dias['data'] = pd.to_datetime(casos_media_movel_14dias['data'].dt.strftime('%Y-%m-%d'))\n",
        "\n",
        "# Tornando Data em indice:\n",
        "casos_media_movel_14dias = casos_media_movel_14dias.set_index('data')\n",
        "\n",
        "#Alterando nome das colunas\n",
        "casos_media_movel_14dias = casos_media_movel_14dias.rename(columns={'Qtd. pela data da publicação':'Casos_Publicacao_MM_14dias_PA','Qtd. pela data do sintoma':'Casos_DataSintoma_MM_14dias_PA'})\n",
        "                                                                                 \n",
        "\n",
        "#Plotando os dados:\n",
        "strDiaColetado = str(casos_media_movel_14dias.index[-1])\n",
        "strDiaColetado = strDiaColetado.split(\" \")[0]\n",
        "\n",
        "# Plotando os dados:\n",
        "plt.figure(figsize=(16, 3))\n",
        "plt.grid()\n",
        "plt.xlabel('date')\n",
        "plt.ylabel('cases')\n",
        "\n",
        "plt.title(f'Moving average for 14 days of COVID-19 cases in Pará')\n",
        "plt.plot(casos_media_movel_14dias['Casos_DataSintoma_MM_14dias_PA'], label='Cases_DateSymptom_MM_14days_PA')\n",
        "plt.plot(casos_media_movel_14dias['Casos_Publicacao_MM_14dias_PA'], label='Cases_Publication_MM_14days_PA')\n",
        "plt.legend()\n",
        "\n",
        "print(casos_media_movel_14dias)         \n",
        "\n",
        "# Salvando o frafico em PNG: \n",
        "plt.savefig(f'/content/drive/MyDrive/NPCA - COVID/Graficos/Moving average for 14 days of COVID-19 cases in Pará - Data collected day {strDiaColetado}.png', dpi=300, transparent=True, bbox_inches='tight')"
      ]
    },
    {
      "cell_type": "markdown",
      "metadata": {
        "id": "iWGZ8S4E6rzM"
      },
      "source": [
        "##Tratamento de vacinação "
      ]
    },
    {
      "cell_type": "code",
      "execution_count": null,
      "metadata": {
        "id": "UWZY3H4GNfq2"
      },
      "outputs": [],
      "source": [
        "# Normalização e criação de novas colunas em decimais (0=0% e 1=100%)\n",
        "dados_PA_vacinados['Vacinacao_Dose1_%decimal_PA'] = dados_PA_vacinados ['Vacinacao_Dose1_PA'] * 0.01                                                               \n",
        "dados_PA_vacinados['Vacinacao_Dose2_%decimal_PA'] = dados_PA_vacinados ['Vacinacao_Dose2_PA'] * 0.01\n",
        "dados_PA_vacinados['Vacinacao_Dose3_%decimal_PA'] = dados_PA_vacinados ['Vacinacao_Dose3_PA'] * 0.01\n",
        "\n",
        "# Filtrando os dados em decimais\n",
        "dados_PA_vacinacao_dec = dados_PA_vacinados.filter(items = ['data',\n",
        "                                                            'Vacinacao_Dose1_%decimal_PA',\n",
        "                                                            'Vacinacao_Dose2_%decimal_PA',\n",
        "                                                            'Vacinacao_Dose3_%decimal_PA'])\n",
        "\n",
        "#Renomeano o nome  das colunas apenas para o gráfico  \n",
        "plt.figure(figsize=(16, 4))\n",
        "plt.grid()\n",
        "plt.xlabel('date')\n",
        "plt.ylabel('doses')\n",
        "plt.title('COVID-19 vaccination graph in Pará (Treaty 0-1)')\n",
        "plt.plot(dados_PA_vacinados['data'], dados_PA_vacinados['Vacinacao_Dose1_%decimal_PA'], label='Vaccination_dose1_PA')\n",
        "plt.plot(dados_PA_vacinados['data'], dados_PA_vacinados['Vacinacao_Dose2_%decimal_PA'], label='Vaccination_dose2_PA')\n",
        "plt.plot(dados_PA_vacinados['data'], dados_PA_vacinados['Vacinacao_Dose3_%decimal_PA'], label='Vaccination_dose3_PA')\n",
        "plt.legend()\n",
        "\n",
        "print(dados_PA_vacinacao_dec)   \n",
        "\n",
        "# Salvando o frafico em PNG: \n",
        "plt.savefig(f'/content/drive/MyDrive/NPCA - COVID/Graficos/COVID-19 Vaccination graph in Pará (Treaty 0-1) - Data collected day {date.today()}.png', dpi=300, transparent=True, bbox_inches='tight')  "
      ]
    },
    {
      "cell_type": "code",
      "execution_count": null,
      "metadata": {
        "id": "RNpcikeEiETQ"
      },
      "outputs": [],
      "source": [
        "# Tornando Data em indice:\n",
        "dados_PA_vacinacao_dec = dados_PA_vacinacao_dec.set_index('data')\n",
        "dados_PA_vacinacao_dec\n",
        "dados_PA_vacinacao_dec"
      ]
    },
    {
      "cell_type": "markdown",
      "metadata": {
        "id": "LO6h9BtrVeda"
      },
      "source": [
        "#Integração dos dados"
      ]
    },
    {
      "cell_type": "code",
      "execution_count": null,
      "metadata": {
        "id": "DIUigYL5AuAi"
      },
      "outputs": [],
      "source": [
        "#Integrando dados e imprimindo os dados\n",
        "dados_unidos = pd.concat([casos_media_movel_atual,  casos_media_movel_7dias, casos_media_movel_14dias, dados_PA_vacinacao_dec], axis=1)\n",
        "\n",
        "# obitos_media_movel_atual, obitos_media_movel_7dias, obitos_media_movel_14dias,\n",
        "dados_unidos"
      ]
    },
    {
      "cell_type": "code",
      "execution_count": null,
      "metadata": {
        "id": "Oqvtx5id13Sk"
      },
      "outputs": [],
      "source": [
        "# Imprimindo o grafico:\n",
        "\n",
        "# Plotando os dados:\n",
        "plt.figure(figsize=(20, 8))\n",
        "plt.grid()\n",
        "plt.xlabel('date')\n",
        "plt.ylabel('data')\n",
        "plt.title(f'Pará Partial Graph - Data collected daily {strDiaColetado}')\n",
        "\n",
        "#VACINAÇÃO\n",
        "\n",
        "plt.plot(dados_unidos['Vacinacao_Dose1_%decimal_PA'], label='Vaccination_dose1_PA')\n",
        "plt.plot(dados_unidos['Vacinacao_Dose2_%decimal_PA'], label='Vaccination_dose2_PA')\n",
        "plt.plot(dados_unidos['Vacinacao_Dose3_%decimal_PA'], label='Vaccination_dose3_PA')\n",
        "\n",
        "#CASOS\n",
        "\n",
        "#Dias atuais\n",
        "plt.plot(dados_unidos['Casos_DataSintoma_MM_atual_PA'], label='Cases_DateSymptom_MM_Current_PA')\n",
        "plt.plot(dados_unidos['Casos_Publicacao_MM_atual_PA'], label='Cases_Publication_MM_Current_PA')\n",
        "\n",
        "#7 dias\n",
        "plt.plot(dados_unidos['Casos_DataSintoma_MM_7dias_PA'], label='Cases_DateSymptom_MM_7days_PA')\n",
        "plt.plot(dados_unidos['Casos_Publicacao_MM_7dias_PA'], label='Cases_Publication_MM_7days_PA')\n",
        "\n",
        "#14 dias\n",
        "plt.plot(dados_unidos['Casos_DataSintoma_MM_14dias_PA'], label='Cases_DateSymptom_MM_14days_PA')\n",
        "plt.plot(dados_unidos['Casos_Publicacao_MM_14dias_PA'], label='Cases_Publication_MM_14days_PA')\n",
        "plt.legend()\n",
        "\n",
        "# Salvando o frafico em PNG: \n",
        "plt.savefig(f'/content/drive/MyDrive/NPCA - COVID/Graficos/Pará Partial Graph - Data collected daily {date.today()}.png', dpi=300, transparent=True, bbox_inches='tight')  "
      ]
    },
    {
      "cell_type": "markdown",
      "metadata": {
        "id": "YSnzHHQ2rMam"
      },
      "source": [
        "#Exportação dos dados"
      ]
    },
    {
      "cell_type": "code",
      "execution_count": null,
      "metadata": {
        "id": "C26H4ldSVuVz"
      },
      "outputs": [],
      "source": [
        "# Exportando dados em Excel\n",
        "pasta_exportacao = \"/content/drive/MyDrive/NPCA - COVID/_CASOS/DataSet/\"\n",
        "data_exportacao = time.localtime() \n",
        "data_exportacao_string = time.strftime(\"%d_%m_%Y\")\n",
        "dados_unidos.to_excel(pasta_exportacao+'Dataset_'+str(data_exportacao_string)+'.xlsx', index = True)"
      ]
    },
    {
      "cell_type": "markdown",
      "metadata": {
        "id": "fpNo-nspy7Wx"
      },
      "source": [
        "#**OBITOS**"
      ]
    },
    {
      "cell_type": "markdown",
      "metadata": {
        "id": "hAZIybZagsFM"
      },
      "source": [
        "#Leitura e visualização dos dados"
      ]
    },
    {
      "cell_type": "markdown",
      "metadata": {
        "id": "PeYRtydmWuTI"
      },
      "source": [
        "##Óbitos média móvel Atual, 7 Dias, 14 Dias"
      ]
    },
    {
      "cell_type": "code",
      "execution_count": null,
      "metadata": {
        "id": "BfIZcZnoyxaS"
      },
      "outputs": [],
      "source": [
        "#Seleciona os arquivos de OBITOS recentemente baixado da pasta de .CSVs (LakeData)\n",
        "pasta = '/content/drive/MyDrive/NPCA - COVID/LakeData/Óbitos/' \n",
        "lista_de_arquivos_obitos = glob.glob(pasta+'*') \n",
        "print(*lista_de_arquivos_obitos, sep = '\\n')"
      ]
    },
    {
      "cell_type": "code",
      "execution_count": null,
      "metadata": {
        "id": "J0K3qxMfzH3L"
      },
      "outputs": [],
      "source": [
        "# Indice dos arquivos na lista ordenada. ALTERAR NUMEROS PARA 7 E 14 QUANDO TIVERMOS AO MENOS 15 ARQUIVOS NA PASTA\n",
        "indice_Setimo_dia_obitos= 7\n",
        "indice_DecimoQuarto_dia_obitos = 14\n",
        "\n",
        "# Ordena arquivos por data de criação do arquivo. Ultimo arquivo a ser criado começa no inicio da lista.\n",
        "lista_de_arquivos_ordenados_obitos = sorted(lista_de_arquivos_obitos,key=os.path.getctime,reverse=True)\n",
        "print(*lista_de_arquivos_ordenados_obitos,sep = \"\\n\")"
      ]
    },
    {
      "cell_type": "code",
      "execution_count": null,
      "metadata": {
        "id": "wFpAgkzLzVRK"
      },
      "outputs": [],
      "source": [
        "# Seleciona o ultimo arquivo que foi criado e adicioado na pasta\n",
        "arquivo_atual_obitos = lista_de_arquivos_ordenados_obitos[0]\n",
        "\n",
        "# Seleciona o setimo arquivo que foi criado depois do ultimo arquivo adicionado na pasta\n",
        "arquivo_7dias_obitos = lista_de_arquivos_ordenados_obitos[indice_Setimo_dia_obitos]\n",
        "\n",
        "# Seleciona o decimo quarto arquivo que foi criado depois do ultimo arquivo adicionado na pasta\n",
        "arquivo_14dias_obitos = lista_de_arquivos_ordenados_obitos[indice_DecimoQuarto_dia_obitos]\n",
        "\n",
        "print(arquivo_atual_obitos)\n",
        "print(arquivo_7dias_obitos)\n",
        "print(arquivo_14dias_obitos)"
      ]
    },
    {
      "cell_type": "code",
      "source": [
        "# Seleciona o decimo quarto arquivo que foi criado depois do ultimo arquivo adicionado na pasta\n",
        "\n",
        "#arquivo_14dias_obitos = lista_de_arquivos_ordenados_obitos[20]\n",
        "#print(arquivo_14dias_obitos)"
      ],
      "metadata": {
        "id": "lPjnj2aicWf3"
      },
      "execution_count": null,
      "outputs": []
    },
    {
      "cell_type": "code",
      "source": [
        "#df_teste = pd.read_csv('/content/drive/MyDrive/NPCA - COVID/LakeData/Óbitos/MMO_PA_31_10_2022.csv')\n",
        "#df_teste"
      ],
      "metadata": {
        "id": "FNfoO3SHZJFw"
      },
      "execution_count": null,
      "outputs": []
    },
    {
      "cell_type": "code",
      "execution_count": null,
      "metadata": {
        "id": "OC6nG6KDzd1g"
      },
      "outputs": [],
      "source": [
        "#Importando arquivos\n",
        "obitos_media_movel_atual = pd.read_csv(arquivo_atual_obitos, parse_dates=['data'])\n",
        "obitos_media_movel_atual.info()\n",
        "\n",
        "obitos_media_movel_7dias = pd.read_csv(arquivo_7dias_obitos, parse_dates=['data'])\n",
        "obitos_media_movel_7dias.info()\n",
        "\n",
        "obitos_media_movel_14dias = pd.read_csv(arquivo_14dias_obitos, parse_dates=['data'])\n",
        "obitos_media_movel_14dias.info()"
      ]
    },
    {
      "cell_type": "markdown",
      "metadata": {
        "id": "vuzEAyCP4KdJ"
      },
      "source": [
        "##Porcentagem de vacinação: primeira, segunda e terceira dose."
      ]
    },
    {
      "cell_type": "code",
      "execution_count": null,
      "metadata": {
        "id": "ckfO7YBXz8Gi"
      },
      "outputs": [],
      "source": [
        "# importando os dados da COVID diretamente do GitHub\n",
        "dados = pd.read_csv(\"https://raw.githubusercontent.com/wcota/covid19br/master/cases-brazil-states.csv\")\n",
        "\n",
        "# alterar a coluna de data para o formato de data e hora\n",
        "dados['date'] = pd.to_datetime(dados['date'])\n",
        "\n",
        "# Filtrando os dados do Braisl, e mostrando apenas as colunas especificas\n",
        "dados_PA_vacinados = dados.query(\"state == 'PA'\")[['date', \n",
        "                                                   'vaccinated_per_100_inhabitants',\n",
        "                                                   'vaccinated_second_per_100_inhabitants',\n",
        "                                                   'vaccinated_third_per_100_inhabitants']]\n",
        "\n",
        "dados_PA_vacinados.columns=['data','Vacinacao_Dose1_PA','Vacinacao_Dose2_PA','Vacinacao_Dose3_PA']\n",
        "\n",
        "# imprimindo todas as colunas disponiveis\n",
        "#print(dados.columns)\n",
        "\n",
        "# Plotando os dados\n",
        "#dados_PA_vacinados.plot.line(title='Vaccination doses in Pará', x=\"data\", y= ['Vacinacao_Dose1_PA',\n",
        "#                                                                              'Vacinacao_Dose2_PA',\n",
        "#     \n",
        "#                                                                         'Vacinacao_Dose3_PA'], figsize=(16,4)).grid(); \n",
        "plt.figure(figsize=(16, 4))\n",
        "plt.grid()\n",
        "plt.xlabel('date')\n",
        "plt.ylabel('doses')\n",
        "plt.title('COVID-19 Vaccination graph in Pará')\n",
        "plt.plot(dados_PA_vacinados['data'], dados_PA_vacinados['Vacinacao_Dose1_PA'], label='Vaccination_Dose1_PA')\n",
        "plt.plot(dados_PA_vacinados['data'], dados_PA_vacinados['Vacinacao_Dose2_PA'], label='Vaccination_Dose2_PA')\n",
        "plt.plot(dados_PA_vacinados['data'], dados_PA_vacinados['Vacinacao_Dose3_PA'], label='Vaccination_Dose3_PA')\n",
        "plt.legend()\n",
        "\n",
        "# Imprimindo o dataframe:\n",
        "print(dados_PA_vacinados)  \n",
        "\n",
        "# Salvando o gráfico em PNG:\n",
        "plt.savefig(f'/content/drive/MyDrive/NPCA - COVID/Graficos/Vaccination doses in Pará - Data collected day {date.today()}.png', dpi=300, transparent=True, bbox_inches='tight')                                                                                    "
      ]
    },
    {
      "cell_type": "markdown",
      "metadata": {
        "id": "r5JOH3BwZSRy"
      },
      "source": [
        "# Tratamento dos dados\n"
      ]
    },
    {
      "cell_type": "markdown",
      "metadata": {
        "id": "0jb7ajxwZZSy"
      },
      "source": [
        "##Tratamento para obitos média móvel "
      ]
    },
    {
      "cell_type": "code",
      "execution_count": null,
      "metadata": {
        "id": "AhPHR1Vm3qLn"
      },
      "outputs": [],
      "source": [
        "#         PARA O DIA ATUAL - OBITOS\n",
        "\n",
        "# Filtrando apenas a data e retirando o horario\n",
        "obitos_media_movel_atual['data'] = pd.to_datetime(obitos_media_movel_atual['data'].dt.strftime('%Y-%m-%d'))\n",
        "\n",
        "# Tornando Data em indice:\n",
        "obitos_media_movel_atual = obitos_media_movel_atual.set_index('data')\n",
        "\n",
        "#Alterando nome das colunas\n",
        "obitos_media_movel_atual = obitos_media_movel_atual.rename(columns={\"Qtd. pela data do óbito\":\"Obitos_DataOcorrencia_MM_atual_PA\",\"Qtd. pela data da publicação\":\"Obitos_Publicacao_MM_atual_PA\"}) \n",
        "                                                                                               \n",
        "# Plotando os dados:\n",
        "strDiaColetado = str(obitos_media_movel_atual.index[-1])\n",
        "strDiaColetado = strDiaColetado.split(\" \")[0]\n",
        "\n",
        "# Plotando os dados:\n",
        "plt.figure(figsize=(16, 3))\n",
        "plt.grid()\n",
        "plt.xlabel('date')\n",
        "plt.ylabel('deaths')\n",
        "\n",
        "plt.title(f'Current day moving average of COVID-19 deaths in Pará')\n",
        "plt.plot(obitos_media_movel_atual['Obitos_DataOcorrencia_MM_atual_PA'], label='Deaths_DateOccurrence_MM_Current_PA')\n",
        "plt.plot(obitos_media_movel_atual['Obitos_Publicacao_MM_atual_PA'], label='Deaths_Publication_MM_Current_PA')\n",
        "plt.legend()\n",
        "\n",
        "print(obitos_media_movel_atual) \n",
        "\n",
        "# Salvando o frafico em PNG: \n",
        "plt.savefig(f'/content/drive/MyDrive/NPCA - COVID/Graficos/Moving average of deaths from COVID-19 in Pará - Data collected day {strDiaColetado}.png', dpi=300, transparent=True, bbox_inches='tight')\n"
      ]
    },
    {
      "cell_type": "code",
      "execution_count": null,
      "metadata": {
        "id": "s6BQyAKs30Ew"
      },
      "outputs": [],
      "source": [
        "#         PARA 7 DIAS - OBITOS\n",
        "\n",
        "# Filtrando apenas a data e retirando o horario\n",
        "obitos_media_movel_7dias['data'] = pd.to_datetime(obitos_media_movel_7dias['data'].dt.strftime('%Y-%m-%d'))\n",
        "\n",
        "# Tornando Data em indice:\n",
        "obitos_media_movel_7dias = obitos_media_movel_7dias.set_index('data')\n",
        "\n",
        "\n",
        "#Alterando nome das colunas\n",
        "obitos_media_movel_7dias = obitos_media_movel_7dias.rename(columns={\"Qtd. pela data do óbito\":\"Obitos_DataOcorrencia_MM_7dias_PA\",\"Qtd. pela data da publicação\":\"Obitos_Publicacao_MM_7dias_PA\"})\n",
        "\n",
        "# Plotando os dados:\n",
        "strDiaColetado = str(obitos_media_movel_7dias.index[-1])\n",
        "strDiaColetado = strDiaColetado.split(\" \")[0]\n",
        "\n",
        "# Plotando os dados:\n",
        "plt.figure(figsize=(16, 3))\n",
        "plt.grid()\n",
        "plt.xlabel('date')\n",
        "plt.ylabel('deaths')\n",
        "\n",
        "plt.title(f'Moving average for 7 days of COVID-19 deaths in Pará')\n",
        "plt.plot(obitos_media_movel_7dias['Obitos_DataOcorrencia_MM_7dias_PA'], label='Deaths_DateOccurrence_MM_7days_PA')\n",
        "plt.plot(obitos_media_movel_7dias['Obitos_Publicacao_MM_7dias_PA'], label='Deaths_Publication_MM_7days_PA')\n",
        "plt.legend()\n",
        "\n",
        "print(obitos_media_movel_7dias)\n",
        "\n",
        "# Salvando o frafico em PNG: \n",
        "plt.savefig(f'/content/drive/MyDrive/NPCA - COVID/Graficos/Moving average for 7 days of deaths from COVID-19 in Pará - Data collected day {strDiaColetado}.png', dpi=300, transparent=True, bbox_inches='tight')"
      ]
    },
    {
      "cell_type": "code",
      "source": [
        "#df_teste = pd.read_csv('/content/drive/MyDrive/NPCA - COVID/')\n",
        "#df_teste"
      ],
      "metadata": {
        "id": "hIuq1LdGaRDm"
      },
      "execution_count": null,
      "outputs": []
    },
    {
      "cell_type": "code",
      "execution_count": null,
      "metadata": {
        "id": "clxI462G387R"
      },
      "outputs": [],
      "source": [
        "#         PARA 14 DIAS - OBITOS\n",
        "\n",
        "# Filtrando apenas a data e retirando o horario\n",
        "obitos_media_movel_14dias['data'] = pd.to_datetime(obitos_media_movel_14dias['data'].dt.strftime('%Y-%m-%d'))\n",
        "\n",
        "# Tornando Data em indice:\n",
        "obitos_media_movel_14dias = obitos_media_movel_14dias.set_index('data')\n",
        "\n",
        "#Alterando nome das colunas\n",
        "obitos_media_movel_14dias = obitos_media_movel_14dias.rename(columns={\"Qtd. pela data do óbito\":\"Obitos_DataOcorrencia_MM_14dias_PA\",\"Qtd. pela data da publicação\":\"Obitos_Publicacao_MM_14dias_PA\"})\n",
        "\n",
        "# Plotando os dados:\n",
        "strDiaColetado = str(obitos_media_movel_14dias.index[-1])\n",
        "strDiaColetado = strDiaColetado.split(\" \")[0]\n",
        "\n",
        "# Plotando os dados:\n",
        "plt.figure(figsize=(16, 3))\n",
        "plt.grid()\n",
        "plt.xlabel('date')\n",
        "plt.ylabel('deaths')\n",
        "\n",
        "plt.title(f'Moving average for 14 days of COVID-19 cases in Pará')\n",
        "plt.plot(obitos_media_movel_14dias['Obitos_DataOcorrencia_MM_14dias_PA'], label='Deaths_dateOccurrence_MM_14days_PA')\n",
        "plt.plot(obitos_media_movel_14dias['Obitos_Publicacao_MM_14dias_PA'], label='Deaths_Publication_MM_14days_PA')\n",
        "plt.legend()                                                                                                 \n",
        "\n",
        "print(obitos_media_movel_14dias) \n",
        "\n",
        "# Salvando o frafico em PNG: \n",
        "plt.savefig(f'/content/drive/MyDrive/NPCA - COVID/Graficos/Moving average for 14 days of deaths from COVID-19 in Pará - Data collected day {strDiaColetado}.png', dpi=300, transparent=True, bbox_inches='tight')\n"
      ]
    },
    {
      "cell_type": "markdown",
      "metadata": {
        "id": "37SeF-3ych_A"
      },
      "source": [
        "##Tratamento de vacinação \n"
      ]
    },
    {
      "cell_type": "code",
      "execution_count": null,
      "metadata": {
        "id": "fWCfDcLjcjv-"
      },
      "outputs": [],
      "source": [
        "# Normalização e criação de novas colunas em decimais (0=0% e 1=100%)\n",
        "dados_PA_vacinados['Vacinacao_Dose1_%decimal_PA'] = dados_PA_vacinados ['Vacinacao_Dose1_PA'] * 0.01                                                                     \n",
        "dados_PA_vacinados['Vacinacao_Dose2_%decimal_PA'] = dados_PA_vacinados ['Vacinacao_Dose2_PA'] * 0.01\n",
        "dados_PA_vacinados['Vacinacao_Dose3_%decimal_PA'] = dados_PA_vacinados ['Vacinacao_Dose3_PA'] * 0.01\n",
        "\n",
        "\n",
        "# Filtrando os dados em decimais\n",
        "dados_PA_vacinacao_dec = dados_PA_vacinados.filter(items = ['data',\n",
        "                                                            'Vacinacao_Dose1_%decimal_PA',\n",
        "                                                            'Vacinacao_Dose2_%decimal_PA',\n",
        "                                                            'Vacinacao_Dose3_%decimal_PA'])\n",
        "\n",
        "#Renomeano o nome  das colunas apenas para o gráfico  \n",
        "plt.figure(figsize=(16, 4))\n",
        "plt.grid()\n",
        "plt.xlabel('date')\n",
        "plt.ylabel('doses')\n",
        "plt.title('COVID-19 vaccination graph in Pará (Treaty 0-1)')\n",
        "plt.plot(dados_PA_vacinados['data'], dados_PA_vacinados['Vacinacao_Dose1_%decimal_PA'], label='Vaccination_dose1_PA')\n",
        "plt.plot(dados_PA_vacinados['data'], dados_PA_vacinados['Vacinacao_Dose2_%decimal_PA'], label='Vaccination_dose2_PA')\n",
        "plt.plot(dados_PA_vacinados['data'], dados_PA_vacinados['Vacinacao_Dose3_%decimal_PA'], label='Vaccination_dose3_PA')\n",
        "plt.legend()\n",
        "\n",
        "# Imprimindo as DataFrame\n",
        "print(dados_PA_vacinacao_dec)    \n",
        "\n",
        "# Salvando o frafico em PNG: \n",
        "plt.savefig(f'/content/drive/MyDrive/NPCA - COVID/Graficos/COVID-19 Vaccination graph in Pará (Treaty 0-1) - Data collected day {date.today()}.png', dpi=300, transparent=True, bbox_inches='tight')  "
      ]
    },
    {
      "cell_type": "code",
      "execution_count": null,
      "metadata": {
        "id": "kb91j0DXd3Nt"
      },
      "outputs": [],
      "source": [
        "# Tornando Data em indice:\n",
        "dados_PA_vacinacao_dec = dados_PA_vacinacao_dec.set_index('data')\n",
        "dados_PA_vacinacao_dec                                                                                            "
      ]
    },
    {
      "cell_type": "markdown",
      "metadata": {
        "id": "1uuU6-ruNwbY"
      },
      "source": [
        "#Integração dos dados OBITOS, CASOS E VACINAÇÃO"
      ]
    },
    {
      "cell_type": "code",
      "execution_count": null,
      "metadata": {
        "id": "s2P0FG6lNBDY"
      },
      "outputs": [],
      "source": [
        "#Integrando dados e imprimindo os dados\n",
        "dados_unidos = pd.concat([obitos_media_movel_atual, obitos_media_movel_7dias, obitos_media_movel_14dias,\n",
        "                          casos_media_movel_atual,  casos_media_movel_7dias, casos_media_movel_14dias,\n",
        "                          dados_PA_vacinacao_dec], axis=1)\n",
        "\n",
        "dados_unidos"
      ]
    },
    {
      "cell_type": "code",
      "execution_count": null,
      "metadata": {
        "id": "2MYIo0IPNYGl"
      },
      "outputs": [],
      "source": [
        "# Imprimindo o grafico:\n",
        "\n",
        "# Plotando os dados:\n",
        "plt.figure(figsize=(22, 8))\n",
        "plt.grid()\n",
        "plt.xlabel('date')\n",
        "plt.ylabel('dados')\n",
        "plt.title(f'Graph of data integration of COVID-19 in Pará - Data collected daily {strDiaColetado}')\n",
        "\n",
        "#VACINAÇÃO\n",
        "\n",
        "plt.plot(dados_unidos['Vacinacao_Dose1_%decimal_PA'], label='Vaccination_dose1_PA')\n",
        "plt.plot(dados_unidos['Vacinacao_Dose2_%decimal_PA'], label='Vaccination_dose2_PA')\n",
        "plt.plot(dados_unidos['Vacinacao_Dose3_%decimal_PA'], label='Vaccination_dose3_PA')\n",
        "\n",
        "#CASOS\n",
        "\n",
        "#Dias atuais\n",
        "plt.plot(dados_unidos['Casos_DataSintoma_MM_atual_PA'], label='Cases_DateSymptom_MM_Current_PA')\n",
        "plt.plot(dados_unidos['Casos_Publicacao_MM_atual_PA'], label='Cases_Publication_MM_Current_PA')\n",
        "\n",
        "#7 dias\n",
        "plt.plot(dados_unidos['Casos_DataSintoma_MM_7dias_PA'], label='Cases_DateSymptom_MM_7days_PA')\n",
        "plt.plot(dados_unidos['Casos_Publicacao_MM_7dias_PA'], label='Cases_Publication_MM_7days_PA')\n",
        "\n",
        "#14 dias\n",
        "plt.plot(dados_unidos['Casos_DataSintoma_MM_14dias_PA'], label='Cases_DateSymptom_MM_14days_PA')\n",
        "plt.plot(dados_unidos['Casos_Publicacao_MM_14dias_PA'], label='Cases_Publication_MM_14days_PA')\n",
        "\n",
        "#OBITOS\n",
        "\n",
        "#Dia atual\n",
        "plt.plot(dados_unidos['Obitos_DataOcorrencia_MM_atual_PA'], label='Deaths_dateOccurrence_MM_Current_PA')\n",
        "plt.plot(dados_unidos['Obitos_Publicacao_MM_atual_PA'], label='Deaths_Publication_MM_Current_PA')\n",
        "\n",
        "#7 dias\n",
        "#plt.plot(dados_unidos['Obitos_DataOcorrencia_MM_7dias_PA'], label='Deaths_dateOccurrence_MM_7days_PA')\n",
        "plt.plot(dados_unidos['Obitos_Publicacao_MM_7dias_PA'], label='Deaths_Publication_MM_7days_PA')\n",
        "\n",
        "#14 dias\n",
        "plt.plot(dados_unidos['Obitos_DataOcorrencia_MM_14dias_PA'], label='Deaths_dateOccurrence_MM_14days_PA')\n",
        "plt.plot(dados_unidos['Obitos_Publicacao_MM_14dias_PA'], label='Deaths_Publication_MM_14days_PA')\n",
        "plt.legend()\n",
        "                                                                                                  \n",
        "# Salvando o frafico em PNG: \n",
        "plt.savefig(f'/content/drive/MyDrive/NPCA - COVID/Graficos/Graph of data integration of COVID-19 in Pará - Data collected daily {date.today()}.png', dpi=300, transparent=True, bbox_inches='tight')  "
      ]
    },
    {
      "cell_type": "markdown",
      "metadata": {
        "id": "rPUZyRXaKcRJ"
      },
      "source": [
        "# Exportação dos dados"
      ]
    },
    {
      "cell_type": "code",
      "execution_count": null,
      "metadata": {
        "id": "bcZRuAliKc0g"
      },
      "outputs": [],
      "source": [
        "# Exportando dados em Excel\n",
        "pasta_exportacao = \"/content/drive/MyDrive/NPCA - COVID/_OBITOS/DataSet/\"\n",
        "data_exportacao = time.localtime() \n",
        "data_exportacao_string = time.strftime(\"%d_%m_%Y\")\n",
        "dados_unidos.to_excel(pasta_exportacao+'Dataset_'+str(data_exportacao_string)+'.xlsx', index = True)"
      ]
    },
    {
      "cell_type": "markdown",
      "metadata": {
        "id": "GVu2XfVbT3aG"
      },
      "source": [
        "Continua no script de INVESTIGAR OS DADOS.\n",
        "\n",
        "Link:  https://colab.research.google.com/drive/1_Yk77j6wZjSCwAgtUkbSHgT-xWrdSmL3#scrollTo=NJC8mlZdv95Z"
      ]
    }
  ],
  "metadata": {
    "colab": {
      "collapsed_sections": [
        "PeYRtydmWuTI"
      ],
      "provenance": [],
      "include_colab_link": true
    },
    "kernelspec": {
      "display_name": "Python 3",
      "name": "python3"
    },
    "language_info": {
      "name": "python"
    }
  },
  "nbformat": 4,
  "nbformat_minor": 0
}